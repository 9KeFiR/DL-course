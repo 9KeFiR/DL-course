{
  "cells": [
    {
      "cell_type": "markdown",
      "id": "b2e5acce",
      "metadata": {
        "id": "b2e5acce"
      },
      "source": [
        "## Задачи для совместного разбора"
      ]
    },
    {
      "cell_type": "markdown",
      "id": "cb56f308",
      "metadata": {
        "id": "cb56f308"
      },
      "source": [
        "1\\. Создайте тензор и исследуйте его основные характеристики"
      ]
    },
    {
      "cell_type": "code",
      "execution_count": null,
      "id": "c8478ed1",
      "metadata": {
        "colab": {
          "base_uri": "https://localhost:8080/",
          "height": 35
        },
        "id": "c8478ed1",
        "outputId": "534f7c35-030a-455d-f9e7-3769711fcc9e"
      },
      "outputs": [
        {
          "output_type": "execute_result",
          "data": {
            "text/plain": [
              "'2.4.0+cu121'"
            ],
            "application/vnd.google.colaboratory.intrinsic+json": {
              "type": "string"
            }
          },
          "metadata": {},
          "execution_count": 43
        }
      ],
      "source": [
        "import torch as th\n",
        "th.__version__"
      ]
    },
    {
      "cell_type": "code",
      "source": [
        "t = th.tensor([0, 2, 3,4,5])\n",
        "t, t.dtype"
      ],
      "metadata": {
        "colab": {
          "base_uri": "https://localhost:8080/"
        },
        "id": "kIi6ed_kXD6y",
        "outputId": "43dbcc90-d83f-4c0d-c160-fb51c392f7ae"
      },
      "id": "kIi6ed_kXD6y",
      "execution_count": null,
      "outputs": [
        {
          "output_type": "execute_result",
          "data": {
            "text/plain": [
              "(tensor([0, 2, 3, 4, 5]), torch.int64)"
            ]
          },
          "metadata": {},
          "execution_count": 45
        }
      ]
    },
    {
      "cell_type": "code",
      "source": [
        "t = th.Tensor([0,2,3,4,5]) #класс тенсор - float тип данных\n",
        "t, t.dtype"
      ],
      "metadata": {
        "colab": {
          "base_uri": "https://localhost:8080/"
        },
        "id": "XFPXgPsaXwq0",
        "outputId": "b194326e-5f72-4031-d398-58e954d51ec1"
      },
      "id": "XFPXgPsaXwq0",
      "execution_count": null,
      "outputs": [
        {
          "output_type": "execute_result",
          "data": {
            "text/plain": [
              "(tensor([0., 2., 3., 4., 5.]), torch.float32)"
            ]
          },
          "metadata": {},
          "execution_count": 46
        }
      ]
    },
    {
      "cell_type": "code",
      "source": [
        "t.shape"
      ],
      "metadata": {
        "colab": {
          "base_uri": "https://localhost:8080/"
        },
        "id": "U5hOGcYkYDO9",
        "outputId": "d476ff48-03cd-498b-b890-8588f30c3ad8"
      },
      "id": "U5hOGcYkYDO9",
      "execution_count": null,
      "outputs": [
        {
          "output_type": "execute_result",
          "data": {
            "text/plain": [
              "torch.Size([5])"
            ]
          },
          "metadata": {},
          "execution_count": 47
        }
      ]
    },
    {
      "cell_type": "code",
      "source": [
        "t3 = th.rand(5,6,7) # случайные значнеия из равноемрного распределения от 0 до 1\n",
        "t3.shape"
      ],
      "metadata": {
        "colab": {
          "base_uri": "https://localhost:8080/"
        },
        "id": "4G6Ue-zdYFkS",
        "outputId": "112541a5-072a-4a2e-8be5-6209f9b7bec1"
      },
      "id": "4G6Ue-zdYFkS",
      "execution_count": null,
      "outputs": [
        {
          "output_type": "execute_result",
          "data": {
            "text/plain": [
              "torch.Size([5, 6, 7])"
            ]
          },
          "metadata": {},
          "execution_count": 48
        }
      ]
    },
    {
      "cell_type": "code",
      "source": [
        "t3.device #на cpu, gpu, tpu"
      ],
      "metadata": {
        "colab": {
          "base_uri": "https://localhost:8080/"
        },
        "id": "YM_TrLAdYK3j",
        "outputId": "dde0eeeb-1c45-4650-8969-e8d44a9b0b52"
      },
      "id": "YM_TrLAdYK3j",
      "execution_count": null,
      "outputs": [
        {
          "output_type": "execute_result",
          "data": {
            "text/plain": [
              "device(type='cpu')"
            ]
          },
          "metadata": {},
          "execution_count": 49
        }
      ]
    },
    {
      "cell_type": "markdown",
      "id": "c1d14d26",
      "metadata": {
        "id": "c1d14d26"
      },
      "source": [
        "2\\. Создайте трехмерный тензор и рассмотрите основные способы индексирования по нему"
      ]
    },
    {
      "cell_type": "code",
      "source": [
        "t = th.rand(5,6,7)"
      ],
      "metadata": {
        "id": "VwYfdjXiYs0g"
      },
      "id": "VwYfdjXiYs0g",
      "execution_count": null,
      "outputs": []
    },
    {
      "cell_type": "code",
      "source": [
        "t[0,0,0]"
      ],
      "metadata": {
        "colab": {
          "base_uri": "https://localhost:8080/"
        },
        "id": "O-4mbQVMYvUO",
        "outputId": "c08324b4-bf9a-4e2a-fd4d-9b43c1c4499f"
      },
      "id": "O-4mbQVMYvUO",
      "execution_count": null,
      "outputs": [
        {
          "output_type": "execute_result",
          "data": {
            "text/plain": [
              "tensor(0.7741)"
            ]
          },
          "metadata": {},
          "execution_count": 51
        }
      ]
    },
    {
      "cell_type": "code",
      "source": [
        "t[0,[0, 1],0]"
      ],
      "metadata": {
        "colab": {
          "base_uri": "https://localhost:8080/"
        },
        "id": "xKr0nqGyY376",
        "outputId": "15cf35fa-bb43-470b-c8ef-6d9773da5576"
      },
      "id": "xKr0nqGyY376",
      "execution_count": null,
      "outputs": [
        {
          "output_type": "execute_result",
          "data": {
            "text/plain": [
              "tensor([0.7741, 0.5253])"
            ]
          },
          "metadata": {},
          "execution_count": 52
        }
      ]
    },
    {
      "cell_type": "code",
      "source": [
        "t[0, [0,1], :]"
      ],
      "metadata": {
        "colab": {
          "base_uri": "https://localhost:8080/"
        },
        "id": "y_FZ0U6gY-bH",
        "outputId": "409540e0-e148-46c1-b0e4-7f4e4f058371"
      },
      "id": "y_FZ0U6gY-bH",
      "execution_count": null,
      "outputs": [
        {
          "output_type": "execute_result",
          "data": {
            "text/plain": [
              "tensor([[0.7741, 0.0817, 0.4316, 0.1589, 0.6831, 0.4049, 0.5796],\n",
              "        [0.5253, 0.1019, 0.3019, 0.5565, 0.6331, 0.0104, 0.5349]])"
            ]
          },
          "metadata": {},
          "execution_count": 53
        }
      ]
    },
    {
      "cell_type": "code",
      "source": [
        "t[0, [0,1]]"
      ],
      "metadata": {
        "colab": {
          "base_uri": "https://localhost:8080/"
        },
        "id": "MS_F42RBZQ4W",
        "outputId": "23992d19-baa7-4dae-9197-f80ae1353526"
      },
      "id": "MS_F42RBZQ4W",
      "execution_count": null,
      "outputs": [
        {
          "output_type": "execute_result",
          "data": {
            "text/plain": [
              "tensor([[0.7741, 0.0817, 0.4316, 0.1589, 0.6831, 0.4049, 0.5796],\n",
              "        [0.5253, 0.1019, 0.3019, 0.5565, 0.6331, 0.0104, 0.5349]])"
            ]
          },
          "metadata": {},
          "execution_count": 54
        }
      ]
    },
    {
      "cell_type": "code",
      "source": [
        "t[0, [0,1], 3:5]"
      ],
      "metadata": {
        "colab": {
          "base_uri": "https://localhost:8080/"
        },
        "id": "1I9m9eShZSt5",
        "outputId": "d012bb70-0921-41f9-be22-7f6273c687fd"
      },
      "id": "1I9m9eShZSt5",
      "execution_count": null,
      "outputs": [
        {
          "output_type": "execute_result",
          "data": {
            "text/plain": [
              "tensor([[0.1589, 0.6831],\n",
              "        [0.5565, 0.6331]])"
            ]
          },
          "metadata": {},
          "execution_count": 55
        }
      ]
    },
    {
      "cell_type": "code",
      "source": [
        "t.size(0), t.shape #len(t)"
      ],
      "metadata": {
        "colab": {
          "base_uri": "https://localhost:8080/"
        },
        "id": "BbjW5vKPZYl_",
        "outputId": "031b0c82-4140-402c-810a-f0a755f4ba91"
      },
      "id": "BbjW5vKPZYl_",
      "execution_count": null,
      "outputs": [
        {
          "output_type": "execute_result",
          "data": {
            "text/plain": [
              "(5, torch.Size([5, 6, 7]))"
            ]
          },
          "metadata": {},
          "execution_count": 56
        }
      ]
    },
    {
      "cell_type": "code",
      "source": [
        "mask = [False, False, True, True, False]\n",
        "t[mask].shape"
      ],
      "metadata": {
        "colab": {
          "base_uri": "https://localhost:8080/"
        },
        "id": "94zx6-JRZjt8",
        "outputId": "3d361238-5118-4bde-a517-54cebcfb4b43"
      },
      "id": "94zx6-JRZjt8",
      "execution_count": null,
      "outputs": [
        {
          "output_type": "execute_result",
          "data": {
            "text/plain": [
              "torch.Size([2, 6, 7])"
            ]
          },
          "metadata": {},
          "execution_count": 57
        }
      ]
    },
    {
      "cell_type": "markdown",
      "id": "c4dfe946",
      "metadata": {
        "id": "c4dfe946"
      },
      "source": [
        "3\\. Создайте тензор (4х4) и модифицируйте следующим образом: ко всем четным столбцам прибавьте 1, из нечетных вычтите 1."
      ]
    },
    {
      "cell_type": "code",
      "source": [
        "t = th.arange(16).view(4,4)\n",
        "t"
      ],
      "metadata": {
        "colab": {
          "base_uri": "https://localhost:8080/"
        },
        "id": "8HKF1Z67aKAs",
        "outputId": "ad952be8-5396-4d24-eae7-e3dca56f934c"
      },
      "id": "8HKF1Z67aKAs",
      "execution_count": null,
      "outputs": [
        {
          "output_type": "execute_result",
          "data": {
            "text/plain": [
              "tensor([[ 0,  1,  2,  3],\n",
              "        [ 4,  5,  6,  7],\n",
              "        [ 8,  9, 10, 11],\n",
              "        [12, 13, 14, 15]])"
            ]
          },
          "metadata": {},
          "execution_count": 58
        }
      ]
    },
    {
      "cell_type": "code",
      "source": [
        "x = th.tensor([-1,1,-1,1])\n",
        "t.shape, x.shape"
      ],
      "metadata": {
        "colab": {
          "base_uri": "https://localhost:8080/"
        },
        "id": "2xI21HWqaSdb",
        "outputId": "da7e8805-8214-4b44-e278-5e2852e4d3b2"
      },
      "id": "2xI21HWqaSdb",
      "execution_count": null,
      "outputs": [
        {
          "output_type": "execute_result",
          "data": {
            "text/plain": [
              "(torch.Size([4, 4]), torch.Size([4]))"
            ]
          },
          "metadata": {},
          "execution_count": 59
        }
      ]
    },
    {
      "cell_type": "code",
      "source": [
        "t + x #x преобразовался автоматически в Size([4, 4])"
      ],
      "metadata": {
        "colab": {
          "base_uri": "https://localhost:8080/"
        },
        "id": "zgJ4VZZxagF6",
        "outputId": "2b9bde21-e94a-40f0-98ec-02f6ecff5e45"
      },
      "id": "zgJ4VZZxagF6",
      "execution_count": null,
      "outputs": [
        {
          "output_type": "execute_result",
          "data": {
            "text/plain": [
              "tensor([[-1,  2,  1,  4],\n",
              "        [ 3,  6,  5,  8],\n",
              "        [ 7, 10,  9, 12],\n",
              "        [11, 14, 13, 16]])"
            ]
          },
          "metadata": {},
          "execution_count": 60
        }
      ]
    },
    {
      "cell_type": "markdown",
      "id": "f73eb486",
      "metadata": {
        "id": "f73eb486"
      },
      "source": [
        "4\\. Обсудите совместимость `torch` с `numpy` и `sklearn`"
      ]
    },
    {
      "cell_type": "code",
      "source": [
        "th.sin(t)"
      ],
      "metadata": {
        "colab": {
          "base_uri": "https://localhost:8080/"
        },
        "id": "ngybQ9OdayZL",
        "outputId": "3c353e42-edd5-4d39-b3d4-c4692d168a98"
      },
      "id": "ngybQ9OdayZL",
      "execution_count": null,
      "outputs": [
        {
          "output_type": "execute_result",
          "data": {
            "text/plain": [
              "tensor([[ 0.0000,  0.8415,  0.9093,  0.1411],\n",
              "        [-0.7568, -0.9589, -0.2794,  0.6570],\n",
              "        [ 0.9894,  0.4121, -0.5440, -1.0000],\n",
              "        [-0.5366,  0.4202,  0.9906,  0.6503]])"
            ]
          },
          "metadata": {},
          "execution_count": 61
        }
      ]
    },
    {
      "cell_type": "code",
      "source": [
        "import numpy as np\n",
        "import torch as th\n",
        "np.sin(t) #псле переноса на gpu не работает, тк numpy только на опреатинвой памяти работает"
      ],
      "metadata": {
        "colab": {
          "base_uri": "https://localhost:8080/"
        },
        "id": "I8Lp6d2cbBZl",
        "outputId": "e214ae76-d5a3-4838-a25d-b78dfb11edd3"
      },
      "id": "I8Lp6d2cbBZl",
      "execution_count": null,
      "outputs": [
        {
          "output_type": "execute_result",
          "data": {
            "text/plain": [
              "tensor([[ 0.0000,  0.8415,  0.9093,  0.1411],\n",
              "        [-0.7568, -0.9589, -0.2794,  0.6570],\n",
              "        [ 0.9894,  0.4121, -0.5440, -1.0000],\n",
              "        [-0.5366,  0.4202,  0.9906,  0.6503]], dtype=torch.float64)"
            ]
          },
          "metadata": {},
          "execution_count": 62
        }
      ]
    },
    {
      "cell_type": "code",
      "source": [
        "#перенос на gpu\n",
        "t = th.rand(10,5, device='cuda') #по умолчанию на cpu\n",
        "t.device"
      ],
      "metadata": {
        "colab": {
          "base_uri": "https://localhost:8080/",
          "height": 315
        },
        "id": "hfqyOoyibHUU",
        "outputId": "b8918437-7d1c-4ff2-d939-af0847b40795"
      },
      "id": "hfqyOoyibHUU",
      "execution_count": null,
      "outputs": [
        {
          "output_type": "error",
          "ename": "RuntimeError",
          "evalue": "Found no NVIDIA driver on your system. Please check that you have an NVIDIA GPU and installed a driver from http://www.nvidia.com/Download/index.aspx",
          "traceback": [
            "\u001b[0;31m---------------------------------------------------------------------------\u001b[0m",
            "\u001b[0;31mRuntimeError\u001b[0m                              Traceback (most recent call last)",
            "\u001b[0;32m<ipython-input-63-8614ac5aca9f>\u001b[0m in \u001b[0;36m<cell line: 2>\u001b[0;34m()\u001b[0m\n\u001b[1;32m      1\u001b[0m \u001b[0;31m#перенос на gpu\u001b[0m\u001b[0;34m\u001b[0m\u001b[0;34m\u001b[0m\u001b[0m\n\u001b[0;32m----> 2\u001b[0;31m \u001b[0mt\u001b[0m \u001b[0;34m=\u001b[0m \u001b[0mth\u001b[0m\u001b[0;34m.\u001b[0m\u001b[0mrand\u001b[0m\u001b[0;34m(\u001b[0m\u001b[0;36m10\u001b[0m\u001b[0;34m,\u001b[0m\u001b[0;36m5\u001b[0m\u001b[0;34m,\u001b[0m \u001b[0mdevice\u001b[0m\u001b[0;34m=\u001b[0m\u001b[0;34m'cuda'\u001b[0m\u001b[0;34m)\u001b[0m \u001b[0;31m#по умолчанию на cpu\u001b[0m\u001b[0;34m\u001b[0m\u001b[0;34m\u001b[0m\u001b[0m\n\u001b[0m\u001b[1;32m      3\u001b[0m \u001b[0mt\u001b[0m\u001b[0;34m.\u001b[0m\u001b[0mdevice\u001b[0m\u001b[0;34m\u001b[0m\u001b[0;34m\u001b[0m\u001b[0m\n",
            "\u001b[0;32m/usr/local/lib/python3.10/dist-packages/torch/cuda/__init__.py\u001b[0m in \u001b[0;36m_lazy_init\u001b[0;34m()\u001b[0m\n\u001b[1;32m    312\u001b[0m         \u001b[0;32mif\u001b[0m \u001b[0;34m\"CUDA_MODULE_LOADING\"\u001b[0m \u001b[0;32mnot\u001b[0m \u001b[0;32min\u001b[0m \u001b[0mos\u001b[0m\u001b[0;34m.\u001b[0m\u001b[0menviron\u001b[0m\u001b[0;34m:\u001b[0m\u001b[0;34m\u001b[0m\u001b[0;34m\u001b[0m\u001b[0m\n\u001b[1;32m    313\u001b[0m             \u001b[0mos\u001b[0m\u001b[0;34m.\u001b[0m\u001b[0menviron\u001b[0m\u001b[0;34m[\u001b[0m\u001b[0;34m\"CUDA_MODULE_LOADING\"\u001b[0m\u001b[0;34m]\u001b[0m \u001b[0;34m=\u001b[0m \u001b[0;34m\"LAZY\"\u001b[0m\u001b[0;34m\u001b[0m\u001b[0;34m\u001b[0m\u001b[0m\n\u001b[0;32m--> 314\u001b[0;31m         \u001b[0mtorch\u001b[0m\u001b[0;34m.\u001b[0m\u001b[0m_C\u001b[0m\u001b[0;34m.\u001b[0m\u001b[0m_cuda_init\u001b[0m\u001b[0;34m(\u001b[0m\u001b[0;34m)\u001b[0m\u001b[0;34m\u001b[0m\u001b[0;34m\u001b[0m\u001b[0m\n\u001b[0m\u001b[1;32m    315\u001b[0m         \u001b[0;31m# Some of the queued calls may reentrantly call _lazy_init();\u001b[0m\u001b[0;34m\u001b[0m\u001b[0;34m\u001b[0m\u001b[0m\n\u001b[1;32m    316\u001b[0m         \u001b[0;31m# we need to just return without initializing in that case.\u001b[0m\u001b[0;34m\u001b[0m\u001b[0;34m\u001b[0m\u001b[0m\n",
            "\u001b[0;31mRuntimeError\u001b[0m: Found no NVIDIA driver on your system. Please check that you have an NVIDIA GPU and installed a driver from http://www.nvidia.com/Download/index.aspx"
          ]
        }
      ]
    },
    {
      "cell_type": "code",
      "source": [
        "th.sin(t)"
      ],
      "metadata": {
        "colab": {
          "base_uri": "https://localhost:8080/"
        },
        "id": "LtWkcrPubtsq",
        "outputId": "fdff4ada-c26b-4325-c030-1795897d6922"
      },
      "id": "LtWkcrPubtsq",
      "execution_count": null,
      "outputs": [
        {
          "output_type": "execute_result",
          "data": {
            "text/plain": [
              "tensor([[ 0.0000,  0.8415,  0.9093,  0.1411],\n",
              "        [-0.7568, -0.9589, -0.2794,  0.6570],\n",
              "        [ 0.9894,  0.4121, -0.5440, -1.0000],\n",
              "        [-0.5366,  0.4202,  0.9906,  0.6503]])"
            ]
          },
          "metadata": {},
          "execution_count": 64
        }
      ]
    },
    {
      "cell_type": "markdown",
      "id": "8e3aaaeb",
      "metadata": {
        "id": "8e3aaaeb"
      },
      "source": [
        "## Задачи для самостоятельного решения"
      ]
    },
    {
      "cell_type": "markdown",
      "id": "fdb47cbe",
      "metadata": {
        "id": "fdb47cbe"
      },
      "source": [
        "<p class=\"task\" id=\"1\"></p>\n",
        "\n",
        "1\\. Создайте двумерный тензор размера (100000, 10), заполненный нулями. Используя прихотливое индексирование, поставьте в каждой строке тензора ровно одну единицу в случайно выбранном столбце. Рассчитайте и выведите на экран вероятности $p_i$ того, что для случайно выбранной строки в столбце $i$ будет стоять единица.\n",
        "\n",
        "- [ ] Проверено на семинаре"
      ]
    },
    {
      "cell_type": "code",
      "source": [
        "import numpy as np\n",
        "import torch as th\n",
        "t = th.zeros(100000, 10)\n",
        "t.shape, t"
      ],
      "metadata": {
        "colab": {
          "base_uri": "https://localhost:8080/"
        },
        "id": "H6rx_tONcIAT",
        "outputId": "a5ab2b96-10b3-4170-b458-e9b1b19fa538"
      },
      "id": "H6rx_tONcIAT",
      "execution_count": null,
      "outputs": [
        {
          "output_type": "execute_result",
          "data": {
            "text/plain": [
              "(torch.Size([100000, 10]),\n",
              " tensor([[0., 0., 0.,  ..., 0., 0., 0.],\n",
              "         [0., 0., 0.,  ..., 0., 0., 0.],\n",
              "         [0., 0., 0.,  ..., 0., 0., 0.],\n",
              "         ...,\n",
              "         [0., 0., 0.,  ..., 0., 0., 0.],\n",
              "         [0., 0., 0.,  ..., 0., 0., 0.],\n",
              "         [0., 0., 0.,  ..., 0., 0., 0.]]))"
            ]
          },
          "metadata": {},
          "execution_count": 1
        }
      ]
    },
    {
      "cell_type": "code",
      "source": [
        "for i in range(0,100000):\n",
        "    t[i, np.random.randint(0,10)]+=1"
      ],
      "metadata": {
        "id": "H2vNdi4-cQ-S"
      },
      "id": "H2vNdi4-cQ-S",
      "execution_count": null,
      "outputs": []
    },
    {
      "cell_type": "code",
      "source": [
        "t[:5]"
      ],
      "metadata": {
        "colab": {
          "base_uri": "https://localhost:8080/"
        },
        "collapsed": true,
        "id": "F3bfk3gqhHnD",
        "outputId": "4d174074-f021-46f8-ea96-2dbddaf4c6cb"
      },
      "id": "F3bfk3gqhHnD",
      "execution_count": null,
      "outputs": [
        {
          "output_type": "execute_result",
          "data": {
            "text/plain": [
              "tensor([[0., 0., 1., 0., 0., 0., 0., 0., 0., 0.],\n",
              "        [0., 0., 0., 0., 0., 0., 0., 0., 1., 0.],\n",
              "        [1., 0., 0., 0., 0., 0., 0., 0., 0., 0.],\n",
              "        [0., 1., 0., 0., 0., 0., 0., 0., 0., 0.],\n",
              "        [0., 0., 0., 1., 0., 0., 0., 0., 0., 0.]])"
            ]
          },
          "metadata": {},
          "execution_count": 4
        }
      ]
    },
    {
      "cell_type": "code",
      "source": [
        "p = th.sum(t, 0)/100_000\n",
        "for i in range(10):\n",
        "    print(f'вероятность что 1 в {i+1} столбце = ', float(p[i]))"
      ],
      "metadata": {
        "colab": {
          "base_uri": "https://localhost:8080/"
        },
        "id": "zclFXnFRuoht",
        "outputId": "6c0c99a0-9eb0-4813-b2ea-521ed7e0d164"
      },
      "id": "zclFXnFRuoht",
      "execution_count": null,
      "outputs": [
        {
          "output_type": "stream",
          "name": "stdout",
          "text": [
            "вероятность что 1 в 1 столбце =  0.09944000095129013\n",
            "вероятность что 1 в 2 столбце =  0.09850999712944031\n",
            "вероятность что 1 в 3 столбце =  0.1011900007724762\n",
            "вероятность что 1 в 4 столбце =  0.10204999893903732\n",
            "вероятность что 1 в 5 столбце =  0.1008400022983551\n",
            "вероятность что 1 в 6 столбце =  0.09962999820709229\n",
            "вероятность что 1 в 7 столбце =  0.10001999884843826\n",
            "вероятность что 1 в 8 столбце =  0.10023999959230423\n",
            "вероятность что 1 в 9 столбце =  0.09838999807834625\n",
            "вероятность что 1 в 10 столбце =  0.09968999773263931\n"
          ]
        }
      ]
    },
    {
      "cell_type": "markdown",
      "id": "2212b996",
      "metadata": {
        "id": "2212b996"
      },
      "source": [
        "<p class=\"task\" id=\"2\"></p>\n",
        "\n",
        "2\\. При помощи прихотливого индексирования для двумерного тензора размерности (10, 10), состоящего из случайных целых чисел в пределах от 0 до 10, получите тензор элементов, находящихся сразу над  побочной диагональю.\n",
        "\n",
        "- [ ] Проверено на семинаре"
      ]
    },
    {
      "cell_type": "code",
      "source": [
        "t = th.randint(0,11,(10,10))\n",
        "#t = th.arange(0,100).view(10,10)\n",
        "t"
      ],
      "metadata": {
        "colab": {
          "base_uri": "https://localhost:8080/"
        },
        "id": "gMNXkLFcvgMw",
        "outputId": "22950204-4d23-4b62-c819-e076f347b5a0"
      },
      "id": "gMNXkLFcvgMw",
      "execution_count": null,
      "outputs": [
        {
          "output_type": "execute_result",
          "data": {
            "text/plain": [
              "tensor([[ 5,  7,  5,  2,  2,  4,  2,  8,  1,  0],\n",
              "        [ 3,  4,  4,  1,  9,  5,  0,  2,  5,  7],\n",
              "        [ 3,  8,  5,  7,  1,  6,  8, 10,  2,  4],\n",
              "        [10,  8, 10,  7,  4, 10,  3,  6,  1,  9],\n",
              "        [ 8,  6,  1, 10,  0, 10,  2,  0,  8,  2],\n",
              "        [ 7,  6,  5, 10,  3,  8,  5,  4,  1,  3],\n",
              "        [ 4,  5,  1,  3, 10,  5,  5,  8,  4,  1],\n",
              "        [10,  8,  8,  9,  6,  4,  8, 10,  0,  2],\n",
              "        [ 3,  8,  2,  1,  8,  8,  6,  0,  9, 10],\n",
              "        [ 0,  8,  2,  3,  8,  1,  6, 10,  4,  0]])"
            ]
          },
          "metadata": {},
          "execution_count": 6
        }
      ]
    },
    {
      "cell_type": "code",
      "source": [
        "row = np.arange(9)\n",
        "col = np.arange(8, -1, -1)\n",
        "\n",
        "t[row, col]"
      ],
      "metadata": {
        "colab": {
          "base_uri": "https://localhost:8080/"
        },
        "id": "D3wVN9HwwPBQ",
        "outputId": "e0756ff7-6043-49d7-9151-4c8d3da979c2"
      },
      "id": "D3wVN9HwwPBQ",
      "execution_count": null,
      "outputs": [
        {
          "output_type": "execute_result",
          "data": {
            "text/plain": [
              "tensor([ 1,  2,  8, 10,  0, 10,  1,  8,  3])"
            ]
          },
          "metadata": {},
          "execution_count": 7
        }
      ]
    },
    {
      "cell_type": "markdown",
      "id": "4c81e1c1",
      "metadata": {
        "id": "4c81e1c1"
      },
      "source": [
        "<p class=\"task\" id=\"3\"></p>\n",
        "\n",
        "3\\. Создайте двумерный тензор $t$ размерности (5, 5), состоящий из случайных чисел в пределах от 0 до 100. Обнулить все значения в массиве, расположенные вне квадрата размера 3х3 вокруг максимального элемента. Если максимумов несколько, обнулите элементы около любого из них.\n",
        "\n",
        "- [ ] Проверено на семинаре"
      ]
    },
    {
      "cell_type": "code",
      "source": [
        "t = th.randint(0,100,(5,5))\n",
        "t"
      ],
      "metadata": {
        "colab": {
          "base_uri": "https://localhost:8080/"
        },
        "id": "xWzJurQT0kxr",
        "outputId": "b88f1f5f-5df8-41c0-cb83-0a1e1acf1368"
      },
      "id": "xWzJurQT0kxr",
      "execution_count": null,
      "outputs": [
        {
          "output_type": "execute_result",
          "data": {
            "text/plain": [
              "tensor([[98, 21, 76, 38, 71],\n",
              "        [76, 29, 74, 99, 60],\n",
              "        [77, 15, 82, 36, 62],\n",
              "        [19, 33, 36, 81, 61],\n",
              "        [56,  9, 47, 98, 52]])"
            ]
          },
          "metadata": {},
          "execution_count": 8
        }
      ]
    },
    {
      "cell_type": "code",
      "source": [
        "max_row, max_col = map(int, th.where(t==t.max()))\n",
        "max_row, max_col"
      ],
      "metadata": {
        "colab": {
          "base_uri": "https://localhost:8080/"
        },
        "id": "X7Mdng4u2W4J",
        "outputId": "3fa30c4a-6beb-4b44-fd13-b7fdb9b8faf1"
      },
      "id": "X7Mdng4u2W4J",
      "execution_count": null,
      "outputs": [
        {
          "output_type": "execute_result",
          "data": {
            "text/plain": [
              "(1, 3)"
            ]
          },
          "metadata": {},
          "execution_count": 9
        }
      ]
    },
    {
      "cell_type": "code",
      "source": [
        "zero_m = th.zeros_like(t)\n",
        "zero_m[max_row-1:max_row+2, max_col-1:max_col+2] = t[max_row-1:max_row+2, max_col-1:max_col+2]\n",
        "zero_m"
      ],
      "metadata": {
        "colab": {
          "base_uri": "https://localhost:8080/"
        },
        "id": "1T4CkKUFAZxe",
        "outputId": "80aefaa9-e975-406b-9c55-a2064a868971"
      },
      "id": "1T4CkKUFAZxe",
      "execution_count": null,
      "outputs": [
        {
          "output_type": "execute_result",
          "data": {
            "text/plain": [
              "tensor([[ 0,  0, 76, 38, 71],\n",
              "        [ 0,  0, 74, 99, 60],\n",
              "        [ 0,  0, 82, 36, 62],\n",
              "        [ 0,  0,  0,  0,  0],\n",
              "        [ 0,  0,  0,  0,  0]])"
            ]
          },
          "metadata": {},
          "execution_count": 10
        }
      ]
    },
    {
      "cell_type": "markdown",
      "id": "f68b795c",
      "metadata": {
        "id": "f68b795c"
      },
      "source": [
        "<p class=\"task\" id=\"4\"></p>\n",
        "\n",
        "4\\. Создайте трехмерный массив размерности (2, 5, 5) на основе решения задачи 3 (объедините исходный и результирущий тензор вдоль нулевой оси). Сохраните полученный трехмерный тензор в файл `tensor.pt`. Загрузите полученный тензор и покажите, что все элементы двух тензоров совпадают.\n",
        "\n",
        "- [ ] Проверено на семинаре"
      ]
    },
    {
      "cell_type": "code",
      "source": [
        "t255 = th.cat([t,zero_m],0).view(2,5,5)\n",
        "th.save(t255, 'tensor.pt')"
      ],
      "metadata": {
        "id": "TxB81yAszMIu"
      },
      "id": "TxB81yAszMIu",
      "execution_count": null,
      "outputs": []
    },
    {
      "cell_type": "code",
      "source": [
        "t_load = th.load('tensor.pt')"
      ],
      "metadata": {
        "colab": {
          "base_uri": "https://localhost:8080/"
        },
        "id": "someD35Y2Slr",
        "outputId": "718dc5ee-1791-41b4-e87b-2d294824eba8"
      },
      "id": "someD35Y2Slr",
      "execution_count": null,
      "outputs": [
        {
          "output_type": "stream",
          "name": "stderr",
          "text": [
            "<ipython-input-26-a1c9d67e8cba>:1: FutureWarning: You are using `torch.load` with `weights_only=False` (the current default value), which uses the default pickle module implicitly. It is possible to construct malicious pickle data which will execute arbitrary code during unpickling (See https://github.com/pytorch/pytorch/blob/main/SECURITY.md#untrusted-models for more details). In a future release, the default value for `weights_only` will be flipped to `True`. This limits the functions that could be executed during unpickling. Arbitrary objects will no longer be allowed to be loaded via this mode unless they are explicitly allowlisted by the user via `torch.serialization.add_safe_globals`. We recommend you start setting `weights_only=True` for any use case where you don't have full control of the loaded file. Please open an issue on GitHub for any issues related to this experimental feature.\n",
            "  t_load = th.load('tensor.pt')\n"
          ]
        }
      ]
    },
    {
      "cell_type": "code",
      "source": [
        "t_mask = t_load==t255\n",
        "t_mask"
      ],
      "metadata": {
        "colab": {
          "base_uri": "https://localhost:8080/"
        },
        "id": "EsJdPyjp2c8f",
        "outputId": "fcd46257-0a5b-46f4-d27e-8fce02e2cdce"
      },
      "id": "EsJdPyjp2c8f",
      "execution_count": null,
      "outputs": [
        {
          "output_type": "execute_result",
          "data": {
            "text/plain": [
              "tensor([[[True, True, True, True, True],\n",
              "         [True, True, True, True, True],\n",
              "         [True, True, True, True, True],\n",
              "         [True, True, True, True, True],\n",
              "         [True, True, True, True, True]],\n",
              "\n",
              "        [[True, True, True, True, True],\n",
              "         [True, True, True, True, True],\n",
              "         [True, True, True, True, True],\n",
              "         [True, True, True, True, True],\n",
              "         [True, True, True, True, True]]])"
            ]
          },
          "metadata": {},
          "execution_count": 30
        }
      ]
    },
    {
      "cell_type": "code",
      "source": [
        "all(t_mask.view(50))"
      ],
      "metadata": {
        "colab": {
          "base_uri": "https://localhost:8080/"
        },
        "id": "jo_FmJx62qCM",
        "outputId": "339a7f1b-5a6c-4a22-f6aa-9f1c1bbf9dc4"
      },
      "id": "jo_FmJx62qCM",
      "execution_count": null,
      "outputs": [
        {
          "output_type": "execute_result",
          "data": {
            "text/plain": [
              "True"
            ]
          },
          "metadata": {},
          "execution_count": 35
        }
      ]
    },
    {
      "cell_type": "markdown",
      "id": "ab2dd4cd",
      "metadata": {
        "id": "ab2dd4cd"
      },
      "source": [
        "<p class=\"task\" id=\"5\"></p>\n",
        "\n",
        "5\\. Создайте четырехмерный массив `t` размерности (2, 3, 5, 5), заполненный случайными целыми числами от 1 до 10 (сами значения должны быть представлены типом float32). Рассчитайте среднее значение для каждого двумерного тензора `t[i, j, :, :]`. Представьте результат в виде трехмерного тензора размера (2, 3, 1).\n",
        "\n",
        "- [ ] Проверено на семинаре"
      ]
    },
    {
      "cell_type": "code",
      "source": [
        "t = th.randint(1,10,(2,3,5,5), dtype=th.float32)\n",
        "t"
      ],
      "metadata": {
        "colab": {
          "base_uri": "https://localhost:8080/"
        },
        "id": "IKVpqcq42_aG",
        "outputId": "fdd889cf-b972-4aef-c2fd-77e476f9d37f"
      },
      "id": "IKVpqcq42_aG",
      "execution_count": null,
      "outputs": [
        {
          "output_type": "execute_result",
          "data": {
            "text/plain": [
              "tensor([[[[5., 4., 7., 3., 1.],\n",
              "          [2., 3., 2., 6., 9.],\n",
              "          [6., 6., 1., 6., 7.],\n",
              "          [3., 6., 8., 2., 7.],\n",
              "          [9., 3., 8., 6., 3.]],\n",
              "\n",
              "         [[9., 3., 5., 7., 4.],\n",
              "          [1., 5., 1., 4., 3.],\n",
              "          [7., 9., 9., 6., 1.],\n",
              "          [9., 7., 7., 7., 7.],\n",
              "          [1., 5., 8., 2., 2.]],\n",
              "\n",
              "         [[6., 3., 1., 3., 4.],\n",
              "          [7., 6., 4., 5., 4.],\n",
              "          [7., 3., 5., 3., 6.],\n",
              "          [3., 6., 1., 4., 4.],\n",
              "          [4., 2., 7., 4., 1.]]],\n",
              "\n",
              "\n",
              "        [[[1., 1., 7., 8., 9.],\n",
              "          [2., 8., 9., 4., 9.],\n",
              "          [8., 5., 8., 7., 9.],\n",
              "          [4., 4., 9., 5., 2.],\n",
              "          [8., 6., 4., 3., 6.]],\n",
              "\n",
              "         [[8., 8., 1., 9., 6.],\n",
              "          [3., 7., 8., 8., 7.],\n",
              "          [4., 9., 3., 4., 7.],\n",
              "          [6., 7., 9., 8., 1.],\n",
              "          [8., 8., 3., 9., 6.]],\n",
              "\n",
              "         [[9., 3., 8., 9., 5.],\n",
              "          [8., 9., 7., 2., 5.],\n",
              "          [5., 1., 8., 1., 4.],\n",
              "          [1., 4., 9., 9., 3.],\n",
              "          [6., 9., 2., 5., 1.]]]])"
            ]
          },
          "metadata": {},
          "execution_count": 2
        }
      ]
    },
    {
      "cell_type": "code",
      "source": [
        "mean_list = list()\n",
        "for i in range(2):\n",
        "    for j in range(3):\n",
        "        mean_list.append(th.mean(t[i,j,:,:]))\n",
        "mean_tensor = th.tensor(mean_list).view(2,3,1)\n",
        "mean_tensor"
      ],
      "metadata": {
        "colab": {
          "base_uri": "https://localhost:8080/"
        },
        "id": "8fw-M5D533FM",
        "outputId": "235b47ae-bce5-4a16-9734-739d1022203a"
      },
      "id": "8fw-M5D533FM",
      "execution_count": null,
      "outputs": [
        {
          "output_type": "execute_result",
          "data": {
            "text/plain": [
              "tensor([[[4.9200],\n",
              "         [5.1600],\n",
              "         [4.1200]],\n",
              "\n",
              "        [[5.8400],\n",
              "         [6.2800],\n",
              "         [5.3200]]])"
            ]
          },
          "metadata": {},
          "execution_count": 5
        }
      ]
    },
    {
      "cell_type": "markdown",
      "id": "0f29b7fa",
      "metadata": {
        "id": "0f29b7fa"
      },
      "source": [
        "<p class=\"task\" id=\"6\"></p>\n",
        "\n",
        "6\\. Создайте одномерный тензор размера `N=100_000_000`, заполненный числами из экспоненциального распредления с параметром $\\lambda=5$. Рассчитайте значения для построения гистограммы при помощи пакета `torch`. Визуализируйте гистограмму. Проверьте возможность использования GPU. При наличии GPU перенесите созданный тензор в память GPU, повторите вычисления. Сравните время расчетом с и без использования GPU.\n",
        "\n",
        "- [ ] Проверено на семинаре"
      ]
    },
    {
      "cell_type": "code",
      "source": [
        "import numpy as np\n",
        "import torch as th\n",
        "lambd = 5.0  # среднее = 1 / λ\n",
        "exp_numbers = th.distributions.Exponential(lambd).sample((100_000_000,))\n",
        "exp_numbers.mean()"
      ],
      "metadata": {
        "colab": {
          "base_uri": "https://localhost:8080/"
        },
        "id": "fTEJ7d93uAs5",
        "outputId": "b7803a26-b262-4618-db95-d1a455c9ceb6"
      },
      "id": "fTEJ7d93uAs5",
      "execution_count": null,
      "outputs": [
        {
          "output_type": "execute_result",
          "data": {
            "text/plain": [
              "tensor(0.2000)"
            ]
          },
          "metadata": {},
          "execution_count": 2
        }
      ]
    },
    {
      "cell_type": "code",
      "source": [
        "import time\n",
        "import matplotlib.pyplot as plt\n",
        "\n",
        "bins = 1000\n",
        "start_time = time.time()\n",
        "hist_cpu = th.histc(exp_numbers, bins=bins)\n",
        "end_time = time.time()\n",
        "print(end_time - start_time,'секунд') #Время расчета гистограммы на CPU"
      ],
      "metadata": {
        "colab": {
          "base_uri": "https://localhost:8080/"
        },
        "id": "NruHaNYa0SDa",
        "outputId": "1f4887a7-8d79-4665-fbbd-96d0c2786d83"
      },
      "id": "NruHaNYa0SDa",
      "execution_count": null,
      "outputs": [
        {
          "output_type": "stream",
          "name": "stdout",
          "text": [
            "2.9191064834594727 секунд\n"
          ]
        }
      ]
    },
    {
      "cell_type": "code",
      "source": [
        "plt.hist(hist_cpu, bins=bins, width)\n",
        "plt.xlabel('Значение')\n",
        "plt.ylabel('Частота (логарифмирована)')\n",
        "plt.yscale('log')\n",
        "plt.show()"
      ],
      "metadata": {
        "colab": {
          "base_uri": "https://localhost:8080/",
          "height": 449
        },
        "id": "25wpWxiQ0dhZ",
        "outputId": "4ff56015-1ac5-43c5-e66e-4b4029b85105"
      },
      "id": "25wpWxiQ0dhZ",
      "execution_count": null,
      "outputs": [
        {
          "output_type": "display_data",
          "data": {
            "text/plain": [
              "<Figure size 640x480 with 1 Axes>"
            ],
            "image/png": "[encoded data removed]"
          },
          "metadata": {}
        }
      ]
    },
    {
      "cell_type": "code",
      "source": [
        "import torch as th\n",
        "import time\n",
        "import matplotlib.pyplot as plt\n",
        "\n",
        "lambd = 5.0  # среднее = 1 / λ\n",
        "bins = 1000\n",
        "exp_numbers = th.distributions.Exponential(lambd).sample((100_000_000,))\n",
        "\n",
        "start_time = time.time()\n",
        "hist_gpu = th.histc(exp_numbers, bins=bins)\n",
        "end_time = time.time()\n",
        "\n",
        "print(end_time - start_time, 'секунд на GPU')"
      ],
      "metadata": {
        "colab": {
          "base_uri": "https://localhost:8080/"
        },
        "id": "8CfQ9Ae47b7w",
        "outputId": "6c27bbf2-e725-4e75-cfbb-8531979f6471"
      },
      "id": "8CfQ9Ae47b7w",
      "execution_count": null,
      "outputs": [
        {
          "output_type": "stream",
          "name": "stdout",
          "text": [
            "1.2805726528167725 секунд на GPU\n"
          ]
        }
      ]
    },
    {
      "cell_type": "markdown",
      "id": "590c35a6",
      "metadata": {
        "id": "590c35a6"
      },
      "source": [
        "<p class=\"task\" id=\"7\"></p>\n",
        "\n",
        "7\\. Создайте четырехмерный тензор размера (10, 6, 6, 3), заполненный случайными целыми числами от 0 до 255. Считая, что данный тензор представляет собой батч из 10 картинок размера 6х6 в формате RGB, измените тензор следующим образом. Для оттенков красного обнулите все столбцы, кроме первых двух; для оттенков зеленого обнулите третий и четвертый столбцы; для оттенков синего обнулите пятый и шестой столбцы. Для выполнения задания используйте механизм распространения.\n",
        "\n",
        "- [ ] Проверено на семинаре"
      ]
    },
    {
      "cell_type": "code",
      "source": [
        "import torch as th\n",
        "\n",
        "t = th.randint(0,255,(1, 6, 6, 3))\n",
        "\n",
        "mask = th.tensor([0])\n",
        "t[:, 2:, :, 0] = t[:, 2:, :, 0]*mask\n",
        "t[:, [0,1,4,5], :, 1] = t[:, [0,1,4,5], :, 1]*mask #t[:, [0,1,4,5], :, 1] = t[:, 2:, :, 0] так можно потому что справа нули\n",
        "t[:, :4, :, 2] = t[:, :4, :, 2]*mask #t[:, :4, :, 2]  = t[:, 2:, :, 0]\n",
        "t"
      ],
      "metadata": {
        "id": "fRwH8fLU3br_",
        "colab": {
          "base_uri": "https://localhost:8080/"
        },
        "outputId": "83ac4b15-d470-4478-c005-a0bf17423998"
      },
      "id": "fRwH8fLU3br_",
      "execution_count": null,
      "outputs": [
        {
          "output_type": "execute_result",
          "data": {
            "text/plain": [
              "tensor([[[[ 36,   0,   0],\n",
              "          [ 20,   0,   0],\n",
              "          [106,   0,   0],\n",
              "          [199,   0,   0],\n",
              "          [ 29,   0,   0],\n",
              "          [111,   0,   0]],\n",
              "\n",
              "         [[ 79,   0,   0],\n",
              "          [206,   0,   0],\n",
              "          [221,   0,   0],\n",
              "          [166,   0,   0],\n",
              "          [ 47,   0,   0],\n",
              "          [ 60,   0,   0]],\n",
              "\n",
              "         [[  0,  84,   0],\n",
              "          [  0,  27,   0],\n",
              "          [  0, 180,   0],\n",
              "          [  0,  75,   0],\n",
              "          [  0, 157,   0],\n",
              "          [  0, 249,   0]],\n",
              "\n",
              "         [[  0, 236,   0],\n",
              "          [  0, 202,   0],\n",
              "          [  0, 109,   0],\n",
              "          [  0, 224,   0],\n",
              "          [  0,  72,   0],\n",
              "          [  0, 163,   0]],\n",
              "\n",
              "         [[  0,   0,  45],\n",
              "          [  0,   0, 170],\n",
              "          [  0,   0, 251],\n",
              "          [  0,   0,  93],\n",
              "          [  0,   0, 191],\n",
              "          [  0,   0,   3]],\n",
              "\n",
              "         [[  0,   0, 105],\n",
              "          [  0,   0, 208],\n",
              "          [  0,   0, 210],\n",
              "          [  0,   0,  13],\n",
              "          [  0,   0, 233],\n",
              "          [  0,   0, 148]]]])"
            ]
          },
          "metadata": {},
          "execution_count": 70
        }
      ]
    }
  ],
  "metadata": {
    "kernelspec": {
      "display_name": "Python 3",
      "name": "python3"
    },
    "language_info": {
      "codemirror_mode": {
        "name": "ipython",
        "version": 3
      },
      "file_extension": ".py",
      "mimetype": "text/x-python",
      "name": "python",
      "nbconvert_exporter": "python",
      "pygments_lexer": "ipython3",
      "version": "3.9.12"
    },
    "colab": {
      "provenance": [],
      "gpuType": "T4"
    },
    "accelerator": "GPU"
  },
  "nbformat": 4,
  "nbformat_minor": 5
}