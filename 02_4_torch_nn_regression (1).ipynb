{
  "cells": [
    {
      "cell_type": "markdown",
      "id": "c9ecd663",
      "metadata": {
        "id": "c9ecd663"
      },
      "source": [
        "## Задачи для совместного разбора"
      ]
    },
    {
      "cell_type": "code",
      "source": [
        "pip install torchtyping"
      ],
      "metadata": {
        "colab": {
          "base_uri": "https://localhost:8080/"
        },
        "id": "WRHdmDE_WghY",
        "outputId": "4caf53c9-febd-42de-abf4-89625767aa99"
      },
      "id": "WRHdmDE_WghY",
      "execution_count": null,
      "outputs": [
        {
          "output_type": "stream",
          "name": "stdout",
          "text": [
            "Collecting torchtyping\n",
            "  Downloading torchtyping-0.1.5-py3-none-any.whl.metadata (9.5 kB)\n",
            "Requirement already satisfied: torch>=1.7.0 in /usr/local/lib/python3.10/dist-packages (from torchtyping) (2.4.1+cu121)\n",
            "Collecting typeguard<3,>=2.11.1 (from torchtyping)\n",
            "  Downloading typeguard-2.13.3-py3-none-any.whl.metadata (3.6 kB)\n",
            "Requirement already satisfied: filelock in /usr/local/lib/python3.10/dist-packages (from torch>=1.7.0->torchtyping) (3.16.1)\n",
            "Requirement already satisfied: typing-extensions>=4.8.0 in /usr/local/lib/python3.10/dist-packages (from torch>=1.7.0->torchtyping) (4.12.2)\n",
            "Requirement already satisfied: sympy in /usr/local/lib/python3.10/dist-packages (from torch>=1.7.0->torchtyping) (1.13.3)\n",
            "Requirement already satisfied: networkx in /usr/local/lib/python3.10/dist-packages (from torch>=1.7.0->torchtyping) (3.3)\n",
            "Requirement already satisfied: jinja2 in /usr/local/lib/python3.10/dist-packages (from torch>=1.7.0->torchtyping) (3.1.4)\n",
            "Requirement already satisfied: fsspec in /usr/local/lib/python3.10/dist-packages (from torch>=1.7.0->torchtyping) (2024.6.1)\n",
            "Requirement already satisfied: MarkupSafe>=2.0 in /usr/local/lib/python3.10/dist-packages (from jinja2->torch>=1.7.0->torchtyping) (2.1.5)\n",
            "Requirement already satisfied: mpmath<1.4,>=1.1.0 in /usr/local/lib/python3.10/dist-packages (from sympy->torch>=1.7.0->torchtyping) (1.3.0)\n",
            "Downloading torchtyping-0.1.5-py3-none-any.whl (17 kB)\n",
            "Downloading typeguard-2.13.3-py3-none-any.whl (17 kB)\n",
            "Installing collected packages: typeguard, torchtyping\n",
            "  Attempting uninstall: typeguard\n",
            "    Found existing installation: typeguard 4.3.0\n",
            "    Uninstalling typeguard-4.3.0:\n",
            "      Successfully uninstalled typeguard-4.3.0\n",
            "\u001b[31mERROR: pip's dependency resolver does not currently take into account all the packages that are installed. This behaviour is the source of the following dependency conflicts.\n",
            "inflect 7.4.0 requires typeguard>=4.0.1, but you have typeguard 2.13.3 which is incompatible.\u001b[0m\u001b[31m\n",
            "\u001b[0mSuccessfully installed torchtyping-0.1.5 typeguard-2.13.3\n"
          ]
        }
      ]
    },
    {
      "cell_type": "code",
      "execution_count": null,
      "id": "a6556a30-101d-4516-b3f0-14ac7d8f26b6",
      "metadata": {
        "id": "a6556a30-101d-4516-b3f0-14ac7d8f26b6"
      },
      "outputs": [],
      "source": [
        "from torchtyping import TensorType, patch_typeguard\n",
        "from typeguard import typechecked\n",
        "import torch as th\n",
        "\n",
        "Scalar = TensorType[()]\n",
        "patch_typeguard()"
      ]
    },
    {
      "cell_type": "markdown",
      "id": "8666a4dc",
      "metadata": {
        "id": "8666a4dc"
      },
      "source": [
        "1\\. Используя реализацию из `torch.nn`, решите задачу регрессии. Для расчета градиентов воспользуйтесь возможностями по автоматическому дифференцированию `torch`. В качестве функции потерь используйте собственную реализацию MSE. Для настройки весов реализуйте пакетный градиентный спуск с использованием `torch.optim.SGD`."
      ]
    },
    {
      "cell_type": "code",
      "execution_count": null,
      "id": "94d3c884-9b5a-44d6-8c9f-59d555cc4a00",
      "metadata": {
        "id": "94d3c884-9b5a-44d6-8c9f-59d555cc4a00"
      },
      "outputs": [],
      "source": [
        "from sklearn.datasets import make_regression\n",
        "import torch as th\n",
        "\n",
        "X, y, coef = make_regression(n_features=4, n_informative=4, coef=True, bias=0.5, random_state=42)\n",
        "X = th.FloatTensor(X)\n",
        "y = th.FloatTensor(y)"
      ]
    },
    {
      "cell_type": "code",
      "source": [
        "import torch.nn as nn\n",
        "\n",
        "class SyntRegressionModel(nn.Module):\n",
        "  def __init__(self, n_inputs: int, n_hidden: int) -> None:\n",
        "    super().__init__()\n",
        "\n",
        "    self.fc1 = nn.Linear(in_features=n_inputs, out_features=n_hidden)\n",
        "    self.fc2 = nn.Linear(in_features=n_hidden, out_features=1)\n",
        "\n",
        "    self.relu = nn.ReLU()\n",
        "\n",
        "  def forward(self, X: th.Tensor) -> th.Tensor:\n",
        "    out = self.fc1(X)\n",
        "    # out = out.relu()\n",
        "    out = self.relu(out)\n",
        "    out = self.fc2(out)\n",
        "    return out"
      ],
      "metadata": {
        "id": "Pywwi4Udsf0r"
      },
      "id": "Pywwi4Udsf0r",
      "execution_count": null,
      "outputs": []
    },
    {
      "cell_type": "code",
      "source": [
        "model = SyntRegressionModel(n_inputs=4, n_hidden=2)\n",
        "# y_pred = model.forward(X)\n",
        "y_pred = model(X)"
      ],
      "metadata": {
        "id": "LzAJvWb0uBBu"
      },
      "id": "LzAJvWb0uBBu",
      "execution_count": null,
      "outputs": []
    },
    {
      "cell_type": "code",
      "source": [
        "model.fc1.weight"
      ],
      "metadata": {
        "colab": {
          "base_uri": "https://localhost:8080/"
        },
        "id": "-NmdVZwvwzdQ",
        "outputId": "356e3c04-a8f0-4093-cbbb-c9685b116dc8"
      },
      "id": "-NmdVZwvwzdQ",
      "execution_count": null,
      "outputs": [
        {
          "output_type": "execute_result",
          "data": {
            "text/plain": [
              "Parameter containing:\n",
              "tensor([[ 0.2316,  0.2725,  0.4612, -0.4279],\n",
              "        [-0.4526, -0.4754,  0.3763, -0.1279]], requires_grad=True)"
            ]
          },
          "metadata": {},
          "execution_count": 7
        }
      ]
    },
    {
      "cell_type": "code",
      "source": [
        "y_pred.shape"
      ],
      "metadata": {
        "colab": {
          "base_uri": "https://localhost:8080/"
        },
        "id": "MvmNu0pCuS1W",
        "outputId": "e51816e9-ba98-4f81-a024-0ecc3c092096"
      },
      "id": "MvmNu0pCuS1W",
      "execution_count": null,
      "outputs": [
        {
          "output_type": "execute_result",
          "data": {
            "text/plain": [
              "torch.Size([100, 1])"
            ]
          },
          "metadata": {},
          "execution_count": 8
        }
      ]
    },
    {
      "cell_type": "code",
      "source": [
        "n_inputs = 4\n",
        "n_hidden = 1\n",
        "\n",
        "model = nn.Sequential(\n",
        "    nn.Linear(in_features=n_inputs, out_features=n_hidden),\n",
        "    nn.ReLU(),\n",
        "    nn.Linear(in_features=n_hidden, out_features=1),\n",
        ")"
      ],
      "metadata": {
        "id": "AEqqeGizvXMd"
      },
      "id": "AEqqeGizvXMd",
      "execution_count": null,
      "outputs": []
    },
    {
      "cell_type": "code",
      "source": [
        "y_pred = model(X)"
      ],
      "metadata": {
        "id": "68387pouvqPH"
      },
      "id": "68387pouvqPH",
      "execution_count": null,
      "outputs": []
    },
    {
      "cell_type": "code",
      "source": [
        "criterion = nn.MSELoss()\n",
        "\n",
        "loss = criterion(y_pred.flatten(), y)\n",
        "loss"
      ],
      "metadata": {
        "colab": {
          "base_uri": "https://localhost:8080/"
        },
        "id": "YWXIq3pZv6Sd",
        "outputId": "2bd88760-7310-4bab-db37-14acf701a898"
      },
      "id": "YWXIq3pZv6Sd",
      "execution_count": null,
      "outputs": [
        {
          "output_type": "execute_result",
          "data": {
            "text/plain": [
              "tensor(9564.6084, grad_fn=<MseLossBackward0>)"
            ]
          },
          "metadata": {},
          "execution_count": 12
        }
      ]
    },
    {
      "cell_type": "code",
      "source": [
        "loss.backward()"
      ],
      "metadata": {
        "id": "MagtlgElwZCh"
      },
      "id": "MagtlgElwZCh",
      "execution_count": null,
      "outputs": []
    },
    {
      "cell_type": "code",
      "source": [
        "model.parameters()"
      ],
      "metadata": {
        "colab": {
          "base_uri": "https://localhost:8080/"
        },
        "id": "bhT4RKjyxXQJ",
        "outputId": "23413120-adac-4afe-e6d1-0ad9124e04e7"
      },
      "id": "bhT4RKjyxXQJ",
      "execution_count": null,
      "outputs": [
        {
          "output_type": "execute_result",
          "data": {
            "text/plain": [
              "<generator object Module.parameters at 0x7cfd923e8510>"
            ]
          },
          "metadata": {},
          "execution_count": 17
        }
      ]
    },
    {
      "cell_type": "code",
      "source": [
        "import torch.optim as optim\n",
        "\n",
        "optimizer = optim.SGD(model.parameters(), lr=0.01)"
      ],
      "metadata": {
        "id": "I38cnDR9xGkg"
      },
      "id": "I38cnDR9xGkg",
      "execution_count": null,
      "outputs": []
    },
    {
      "cell_type": "code",
      "source": [
        "optimizer.step()\n",
        "optimizer.zero_grad()"
      ],
      "metadata": {
        "id": "vGkRNKW1xhyU"
      },
      "id": "vGkRNKW1xhyU",
      "execution_count": null,
      "outputs": []
    },
    {
      "cell_type": "code",
      "source": [
        "n_inputs = 4\n",
        "n_hidden = 1\n",
        "\n",
        "model = nn.Sequential(\n",
        "    nn.Linear(in_features=n_inputs, out_features=n_hidden),\n",
        "    nn.ReLU(),\n",
        "    nn.Linear(in_features=n_hidden, out_features=1),\n",
        ")\n",
        "criterion = nn.MSELoss()\n",
        "optimizer = optim.SGD(model.parameters(), lr=0.01)\n",
        "\n",
        "for _ in range(100):\n",
        "  # forward pass\n",
        "  y_pred = model(X)\n",
        "  loss = criterion(y_pred.flatten(), y)\n",
        "\n",
        "  # backprop\n",
        "  loss.backward()\n",
        "\n",
        "  # gradient descend\n",
        "  optimizer.step()\n",
        "  optimizer.zero_grad()"
      ],
      "metadata": {
        "id": "MkxVuXHtx610"
      },
      "id": "MkxVuXHtx610",
      "execution_count": null,
      "outputs": []
    },
    {
      "cell_type": "code",
      "source": [
        "loss"
      ],
      "metadata": {
        "colab": {
          "base_uri": "https://localhost:8080/"
        },
        "id": "_X4SLHLXyM17",
        "outputId": "14b7a678-2c01-4315-d146-5eeb0338f59e"
      },
      "id": "_X4SLHLXyM17",
      "execution_count": null,
      "outputs": [
        {
          "output_type": "execute_result",
          "data": {
            "text/plain": [
              "tensor(10005.5449, grad_fn=<MseLossBackward0>)"
            ]
          },
          "metadata": {},
          "execution_count": 21
        }
      ]
    },
    {
      "cell_type": "code",
      "source": [
        "from torch.utils.data import TensorDataset, DataLoader\n",
        "\n",
        "dataset = TensorDataset(X, y)\n",
        "loader = DataLoader(dataset, batch_size=16, shuffle=True)\n",
        "\n",
        "n_inputs = 4\n",
        "n_hidden = 1\n",
        "\n",
        "model = nn.Sequential(\n",
        "    nn.Linear(in_features=n_inputs, out_features=1),\n",
        "    # nn.ReLU(),\n",
        "    # nn.Linear(in_features=n_hidden, out_features=1),\n",
        ")\n",
        "criterion = nn.MSELoss()\n",
        "optimizer = optim.SGD(model.parameters(), lr=0.005)\n",
        "\n",
        "epoch_losses = []\n",
        "for epoch in range(100):\n",
        "  epoch_loss = 0\n",
        "  for X_batch, y_batch in loader:\n",
        "    # forward pass\n",
        "    y_pred = model(X_batch)\n",
        "    loss = criterion(y_pred.flatten(), y_batch)\n",
        "    epoch_loss += loss\n",
        "    # backprop\n",
        "    loss.backward()\n",
        "\n",
        "    # gradient descend\n",
        "    optimizer.step()\n",
        "    optimizer.zero_grad()\n",
        "  epoch_loss = epoch_loss / len(loader)\n",
        "  epoch_losses.append( epoch_loss.item())\n",
        "  print(epoch, epoch_loss.item())"
      ],
      "metadata": {
        "colab": {
          "base_uri": "https://localhost:8080/"
        },
        "collapsed": true,
        "id": "3v-1WvJzyUTu",
        "outputId": "d3418054-a97a-4a02-8247-89db52bbe4ff"
      },
      "id": "3v-1WvJzyUTu",
      "execution_count": null,
      "outputs": [
        {
          "output_type": "stream",
          "name": "stdout",
          "text": [
            "0 8663.0146484375\n",
            "1 7566.16015625\n",
            "2 7692.19677734375\n",
            "3 5774.2451171875\n",
            "4 5436.08447265625\n",
            "5 4677.51513671875\n",
            "6 3983.07421875\n",
            "7 3269.798828125\n",
            "8 3216.462646484375\n",
            "9 2708.54638671875\n",
            "10 2422.071533203125\n",
            "11 2043.6868896484375\n",
            "12 1701.4573974609375\n",
            "13 1541.9083251953125\n",
            "14 1340.79296875\n",
            "15 1288.5537109375\n",
            "16 970.11328125\n",
            "17 936.2674560546875\n",
            "18 810.6997680664062\n",
            "19 780.1257934570312\n",
            "20 606.5485229492188\n",
            "21 556.4589233398438\n",
            "22 459.3522033691406\n",
            "23 419.6374816894531\n",
            "24 355.4754333496094\n",
            "25 334.7472839355469\n",
            "26 290.18798828125\n",
            "27 243.67787170410156\n",
            "28 230.6064453125\n",
            "29 177.3623809814453\n",
            "30 167.9454803466797\n",
            "31 161.68751525878906\n",
            "32 136.1386260986328\n",
            "33 119.06312561035156\n",
            "34 92.66917419433594\n",
            "35 88.16985321044922\n",
            "36 78.00606536865234\n",
            "37 72.13556671142578\n",
            "38 63.523468017578125\n",
            "39 56.387489318847656\n",
            "40 50.9036865234375\n",
            "41 42.4791145324707\n",
            "42 37.47245407104492\n",
            "43 34.6677131652832\n",
            "44 30.005733489990234\n",
            "45 27.547677993774414\n",
            "46 24.044084548950195\n",
            "47 21.541860580444336\n",
            "48 19.06849479675293\n",
            "49 15.627625465393066\n",
            "50 13.413336753845215\n",
            "51 13.614534378051758\n",
            "52 11.046446800231934\n",
            "53 10.262022018432617\n",
            "54 9.90973949432373\n",
            "55 8.230029106140137\n",
            "56 7.468695640563965\n",
            "57 6.099082946777344\n",
            "58 6.057596683502197\n",
            "59 5.22318172454834\n",
            "60 4.133268356323242\n",
            "61 4.126579284667969\n",
            "62 3.517524242401123\n",
            "63 3.2133984565734863\n",
            "64 3.2124404907226562\n",
            "65 2.5217764377593994\n",
            "66 2.14939546585083\n",
            "67 2.0659170150756836\n",
            "68 1.8945729732513428\n",
            "69 1.6704829931259155\n",
            "70 1.538460373878479\n",
            "71 1.4035823345184326\n",
            "72 1.2115848064422607\n",
            "73 1.061958909034729\n",
            "74 1.0162042379379272\n",
            "75 0.9020349383354187\n",
            "76 0.6875895261764526\n",
            "77 0.7004413604736328\n",
            "78 0.6628495454788208\n",
            "79 0.4874997138977051\n",
            "80 0.43471065163612366\n",
            "81 0.4125472605228424\n",
            "82 0.3608812689781189\n",
            "83 0.32179149985313416\n",
            "84 0.27989909052848816\n",
            "85 0.2585727274417877\n",
            "86 0.2216375172138214\n",
            "87 0.204302117228508\n",
            "88 0.18954217433929443\n",
            "89 0.15670433640480042\n",
            "90 0.16755573451519012\n",
            "91 0.14286966621875763\n",
            "92 0.12507392466068268\n",
            "93 0.10873681306838989\n",
            "94 0.09636584669351578\n",
            "95 0.09481576830148697\n",
            "96 0.0735093429684639\n",
            "97 0.07310163974761963\n",
            "98 0.07060118764638901\n",
            "99 0.0538647435605526\n"
          ]
        }
      ]
    },
    {
      "cell_type": "code",
      "source": [
        "import matplotlib.pyplot as plt\n",
        "\n",
        "plt.plot(epoch_losses)"
      ],
      "metadata": {
        "colab": {
          "base_uri": "https://localhost:8080/",
          "height": 447
        },
        "collapsed": true,
        "id": "FytVy_o70pVg",
        "outputId": "bcc6e593-243c-48a4-92ce-505d634c3fe3"
      },
      "id": "FytVy_o70pVg",
      "execution_count": null,
      "outputs": [
        {
          "output_type": "execute_result",
          "data": {
            "text/plain": [
              "[<matplotlib.lines.Line2D at 0x7cfd92460d00>]"
            ]
          },
          "metadata": {},
          "execution_count": 23
        },
        {
          "output_type": "display_data",
          "data": {
            "text/plain": [
              "<Figure size 640x480 with 1 Axes>"
            ],
            "image/png": "[encoded data removed]"
          },
          "metadata": {}
        }
      ]
    },
    {
      "cell_type": "code",
      "source": [
        "def train(model, loader, n_epochs, criterion, optimizer, print_every):\n",
        "  model.train()\n",
        "  pass"
      ],
      "metadata": {
        "id": "Bw-zlVnr04vH"
      },
      "id": "Bw-zlVnr04vH",
      "execution_count": null,
      "outputs": []
    },
    {
      "cell_type": "code",
      "source": [
        "@th.no_grad()\n",
        "def eval(model):\n",
        "  model.eval()"
      ],
      "metadata": {
        "id": "LVdmy7Cw1soo"
      },
      "id": "LVdmy7Cw1soo",
      "execution_count": null,
      "outputs": []
    },
    {
      "cell_type": "code",
      "source": [
        "with th.no_grad():\n",
        "  y_pred = model(X)\n",
        "  print(y_pred.flatten())"
      ],
      "metadata": {
        "colab": {
          "base_uri": "https://localhost:8080/"
        },
        "id": "AH_hHj6v1xih",
        "outputId": "e5457bcc-e851-4841-b654-15ee77b6a3d4"
      },
      "id": "AH_hHj6v1xih",
      "execution_count": null,
      "outputs": [
        {
          "output_type": "stream",
          "name": "stdout",
          "text": [
            "tensor([-142.2223,   -3.9681,   -0.3347,  -33.5017,   26.5222,  -22.1065,\n",
            "          98.1353,   73.1690,  124.3108,  -13.0349, -129.9211,    7.0733,\n",
            "        -129.7877,  -40.5782,  219.9769, -133.8351,    0.6397,  -55.1435,\n",
            "         -65.0121,   42.2836, -146.0229,  -67.8349,  -34.7332,  -82.4725,\n",
            "          52.6119, -175.1735,  -37.6561, -104.9016, -142.3109,  140.4642,\n",
            "         -35.0005,   10.7474,   95.4299, -158.3733,   -8.0295,   79.6686,\n",
            "        -105.6843, -165.9831,  -11.9526,    4.2130,   38.4981,   30.6205,\n",
            "         -90.5180,  156.6114,  132.6114,   66.0135,    9.4843,  104.9913,\n",
            "          61.5150,  -77.7560,    9.0347,   59.5998,   75.5635,  -35.1942,\n",
            "          20.3560,   43.5337,   32.5159,    7.2357,   -4.4607,   94.1808,\n",
            "         -81.8152,   51.3535,   65.9938,   38.4395,  137.2492,  -74.6165,\n",
            "         -69.1137,    8.5040, -130.0887, -107.8726,  121.4831,    7.8904,\n",
            "        -140.5839,  -81.1990,   85.0024,   98.3323,   30.2607,  102.7913,\n",
            "        -117.2347, -100.1447,  -41.0168,  274.2581,  127.7270,  152.3799,\n",
            "         -48.6752,  111.2085,  -88.6834,  157.4362,  -34.0602,   98.0042,\n",
            "         -58.3400,  -88.3120,   61.3568,   76.9132,  228.5543,  -46.8014,\n",
            "        -159.7027,  -15.9438,   83.1718,  196.8945])\n"
          ]
        }
      ]
    },
    {
      "cell_type": "code",
      "source": [
        "with th.no_grad():\n",
        "  y_pred = model(X)"
      ],
      "metadata": {
        "id": "pXxkG1jk1cTS"
      },
      "id": "pXxkG1jk1cTS",
      "execution_count": null,
      "outputs": []
    },
    {
      "cell_type": "code",
      "source": [
        "from sklearn.metrics import r2_score"
      ],
      "metadata": {
        "id": "tNbG66SP2kv4"
      },
      "id": "tNbG66SP2kv4",
      "execution_count": null,
      "outputs": []
    },
    {
      "cell_type": "code",
      "source": [
        "r2_score(y, y_pred.flatten())"
      ],
      "metadata": {
        "colab": {
          "base_uri": "https://localhost:8080/"
        },
        "id": "I4og-fwB2rbk",
        "outputId": "574b1962-5f04-422a-fc5c-d63f465d86b6"
      },
      "id": "I4og-fwB2rbk",
      "execution_count": null,
      "outputs": [
        {
          "output_type": "execute_result",
          "data": {
            "text/plain": [
              "0.9999942481748334"
            ]
          },
          "metadata": {},
          "execution_count": 29
        }
      ]
    },
    {
      "cell_type": "code",
      "source": [
        "!pip install torchmetrics"
      ],
      "metadata": {
        "colab": {
          "base_uri": "https://localhost:8080/"
        },
        "id": "OvYIBjTS3paI",
        "outputId": "62e48e76-23f5-4bcb-ccf4-3b03943c5269",
        "collapsed": true
      },
      "id": "OvYIBjTS3paI",
      "execution_count": null,
      "outputs": [
        {
          "output_type": "stream",
          "name": "stdout",
          "text": [
            "Collecting torchmetrics\n",
            "  Downloading torchmetrics-1.4.2-py3-none-any.whl.metadata (19 kB)\n",
            "Requirement already satisfied: numpy>1.20.0 in /usr/local/lib/python3.10/dist-packages (from torchmetrics) (1.26.4)\n",
            "Requirement already satisfied: packaging>17.1 in /usr/local/lib/python3.10/dist-packages (from torchmetrics) (24.1)\n",
            "Requirement already satisfied: torch>=1.10.0 in /usr/local/lib/python3.10/dist-packages (from torchmetrics) (2.4.1+cu121)\n",
            "Collecting lightning-utilities>=0.8.0 (from torchmetrics)\n",
            "  Downloading lightning_utilities-0.11.7-py3-none-any.whl.metadata (5.2 kB)\n",
            "Requirement already satisfied: setuptools in /usr/local/lib/python3.10/dist-packages (from lightning-utilities>=0.8.0->torchmetrics) (71.0.4)\n",
            "Requirement already satisfied: typing-extensions in /usr/local/lib/python3.10/dist-packages (from lightning-utilities>=0.8.0->torchmetrics) (4.12.2)\n",
            "Requirement already satisfied: filelock in /usr/local/lib/python3.10/dist-packages (from torch>=1.10.0->torchmetrics) (3.16.1)\n",
            "Requirement already satisfied: sympy in /usr/local/lib/python3.10/dist-packages (from torch>=1.10.0->torchmetrics) (1.13.3)\n",
            "Requirement already satisfied: networkx in /usr/local/lib/python3.10/dist-packages (from torch>=1.10.0->torchmetrics) (3.3)\n",
            "Requirement already satisfied: jinja2 in /usr/local/lib/python3.10/dist-packages (from torch>=1.10.0->torchmetrics) (3.1.4)\n",
            "Requirement already satisfied: fsspec in /usr/local/lib/python3.10/dist-packages (from torch>=1.10.0->torchmetrics) (2024.6.1)\n",
            "Requirement already satisfied: MarkupSafe>=2.0 in /usr/local/lib/python3.10/dist-packages (from jinja2->torch>=1.10.0->torchmetrics) (2.1.5)\n",
            "Requirement already satisfied: mpmath<1.4,>=1.1.0 in /usr/local/lib/python3.10/dist-packages (from sympy->torch>=1.10.0->torchmetrics) (1.3.0)\n",
            "Downloading torchmetrics-1.4.2-py3-none-any.whl (869 kB)\n",
            "\u001b[2K   \u001b[90m━━━━━━━━━━━━━━━━━━━━━━━━━━━━━━━━━━━━━━━━\u001b[0m \u001b[32m869.2/869.2 kB\u001b[0m \u001b[31m13.9 MB/s\u001b[0m eta \u001b[36m0:00:00\u001b[0m\n",
            "\u001b[?25hDownloading lightning_utilities-0.11.7-py3-none-any.whl (26 kB)\n",
            "Installing collected packages: lightning-utilities, torchmetrics\n",
            "Successfully installed lightning-utilities-0.11.7 torchmetrics-1.4.2\n"
          ]
        }
      ]
    },
    {
      "cell_type": "code",
      "source": [
        "import torchmetrics as M"
      ],
      "metadata": {
        "id": "9a5_9xQl3EXS"
      },
      "id": "9a5_9xQl3EXS",
      "execution_count": null,
      "outputs": []
    },
    {
      "cell_type": "code",
      "source": [
        "from torch.utils.data import TensorDataset, DataLoader\n",
        "\n",
        "dataset = TensorDataset(X, y)\n",
        "loader = DataLoader(dataset, batch_size=16, shuffle=True)\n",
        "\n",
        "n_inputs = 4\n",
        "n_hidden = 1\n",
        "\n",
        "model = nn.Sequential(\n",
        "    nn.Linear(in_features=n_inputs, out_features=1),\n",
        "    # nn.ReLU(),\n",
        "    # nn.Linear(in_features=n_hidden, out_features=1),\n",
        ")\n",
        "criterion = nn.MSELoss()\n",
        "optimizer = optim.SGD(model.parameters(), lr=0.005)\n",
        "\n",
        "epoch_losses = []\n",
        "for epoch in range(100):\n",
        "  epoch_loss = 0\n",
        "  r2_metric = M.R2Score()\n",
        "  for X_batch, y_batch in loader:\n",
        "    # forward pass\n",
        "    y_pred = model(X_batch)\n",
        "    loss = criterion(y_pred.flatten(), y_batch)\n",
        "    epoch_loss += loss\n",
        "    r2_metric.update(y_pred.flatten(), y_batch)\n",
        "    # backprop\n",
        "    loss.backward()\n",
        "\n",
        "    # gradient descend\n",
        "    optimizer.step()\n",
        "    optimizer.zero_grad()\n",
        "  epoch_loss = epoch_loss / len(loader)\n",
        "  epoch_losses.append( epoch_loss.item())\n",
        "  r2_epoch = r2_metric.compute()\n",
        "  print(epoch, epoch_loss.item(), r2_epoch)"
      ],
      "metadata": {
        "colab": {
          "base_uri": "https://localhost:8080/"
        },
        "id": "e5xbKG_Y3_qy",
        "outputId": "6fd47a84-c503-4576-a681-aa3dc8c3b757",
        "collapsed": true
      },
      "id": "e5xbKG_Y3_qy",
      "execution_count": null,
      "outputs": [
        {
          "output_type": "stream",
          "name": "stdout",
          "text": [
            "0 8562.8017578125 tensor(0.0427)\n",
            "1 7731.93408203125 tensor(0.1597)\n",
            "2 8398.6015625 tensor(0.2653)\n",
            "3 5639.02880859375 tensor(0.3787)\n",
            "4 5163.15185546875 tensor(0.4545)\n",
            "5 4296.4931640625 tensor(0.5235)\n",
            "6 3996.596435546875 tensor(0.5814)\n",
            "7 3455.772705078125 tensor(0.6350)\n",
            "8 3086.505615234375 tensor(0.6802)\n",
            "9 2444.874267578125 tensor(0.7211)\n",
            "10 2342.742431640625 tensor(0.7536)\n",
            "11 2187.14111328125 tensor(0.7843)\n",
            "12 1784.508056640625 tensor(0.8127)\n",
            "13 1562.5423583984375 tensor(0.8362)\n",
            "14 1270.9010009765625 tensor(0.8567)\n",
            "15 1177.595947265625 tensor(0.8735)\n",
            "16 982.3495483398438 tensor(0.8888)\n",
            "17 869.3939819335938 tensor(0.9016)\n",
            "18 792.0260620117188 tensor(0.9128)\n",
            "19 720.3367919921875 tensor(0.9230)\n",
            "20 719.0626220703125 tensor(0.9324)\n",
            "21 517.5955810546875 tensor(0.9413)\n",
            "22 459.67144775390625 tensor(0.9480)\n",
            "23 411.5140075683594 tensor(0.9540)\n",
            "24 393.16839599609375 tensor(0.9592)\n",
            "25 318.7900695800781 tensor(0.9642)\n",
            "26 293.79254150390625 tensor(0.9683)\n",
            "27 257.76043701171875 tensor(0.9719)\n",
            "28 219.9687042236328 tensor(0.9752)\n",
            "29 205.6442413330078 tensor(0.9779)\n",
            "30 197.60470581054688 tensor(0.9805)\n",
            "31 150.8419952392578 tensor(0.9829)\n",
            "32 138.67462158203125 tensor(0.9848)\n",
            "33 130.8988800048828 tensor(0.9865)\n",
            "34 110.8757553100586 tensor(0.9881)\n",
            "35 90.662841796875 tensor(0.9895)\n",
            "36 81.63702392578125 tensor(0.9906)\n",
            "37 85.98228454589844 tensor(0.9916)\n",
            "38 65.28224182128906 tensor(0.9926)\n",
            "39 59.703792572021484 tensor(0.9934)\n",
            "40 59.12397003173828 tensor(0.9941)\n",
            "41 47.613807678222656 tensor(0.9948)\n",
            "42 41.53671646118164 tensor(0.9954)\n",
            "43 37.835716247558594 tensor(0.9959)\n",
            "44 39.45092010498047 tensor(0.9964)\n",
            "45 29.212642669677734 tensor(0.9968)\n",
            "46 27.10787010192871 tensor(0.9972)\n",
            "47 26.093128204345703 tensor(0.9975)\n",
            "48 18.904491424560547 tensor(0.9978)\n",
            "49 19.618120193481445 tensor(0.9980)\n",
            "50 17.137514114379883 tensor(0.9982)\n",
            "51 15.425421714782715 tensor(0.9984)\n",
            "52 12.443391799926758 tensor(0.9986)\n",
            "53 11.289031982421875 tensor(0.9988)\n",
            "54 10.664416313171387 tensor(0.9989)\n",
            "55 9.71905517578125 tensor(0.9990)\n",
            "56 8.095827102661133 tensor(0.9991)\n",
            "57 7.70047664642334 tensor(0.9992)\n",
            "58 6.72710657119751 tensor(0.9993)\n",
            "59 5.273066997528076 tensor(0.9994)\n",
            "60 5.0037841796875 tensor(0.9995)\n",
            "61 4.391842842102051 tensor(0.9995)\n",
            "62 3.883641481399536 tensor(0.9996)\n",
            "63 3.6288259029388428 tensor(0.9996)\n",
            "64 3.092435836791992 tensor(0.9997)\n",
            "65 3.091657876968384 tensor(0.9997)\n",
            "66 2.704375743865967 tensor(0.9997)\n",
            "67 2.1909983158111572 tensor(0.9998)\n",
            "68 1.8674099445343018 tensor(0.9998)\n",
            "69 1.8151501417160034 tensor(0.9998)\n",
            "70 1.598082184791565 tensor(0.9998)\n",
            "71 1.4545048475265503 tensor(0.9998)\n",
            "72 1.3203493356704712 tensor(0.9999)\n",
            "73 1.1390230655670166 tensor(0.9999)\n",
            "74 1.1955822706222534 tensor(0.9999)\n",
            "75 0.9043624997138977 tensor(0.9999)\n",
            "76 0.8723007440567017 tensor(0.9999)\n",
            "77 0.7266247868537903 tensor(0.9999)\n",
            "78 0.6440962553024292 tensor(0.9999)\n",
            "79 0.5746561288833618 tensor(0.9999)\n",
            "80 0.5449541211128235 tensor(0.9999)\n",
            "81 0.5100172162055969 tensor(0.9999)\n",
            "82 0.4257565438747406 tensor(1.0000)\n",
            "83 0.4359128475189209 tensor(1.0000)\n",
            "84 0.33707353472709656 tensor(1.0000)\n",
            "85 0.3169068396091461 tensor(1.0000)\n",
            "86 0.26735934615135193 tensor(1.0000)\n",
            "87 0.2614620625972748 tensor(1.0000)\n",
            "88 0.20973260700702667 tensor(1.0000)\n",
            "89 0.20558297634124756 tensor(1.0000)\n",
            "90 0.17274948954582214 tensor(1.0000)\n",
            "91 0.15790323913097382 tensor(1.0000)\n",
            "92 0.1473187655210495 tensor(1.0000)\n",
            "93 0.13817454874515533 tensor(1.0000)\n",
            "94 0.1312641054391861 tensor(1.0000)\n",
            "95 0.11267305910587311 tensor(1.0000)\n",
            "96 0.08623112738132477 tensor(1.0000)\n",
            "97 0.0820365622639656 tensor(1.0000)\n",
            "98 0.0778961107134819 tensor(1.0000)\n",
            "99 0.07366075366735458 tensor(1.0000)\n"
          ]
        }
      ]
    },
    {
      "cell_type": "markdown",
      "id": "4d7b6d63",
      "metadata": {
        "id": "4d7b6d63"
      },
      "source": [
        "## Задачи для самостоятельного решения"
      ]
    },
    {
      "cell_type": "markdown",
      "id": "23f3c75f",
      "metadata": {
        "id": "23f3c75f"
      },
      "source": [
        "<p class=\"task\" id=\"1\"></p>\n",
        "\n",
        "1\\. Используя реализацию полносвязного слоя из `torch.nn` решите задачу регрессии. В качестве функции потерь используйте реализацию MSE из `torch.nn`. Для настройки весов реализуйте мини-пакетный градиентный спуск с использованием `torch.optim.SGD`. Для создания модели опишите класс `SineModel`.\n",
        "\n",
        "Предлагаемая архитектура нейронной сети:\n",
        "1. Полносвязный слой с 100 нейронами\n",
        "2. Активация ReLU\n",
        "3. Полносвязный слой с 1 нейроном\n",
        "\n",
        "В процессе обучения сохраняйте промежуточные прогнозы моделей. Визуализируйте облако точек и прогнозы модели в начале, середине и после окончания процесса обучения (не обязательно три, можно взять больше промежуточных вариантов).\n",
        "\n",
        "Выведите график изменения значения функции потерь в процессе обучения. Логику расчета значения функции потерь на уровне эпохи реализуйте самостоятельно.\n",
        "\n",
        "- [ ] Проверено на семинаре"
      ]
    },
    {
      "cell_type": "code",
      "execution_count": null,
      "id": "24df5bc7",
      "metadata": {
        "id": "24df5bc7",
        "colab": {
          "base_uri": "https://localhost:8080/"
        },
        "outputId": "d567253d-d3a4-4f29-9f82-b5624e967c4e"
      },
      "outputs": [
        {
          "output_type": "execute_result",
          "data": {
            "text/plain": [
              "(torch.Size([100, 1]), torch.Size([100, 1]))"
            ]
          },
          "metadata": {},
          "execution_count": 119
        }
      ],
      "source": [
        "import torch as th\n",
        "\n",
        "X = th.linspace(0, 1, 100).view(-1, 1)\n",
        "y = th.sin(2 * th.pi * X) + 0.1 * th.rand(X.size())\n",
        "# X = th.FloatTensor(X)\n",
        "# y = th.FloatTensor(y)\n",
        "X.shape, y.shape"
      ]
    },
    {
      "cell_type": "code",
      "execution_count": null,
      "id": "5c15f281-6a43-4390-8641-535fc6309c30",
      "metadata": {
        "id": "5c15f281-6a43-4390-8641-535fc6309c30"
      },
      "outputs": [],
      "source": [
        "import torch.nn as nn\n",
        "class SineModel(nn.Module):\n",
        "    def __init__(self, n_features: int, n_hidden: int, n_out: int) -> None:\n",
        "        super().__init__()\n",
        "        self.fc1 = nn.Linear(in_features=n_features, out_features=n_hidden)\n",
        "        self.relu = nn.ReLU()\n",
        "        self.fc2 = nn.Linear(in_features=n_hidden, out_features=1)\n",
        "\n",
        "    def forward(self, X: TensorType[\"batch\", \"n_features\"]) -> TensorType[\"batch\", 1]:\n",
        "        out = self.fc1(X)\n",
        "        out = self.relu(out)\n",
        "        out = self.fc2(out)\n",
        "        return out"
      ]
    },
    {
      "cell_type": "code",
      "source": [
        "model = SineModel(n_features=1, n_hidden=100, n_out=1)\n",
        "\n",
        "\n",
        "criterion = nn.MSELoss()\n",
        "\n",
        "optimizer = optim.SGD(model.parameters(), lr=0.01)\n",
        "\n",
        "dataset = TensorDataset(X, y)\n",
        "loader = DataLoader(dataset, batch_size=8, shuffle=True)\n",
        "\n",
        "epoch_losses = []\n",
        "for epoch in range(100):\n",
        "  epoch_loss = 0\n",
        "  for X_batch, y_batch in loader:\n",
        "\n",
        "    # forward pass\n",
        "    y_pred = model(X_batch)\n",
        "    loss = criterion(y_pred, y_batch)\n",
        "    epoch_loss += loss\n",
        "\n",
        "    # backprop\n",
        "    loss.backward()\n",
        "\n",
        "    # gradient descend\n",
        "    optimizer.step()\n",
        "    optimizer.zero_grad()\n",
        "    epoch_loss = epoch_loss / len(loader)\n",
        "  if epoch%20==0:\n",
        "\n",
        "    epoch_losses.append( epoch_loss.item())\n",
        "    print(epoch, epoch_loss.item())"
      ],
      "metadata": {
        "colab": {
          "base_uri": "https://localhost:8080/"
        },
        "id": "FxYlnpeOgl3I",
        "outputId": "22667d87-d0da-42b2-d05c-448833fce950"
      },
      "id": "FxYlnpeOgl3I",
      "execution_count": null,
      "outputs": [
        {
          "output_type": "stream",
          "name": "stdout",
          "text": [
            "0 0.06178431212902069\n",
            "20 0.015029086731374264\n",
            "40 0.018311679363250732\n",
            "60 0.00716837914660573\n",
            "80 0.031303342431783676\n"
          ]
        }
      ]
    },
    {
      "cell_type": "code",
      "source": [
        "import matplotlib.pyplot as plt\n",
        "\n",
        "plt.plot(epoch_losses);"
      ],
      "metadata": {
        "colab": {
          "base_uri": "https://localhost:8080/",
          "height": 430
        },
        "id": "ky1eAYa1hw95",
        "outputId": "e02745d7-4478-4895-adfc-708d11652be7"
      },
      "id": "ky1eAYa1hw95",
      "execution_count": null,
      "outputs": [
        {
          "output_type": "display_data",
          "data": {
            "text/plain": [
              "<Figure size 640x480 with 1 Axes>"
            ],
            "image/png": "[encoded data removed]"
          },
          "metadata": {}
        }
      ]
    },
    {
      "cell_type": "markdown",
      "id": "09498776",
      "metadata": {
        "id": "09498776"
      },
      "source": [
        "<p class=\"task\" id=\"2\"></p>\n",
        "\n",
        "2\\. Повторите решение задачи 1, изменив модель. Для создания модели создайте объект класса `nn.Sequential`.\n",
        "\n",
        "Предлагаемая архитектура нейронной сети:\n",
        "1. Полносвязный слой с 50 нейронами\n",
        "2. Активация Tanh\n",
        "3. Полносвязный слой с 1 нейроном\n",
        "\n",
        "- [ ] Проверено на семинаре"
      ]
    },
    {
      "cell_type": "code",
      "execution_count": null,
      "id": "629e374d",
      "metadata": {
        "id": "629e374d",
        "colab": {
          "base_uri": "https://localhost:8080/"
        },
        "outputId": "3dc7755f-f76c-4849-9d2e-39f7b3270803"
      },
      "outputs": [
        {
          "output_type": "execute_result",
          "data": {
            "text/plain": [
              "(torch.Size([100, 1]), torch.Size([100, 1]))"
            ]
          },
          "metadata": {},
          "execution_count": 123
        }
      ],
      "source": [
        "import torch\n",
        "\n",
        "X = torch.linspace(0, 1, 100).view(-1, 1)\n",
        "y = torch.sin(2 * torch.pi * X) + 0.1 * torch.rand(X.size())\n",
        "\n",
        "X.shape, y.shape"
      ]
    },
    {
      "cell_type": "code",
      "source": [
        "from torch.utils.data import TensorDataset, DataLoader\n",
        "\n",
        "dataset = TensorDataset(X, y)\n",
        "loader = DataLoader(dataset, batch_size=8, shuffle=True)\n",
        "\n",
        "n_inputs = 1\n",
        "n_hidden = 50\n",
        "\n",
        "model = nn.Sequential(\n",
        "    nn.Linear(in_features=n_inputs, out_features=n_hidden),\n",
        "    nn.Tanh(),\n",
        "    nn.Linear(in_features=n_hidden, out_features=1),\n",
        ")\n",
        "criterion = nn.MSELoss()\n",
        "optimizer = optim.SGD(model.parameters(), lr=0.001)\n",
        "\n",
        "epoch_losses = []\n",
        "for epoch in range(100):\n",
        "  epoch_loss = 0\n",
        "  for X_batch, y_batch in loader:\n",
        "\n",
        "    # forward pass\n",
        "    y_pred = model(X_batch)\n",
        "    loss = criterion(y_pred, y_batch)\n",
        "    epoch_loss += loss\n",
        "\n",
        "    # backprop\n",
        "    loss.backward()\n",
        "\n",
        "    # gradient descend\n",
        "    optimizer.step()\n",
        "    optimizer.zero_grad()\n",
        "    epoch_loss = epoch_loss / len(loader)\n",
        "\n",
        "  if epoch%20==0:\n",
        "    epoch_losses.append( epoch_loss.item())\n",
        "    print(epoch, epoch_loss.item())"
      ],
      "metadata": {
        "colab": {
          "base_uri": "https://localhost:8080/"
        },
        "id": "MXUc0gD5lBYz",
        "outputId": "b5a780f5-027c-4cda-d0fe-aaa6367a68a4"
      },
      "id": "MXUc0gD5lBYz",
      "execution_count": null,
      "outputs": [
        {
          "output_type": "stream",
          "name": "stdout",
          "text": [
            "0 0.04401695355772972\n",
            "20 0.020222146064043045\n",
            "40 0.011737098917365074\n",
            "60 0.012984339147806168\n",
            "80 0.021645724773406982\n"
          ]
        }
      ]
    },
    {
      "cell_type": "code",
      "source": [
        "plt.plot(epoch_losses);"
      ],
      "metadata": {
        "colab": {
          "base_uri": "https://localhost:8080/",
          "height": 430
        },
        "id": "vj7WejdHmaEC",
        "outputId": "9cafa8da-7d39-42d5-a3ba-19e21290fc5e"
      },
      "id": "vj7WejdHmaEC",
      "execution_count": null,
      "outputs": [
        {
          "output_type": "display_data",
          "data": {
            "text/plain": [
              "<Figure size 640x480 with 1 Axes>"
            ],
            "image/png": "[encoded data removed]"
          },
          "metadata": {}
        }
      ]
    },
    {
      "cell_type": "markdown",
      "id": "d850392d-0751-413f-a081-629900ecdffa",
      "metadata": {
        "id": "d850392d-0751-413f-a081-629900ecdffa"
      },
      "source": [
        "<p class=\"task\" id=\"3\"></p>\n",
        "\n",
        "3\\. Используя реализацию полносвязного слоя из `torch.nn`, решите задачу регрессии. В качестве функции потерь используйте реализацию MSE из `torch.nn`. Для настройки весов реализуйте мини-пакетный градиентный спуск с использованием `torch.optim.SGD`. Перенесите вычисления на GPU и сравните время обучения с и без использования GPU. Решение должно корректно работать в случае отсутствия GPU без дополнительных изменений в коде.\n",
        "\n",
        "- [ ] Проверено на семинаре"
      ]
    },
    {
      "cell_type": "code",
      "execution_count": null,
      "id": "820ab40b-e4f7-4f53-833e-65ce69758592",
      "metadata": {
        "id": "820ab40b-e4f7-4f53-833e-65ce69758592",
        "colab": {
          "base_uri": "https://localhost:8080/"
        },
        "outputId": "0724495d-c108-4356-ecbb-59cc3ba045b9"
      },
      "outputs": [
        {
          "output_type": "execute_result",
          "data": {
            "text/plain": [
              "(torch.Size([10000, 10]), torch.Size([10000, 1]))"
            ]
          },
          "metadata": {},
          "execution_count": 1
        }
      ],
      "source": [
        "from sklearn.datasets import make_regression\n",
        "import torch as th\n",
        "\n",
        "X, y, coef = make_regression(\n",
        "    n_samples=10000,\n",
        "    n_features=10,\n",
        "    n_informative=6,\n",
        "    coef=True,\n",
        "    bias=0.5,\n",
        "    random_state=42\n",
        ")\n",
        "X = th.FloatTensor(X)\n",
        "y = th.FloatTensor(y).reshape(-1, 1)\n",
        "X.shape, y.shape"
      ]
    },
    {
      "cell_type": "code",
      "source": [
        "from torch.utils.data import TensorDataset, DataLoader\n",
        "import torch.nn as nn\n",
        "import torch.optim as optim\n",
        "\n",
        "dataset = TensorDataset(X, y)\n",
        "loader = DataLoader(dataset, batch_size=8, shuffle=True)\n",
        "\n",
        "n_inputs = 10\n",
        "n_hidden = 20\n",
        "\n",
        "model = nn.Sequential(\n",
        "    nn.Linear(in_features=n_inputs, out_features=n_hidden),\n",
        "    nn.ReLU(),\n",
        "    nn.Linear(in_features=n_hidden, out_features=1),\n",
        ")\n",
        "criterion = nn.MSELoss()\n",
        "optimizer = optim.SGD(model.parameters(), lr=0.0005)"
      ],
      "metadata": {
        "collapsed": true,
        "id": "RvPWkVEXm_ul"
      },
      "id": "RvPWkVEXm_ul",
      "execution_count": null,
      "outputs": []
    },
    {
      "cell_type": "code",
      "source": [
        "#CPU\n",
        "import time\n",
        "\n",
        "start_time = time.time()\n",
        "epoch_losses = []\n",
        "for epoch in range(50):\n",
        "  epoch_loss = 0\n",
        "  for X_batch, y_batch in loader:\n",
        "\n",
        "    # forward pass\n",
        "    y_pred = model(X_batch)\n",
        "    loss = criterion(y_pred, y_batch)\n",
        "    epoch_loss += loss\n",
        "\n",
        "    # backprop\n",
        "    loss.backward()\n",
        "\n",
        "    # gradient descend\n",
        "    optimizer.step()\n",
        "    optimizer.zero_grad()\n",
        "\n",
        "\n",
        "  if epoch%10==0:\n",
        "    epoch_loss = epoch_loss / len(loader)\n",
        "    epoch_losses.append(epoch_loss.item())\n",
        "    print(epoch, epoch_loss.item())\n",
        "end_time = time.time()\n",
        "execution_time = end_time - start_time\n",
        "print(f\"Время выполнения на CPU: {execution_time} секунд\")"
      ],
      "metadata": {
        "colab": {
          "base_uri": "https://localhost:8080/"
        },
        "id": "M1nJK_zitOnE",
        "outputId": "2254221c-5c2a-4a1a-e394-a5f9e81e6339"
      },
      "id": "M1nJK_zitOnE",
      "execution_count": null,
      "outputs": [
        {
          "output_type": "stream",
          "name": "stdout",
          "text": [
            "0 640.785400390625\n",
            "10 0.04496388882398605\n",
            "20 0.017951546236872673\n",
            "30 0.010038048028945923\n",
            "40 0.0063351476565003395\n",
            "Время выполнения на CPU: 49.617854833602905 секунд\n"
          ]
        }
      ]
    },
    {
      "cell_type": "code",
      "source": [
        "#GPU с предварительной проверкой наличия\n",
        "import time\n",
        "\n",
        "if th.cuda.is_available():\n",
        "    device = th.device(\"cuda\")\n",
        "    model = model.to(device)\n",
        "    start_time = time.time()\n",
        "    epoch_losses = []\n",
        "    for epoch in range(50):\n",
        "        epoch_loss = 0\n",
        "        for X_batch, y_batch in loader:\n",
        "            X_batch, y_batch = X_batch.to(device), y_batch.to(device)\n",
        "            # forward pass\n",
        "            y_pred = model(X_batch)\n",
        "            loss = criterion(y_pred, y_batch)\n",
        "            epoch_loss += loss\n",
        "\n",
        "            # backprop\n",
        "            loss.backward()\n",
        "\n",
        "            # gradient descend\n",
        "            optimizer.step()\n",
        "            optimizer.zero_grad()\n",
        "\n",
        "\n",
        "        if epoch%10==0:\n",
        "            epoch_loss = epoch_loss / len(loader)\n",
        "            epoch_losses.append(epoch_loss.item())\n",
        "            print(epoch, epoch_loss.item())\n",
        "    end_time = time.time()\n",
        "    execution_time = end_time - start_time\n",
        "    print(f\"Время выполнения на GPU: {execution_time} секунд\")\n",
        "else:\n",
        "    print('GPU не обнаружена')"
      ],
      "metadata": {
        "colab": {
          "base_uri": "https://localhost:8080/"
        },
        "id": "u2u3833-uADk",
        "outputId": "f9e403cd-9c43-491f-c355-154d171c3eb4"
      },
      "id": "u2u3833-uADk",
      "execution_count": null,
      "outputs": [
        {
          "output_type": "stream",
          "name": "stdout",
          "text": [
            "0 721.2403564453125\n",
            "10 0.05686447024345398\n",
            "20 0.020635327324271202\n",
            "30 0.012018298730254173\n",
            "40 0.007553787901997566\n",
            "Время выполнения на GPU: 80.6961042881012 секунд\n"
          ]
        }
      ]
    },
    {
      "cell_type": "code",
      "source": [
        "plt.plot(epoch_losses);"
      ],
      "metadata": {
        "colab": {
          "base_uri": "https://localhost:8080/",
          "height": 430
        },
        "id": "-p67-HCXsVbY",
        "outputId": "0e88e51c-2be8-4d27-f9a4-957e4bb0c5f1"
      },
      "id": "-p67-HCXsVbY",
      "execution_count": null,
      "outputs": [
        {
          "output_type": "display_data",
          "data": {
            "text/plain": [
              "<Figure size 640x480 with 1 Axes>"
            ],
            "image/png": "[encoded data removed]"
          },
          "metadata": {}
        }
      ]
    },
    {
      "cell_type": "markdown",
      "id": "7120b1be-8360-42e4-bbb2-74f417ecada2",
      "metadata": {
        "id": "7120b1be-8360-42e4-bbb2-74f417ecada2"
      },
      "source": [
        "<p class=\"task\" id=\"4\"></p>\n",
        "\n",
        "4\\. Повторите решение задач 1-2, используя для расчета значения функции потерь за эпоху метрику `MeanMetric` из пакета `torchmetrics`. Добавьте в цикл обучения расчет метрики $R^2$ (воспользуйтесь реализацией из `torchmetrics`). Выведите на экран график изменения значения функции потерь и метрики $R^2$ по эпохам в процессе обучения."
      ]
    },
    {
      "cell_type": "code",
      "source": [
        "!pip install torchmetrics"
      ],
      "metadata": {
        "collapsed": true,
        "colab": {
          "base_uri": "https://localhost:8080/"
        },
        "id": "mV2RSsDa2Nel",
        "outputId": "d69e8c2e-ca11-4b50-85e6-2159f14ab1e2"
      },
      "id": "mV2RSsDa2Nel",
      "execution_count": null,
      "outputs": [
        {
          "output_type": "stream",
          "name": "stdout",
          "text": [
            "Collecting torchmetrics\n",
            "  Downloading torchmetrics-1.4.2-py3-none-any.whl.metadata (19 kB)\n",
            "Requirement already satisfied: numpy>1.20.0 in /usr/local/lib/python3.10/dist-packages (from torchmetrics) (1.26.4)\n",
            "Requirement already satisfied: packaging>17.1 in /usr/local/lib/python3.10/dist-packages (from torchmetrics) (24.1)\n",
            "Requirement already satisfied: torch>=1.10.0 in /usr/local/lib/python3.10/dist-packages (from torchmetrics) (2.4.1+cu121)\n",
            "Collecting lightning-utilities>=0.8.0 (from torchmetrics)\n",
            "  Downloading lightning_utilities-0.11.7-py3-none-any.whl.metadata (5.2 kB)\n",
            "Requirement already satisfied: setuptools in /usr/local/lib/python3.10/dist-packages (from lightning-utilities>=0.8.0->torchmetrics) (71.0.4)\n",
            "Requirement already satisfied: typing-extensions in /usr/local/lib/python3.10/dist-packages (from lightning-utilities>=0.8.0->torchmetrics) (4.12.2)\n",
            "Requirement already satisfied: filelock in /usr/local/lib/python3.10/dist-packages (from torch>=1.10.0->torchmetrics) (3.16.1)\n",
            "Requirement already satisfied: sympy in /usr/local/lib/python3.10/dist-packages (from torch>=1.10.0->torchmetrics) (1.13.3)\n",
            "Requirement already satisfied: networkx in /usr/local/lib/python3.10/dist-packages (from torch>=1.10.0->torchmetrics) (3.3)\n",
            "Requirement already satisfied: jinja2 in /usr/local/lib/python3.10/dist-packages (from torch>=1.10.0->torchmetrics) (3.1.4)\n",
            "Requirement already satisfied: fsspec in /usr/local/lib/python3.10/dist-packages (from torch>=1.10.0->torchmetrics) (2024.6.1)\n",
            "Requirement already satisfied: MarkupSafe>=2.0 in /usr/local/lib/python3.10/dist-packages (from jinja2->torch>=1.10.0->torchmetrics) (2.1.5)\n",
            "Requirement already satisfied: mpmath<1.4,>=1.1.0 in /usr/local/lib/python3.10/dist-packages (from sympy->torch>=1.10.0->torchmetrics) (1.3.0)\n",
            "Downloading torchmetrics-1.4.2-py3-none-any.whl (869 kB)\n",
            "\u001b[2K   \u001b[90m━━━━━━━━━━━━━━━━━━━━━━━━━━━━━━━━━━━━━━━━\u001b[0m \u001b[32m869.2/869.2 kB\u001b[0m \u001b[31m11.3 MB/s\u001b[0m eta \u001b[36m0:00:00\u001b[0m\n",
            "\u001b[?25hDownloading lightning_utilities-0.11.7-py3-none-any.whl (26 kB)\n",
            "Installing collected packages: lightning-utilities, torchmetrics\n",
            "Successfully installed lightning-utilities-0.11.7 torchmetrics-1.4.2\n"
          ]
        }
      ]
    },
    {
      "cell_type": "code",
      "source": [
        "!pip install torchtyping"
      ],
      "metadata": {
        "colab": {
          "base_uri": "https://localhost:8080/"
        },
        "collapsed": true,
        "id": "lz9TeiQM6flG",
        "outputId": "56f87fb0-d6f0-48c0-e762-06db7249504e"
      },
      "id": "lz9TeiQM6flG",
      "execution_count": null,
      "outputs": [
        {
          "output_type": "stream",
          "name": "stdout",
          "text": [
            "Collecting torchtyping\n",
            "  Downloading torchtyping-0.1.5-py3-none-any.whl.metadata (9.5 kB)\n",
            "Requirement already satisfied: torch>=1.7.0 in /usr/local/lib/python3.10/dist-packages (from torchtyping) (2.4.1+cu121)\n",
            "Collecting typeguard<3,>=2.11.1 (from torchtyping)\n",
            "  Downloading typeguard-2.13.3-py3-none-any.whl.metadata (3.6 kB)\n",
            "Requirement already satisfied: filelock in /usr/local/lib/python3.10/dist-packages (from torch>=1.7.0->torchtyping) (3.16.1)\n",
            "Requirement already satisfied: typing-extensions>=4.8.0 in /usr/local/lib/python3.10/dist-packages (from torch>=1.7.0->torchtyping) (4.12.2)\n",
            "Requirement already satisfied: sympy in /usr/local/lib/python3.10/dist-packages (from torch>=1.7.0->torchtyping) (1.13.3)\n",
            "Requirement already satisfied: networkx in /usr/local/lib/python3.10/dist-packages (from torch>=1.7.0->torchtyping) (3.3)\n",
            "Requirement already satisfied: jinja2 in /usr/local/lib/python3.10/dist-packages (from torch>=1.7.0->torchtyping) (3.1.4)\n",
            "Requirement already satisfied: fsspec in /usr/local/lib/python3.10/dist-packages (from torch>=1.7.0->torchtyping) (2024.6.1)\n",
            "Requirement already satisfied: MarkupSafe>=2.0 in /usr/local/lib/python3.10/dist-packages (from jinja2->torch>=1.7.0->torchtyping) (2.1.5)\n",
            "Requirement already satisfied: mpmath<1.4,>=1.1.0 in /usr/local/lib/python3.10/dist-packages (from sympy->torch>=1.7.0->torchtyping) (1.3.0)\n",
            "Downloading torchtyping-0.1.5-py3-none-any.whl (17 kB)\n",
            "Downloading typeguard-2.13.3-py3-none-any.whl (17 kB)\n",
            "Installing collected packages: typeguard, torchtyping\n",
            "  Attempting uninstall: typeguard\n",
            "    Found existing installation: typeguard 4.3.0\n",
            "    Uninstalling typeguard-4.3.0:\n",
            "      Successfully uninstalled typeguard-4.3.0\n",
            "\u001b[31mERROR: pip's dependency resolver does not currently take into account all the packages that are installed. This behaviour is the source of the following dependency conflicts.\n",
            "inflect 7.4.0 requires typeguard>=4.0.1, but you have typeguard 2.13.3 which is incompatible.\u001b[0m\u001b[31m\n",
            "\u001b[0mSuccessfully installed torchtyping-0.1.5 typeguard-2.13.3\n"
          ]
        }
      ]
    },
    {
      "cell_type": "code",
      "source": [
        "import torch as th\n",
        "\n",
        "X = th.linspace(0, 1, 100).view(-1, 1)\n",
        "y = th.sin(2 * th.pi * X) + 0.1 * th.rand(X.size())\n",
        "# X = th.FloatTensor(X)\n",
        "# y = th.FloatTensor(y)\n",
        "X.shape, y.shape"
      ],
      "metadata": {
        "colab": {
          "base_uri": "https://localhost:8080/"
        },
        "id": "hIp5KTjTskcr",
        "outputId": "2657c46c-59f8-4735-95eb-02f84d41ca8f"
      },
      "id": "hIp5KTjTskcr",
      "execution_count": null,
      "outputs": [
        {
          "output_type": "execute_result",
          "data": {
            "text/plain": [
              "(torch.Size([100, 1]), torch.Size([100, 1]))"
            ]
          },
          "metadata": {},
          "execution_count": 10
        }
      ]
    },
    {
      "cell_type": "code",
      "source": [
        "import torch.nn as nn\n",
        "from torchtyping import TensorType\n",
        "\n",
        "class SineModel(nn.Module):\n",
        "    def __init__(self, n_features: int, n_hidden: int, n_out: int) -> None:\n",
        "        super().__init__()\n",
        "        self.fc1 = nn.Linear(in_features=n_features, out_features=n_hidden)\n",
        "        self.relu = nn.ReLU()\n",
        "        self.fc2 = nn.Linear(in_features=n_hidden, out_features=1)\n",
        "\n",
        "    def forward(self, X: TensorType[\"batch\", \"n_features\"]) -> TensorType[\"batch\", 1]:\n",
        "        out = self.fc1(X)\n",
        "        out = self.relu(out)\n",
        "        out = self.fc2(out)\n",
        "        return out"
      ],
      "metadata": {
        "id": "cB-URVT70cIC"
      },
      "id": "cB-URVT70cIC",
      "execution_count": null,
      "outputs": []
    },
    {
      "cell_type": "code",
      "source": [
        "import torchmetrics as M\n",
        "\n",
        "model = SineModel(n_features=1, n_hidden=100, n_out=1)\n",
        "\n",
        "criterion = M.MeanMetric()\n",
        "r2_metric = M.R2Score()\n",
        "epoch_losses = []\n",
        "r2_values = []\n",
        "\n",
        "optimizer = optim.SGD(model.parameters(), lr=0.001)\n",
        "\n",
        "dataset = TensorDataset(X, y)\n",
        "loader = DataLoader(dataset, batch_size=8, shuffle=True)\n",
        "\n",
        "for epoch in range(300):\n",
        "    epoch_loss = 0\n",
        "    criterion.reset()  # Сброс метрики для новой эпохи\n",
        "    r2_metric.reset()\n",
        "    for X_batch, y_batch in loader:\n",
        "\n",
        "        # forward pass\n",
        "        y_pred = model(X_batch)\n",
        "\n",
        "        loss = nn.MSELoss()(y_pred, y_batch)\n",
        "        criterion.update(loss.item())\n",
        "        r2_metric.update(y_pred, y_batch)\n",
        "\n",
        "        # backprop\n",
        "        loss.backward()\n",
        "\n",
        "        # gradient descend\n",
        "        optimizer.step()\n",
        "        optimizer.zero_grad()\n",
        "    epoch_loss = criterion.compute()\n",
        "    r2_value = r2_metric.compute()\n",
        "    epoch_losses.append(epoch_loss.item())\n",
        "    r2_values.append(r2_value)\n",
        "\n",
        "    if epoch % 40 == 0:\n",
        "        print(f\"Epoch {epoch}: Loss = {epoch_loss.item()}, R² = {r2_value}\")"
      ],
      "metadata": {
        "colab": {
          "base_uri": "https://localhost:8080/"
        },
        "id": "TvScVDWH0dOD",
        "outputId": "507de5f5-5ebf-40b5-9d08-49b7ff90e0f2"
      },
      "id": "TvScVDWH0dOD",
      "execution_count": null,
      "outputs": [
        {
          "output_type": "stream",
          "name": "stdout",
          "text": [
            "Epoch 0: Loss = 0.47101476788520813, R² = 0.02158588171005249\n",
            "Epoch 40: Loss = 0.2300194799900055, R² = 0.5458099842071533\n",
            "Epoch 80: Loss = 0.20134171843528748, R² = 0.600454568862915\n",
            "Epoch 120: Loss = 0.19125105440616608, R² = 0.6102635264396667\n",
            "Epoch 160: Loss = 0.19195573031902313, R² = 0.612318217754364\n",
            "Epoch 200: Loss = 0.18521808087825775, R² = 0.6163214445114136\n",
            "Epoch 240: Loss = 0.1855301707983017, R² = 0.619641900062561\n",
            "Epoch 280: Loss = 0.18294787406921387, R² = 0.6239058375358582\n"
          ]
        }
      ]
    },
    {
      "cell_type": "code",
      "source": [
        "import matplotlib.pyplot as plt\n",
        "\n",
        "plt.figure(figsize=(12, 5))\n",
        "\n",
        "plt.subplot(1, 2, 1)\n",
        "plt.plot(epoch_losses)\n",
        "plt.title('Loss')\n",
        "\n",
        "plt.subplot(1, 2, 2)\n",
        "plt.plot(r2_values)\n",
        "plt.title('R2')\n",
        "\n",
        "plt.tight_layout()\n",
        "plt.show()"
      ],
      "metadata": {
        "colab": {
          "base_uri": "https://localhost:8080/",
          "height": 387
        },
        "id": "6IGXPlmw0dPr",
        "outputId": "3f464b6a-0523-4235-fc44-ad12234423e2"
      },
      "id": "6IGXPlmw0dPr",
      "execution_count": null,
      "outputs": [
        {
          "output_type": "display_data",
          "data": {
            "text/plain": [
              "<Figure size 1200x500 with 2 Axes>"
            ],
            "image/png": "[encoded data removed]"
          },
          "metadata": {}
        }
      ]
    },
    {
      "cell_type": "markdown",
      "id": "addd907a-210f-46d0-8709-df4a9a8629ce",
      "metadata": {
        "id": "addd907a-210f-46d0-8709-df4a9a8629ce"
      },
      "source": [
        "<p class=\"task\" id=\"5\"></p>\n",
        "\n",
        "5\\. Повторите решение задач 1-2, изменив функцию потерь. Обучите модель, используя три функции потерь: `MSELoss`, `L1Loss` и `HuberLoss` - и выведите на одном графике динамику изменения метрики $R^2$ по эпохам для каждой модели в процессе обучения. Добавьте подписи полученных кривых.\n",
        "\n",
        "- [ ] Проверено на семинаре"
      ]
    },
    {
      "cell_type": "code",
      "source": [
        "import torch as th\n",
        "\n",
        "X = th.linspace(0, 1, 100).view(-1, 1)\n",
        "y = th.sin(2 * th.pi * X) + 0.1 * th.rand(X.size())\n",
        "# X = th.FloatTensor(X)\n",
        "# y = th.FloatTensor(y)\n",
        "X.shape, y.shape"
      ],
      "metadata": {
        "colab": {
          "base_uri": "https://localhost:8080/"
        },
        "id": "Axp2RykuEmzo",
        "outputId": "6feb66e3-021f-4121-880a-a86cb73d0a36"
      },
      "id": "Axp2RykuEmzo",
      "execution_count": null,
      "outputs": [
        {
          "output_type": "execute_result",
          "data": {
            "text/plain": [
              "(torch.Size([100, 1]), torch.Size([100, 1]))"
            ]
          },
          "metadata": {},
          "execution_count": 34
        }
      ]
    },
    {
      "cell_type": "code",
      "source": [
        "import torch.nn as nn\n",
        "from torchtyping import TensorType\n",
        "\n",
        "class SineModel(nn.Module):\n",
        "    def __init__(self, n_features: int, n_hidden: int, n_out: int) -> None:\n",
        "        super().__init__()\n",
        "        self.fc1 = nn.Linear(in_features=n_features, out_features=n_hidden)\n",
        "        self.relu = nn.ReLU()\n",
        "        self.fc2 = nn.Linear(in_features=n_hidden, out_features=1)\n",
        "\n",
        "    def forward(self, X: TensorType[\"batch\", \"n_features\"]) -> TensorType[\"batch\", 1]:\n",
        "        out = self.fc1(X)\n",
        "        out = self.relu(out)\n",
        "        out = self.fc2(out)\n",
        "        return out"
      ],
      "metadata": {
        "id": "HHVNmq_HEk4Z"
      },
      "id": "HHVNmq_HEk4Z",
      "execution_count": null,
      "outputs": []
    },
    {
      "cell_type": "code",
      "source": [
        "#import torchmetrics as M\n",
        "\n",
        "model = SineModel(n_features=1, n_hidden=100, n_out=1)\n",
        "\n",
        "r2_values_mse = []\n",
        "r2_values_l1 = []\n",
        "r2_values_huber = []\n",
        "\n",
        "loss_functions = {\n",
        "    'MSELoss': nn.MSELoss(),\n",
        "    'L1Loss': nn.L1Loss(),\n",
        "    'HuberLoss': nn.HuberLoss()\n",
        "}\n",
        "\n",
        "optimizer = optim.SGD(model.parameters(), lr=0.001)\n",
        "\n",
        "dataset = TensorDataset(X, y)\n",
        "loader = DataLoader(dataset, batch_size=8, shuffle=True)\n",
        "\n",
        "for loss_name, loss_function in loss_functions.items():\n",
        "    model = SineModel(n_features=1, n_hidden=100, n_out=1)\n",
        "    optimizer = optim.SGD(model.parameters(), lr=0.1)\n",
        "    r2_metric = M.R2Score()\n",
        "\n",
        "    for epoch in range(250):\n",
        "        r2_metric.reset()  # Сброс метрики\n",
        "\n",
        "        for X_batch, y_batch in loader:\n",
        "            # Forward pass\n",
        "            y_pred = model(X_batch)\n",
        "\n",
        "            loss = loss_function(y_pred, y_batch)\n",
        "\n",
        "            # Обновление метрики\n",
        "            r2_metric.update(y_pred, y_batch)\n",
        "\n",
        "            # Backpropagation\n",
        "            loss.backward()\n",
        "            optimizer.step()\n",
        "            optimizer.zero_grad()\n",
        "\n",
        "        r2_value = r2_metric.compute()\n",
        "        if epoch % 50 == 0:\n",
        "            print(f\"{loss_name} - Epoch {epoch}: R2 = {r2_value}\")\n",
        "\n",
        "        if loss_name == 'MSELoss':\n",
        "            r2_values_mse.append(r2_value)\n",
        "        elif loss_name == 'L1Loss':\n",
        "            r2_values_l1.append(r2_value)\n",
        "        elif loss_name == 'HuberLoss':\n",
        "            r2_values_huber.append(r2_value)\n"
      ],
      "metadata": {
        "colab": {
          "base_uri": "https://localhost:8080/"
        },
        "id": "xYQ692ApE85O",
        "outputId": "e7ec42ad-9602-4286-fa5f-eaf5c3efa72f"
      },
      "id": "xYQ692ApE85O",
      "execution_count": null,
      "outputs": [
        {
          "output_type": "stream",
          "name": "stdout",
          "text": [
            "MSELoss - Epoch 0: R2 = -7.232236862182617\n",
            "MSELoss - Epoch 50: R2 = 0.9507807493209839\n",
            "MSELoss - Epoch 100: R2 = 0.9912292957305908\n",
            "MSELoss - Epoch 150: R2 = 0.9951131939888\n",
            "MSELoss - Epoch 200: R2 = 0.9974588751792908\n",
            "L1Loss - Epoch 0: R2 = -1.4939053058624268\n",
            "L1Loss - Epoch 50: R2 = 0.8410342931747437\n",
            "L1Loss - Epoch 100: R2 = 0.8952474594116211\n",
            "L1Loss - Epoch 150: R2 = 0.9154832363128662\n",
            "L1Loss - Epoch 200: R2 = 0.9555574655532837\n",
            "HuberLoss - Epoch 0: R2 = -0.3456186056137085\n",
            "HuberLoss - Epoch 50: R2 = 0.8450700044631958\n",
            "HuberLoss - Epoch 100: R2 = 0.9373629093170166\n",
            "HuberLoss - Epoch 150: R2 = 0.9809027910232544\n",
            "HuberLoss - Epoch 200: R2 = 0.9901684522628784\n"
          ]
        }
      ]
    },
    {
      "cell_type": "code",
      "source": [
        "plt.figure(figsize=(7, 9))\n",
        "plt.plot(r2_values_mse, label='MSELoss')\n",
        "plt.plot(r2_values_l1, label='L1Loss')\n",
        "plt.plot(r2_values_huber, label='HuberLoss')\n",
        "plt.title('R2 Score')\n",
        "plt.xlabel('Epochs')\n",
        "plt.ylabel('R2 Score')\n",
        "plt.legend()\n",
        "plt.ylim(0)\n",
        "plt.show()"
      ],
      "metadata": {
        "colab": {
          "base_uri": "https://localhost:8080/",
          "height": 795
        },
        "id": "0S0PC1gdF9T2",
        "outputId": "9adb3c23-2369-43f9-d14a-ffe2d877b19e"
      },
      "id": "0S0PC1gdF9T2",
      "execution_count": null,
      "outputs": [
        {
          "output_type": "display_data",
          "data": {
            "text/plain": [
              "<Figure size 700x900 with 1 Axes>"
            ],
            "image/png": "[encoded data removed]"
          },
          "metadata": {}
        }
      ]
    },
    {
      "cell_type": "markdown",
      "id": "8efebec7-44de-4798-92f4-10ef87365594",
      "metadata": {
        "id": "8efebec7-44de-4798-92f4-10ef87365594"
      },
      "source": [
        "<p class=\"task\" id=\"6\"></p>\n",
        "\n",
        "6\\. Повторите решение задач 1-2, разделив датасет на обучающую и тестовую выборку в соотношении 80% на 20%. Обучите модель. Для тестовой выборки посчитайте и выведите на экран значения метрик:\n",
        "\n",
        "- MAE;\n",
        "- MAPE;\n",
        "- MSE;\n",
        "- MSLE (MeanSquaredLogError).\n",
        "\n",
        "\n",
        "- [ ] Проверено на семинаре"
      ]
    },
    {
      "cell_type": "code",
      "execution_count": null,
      "id": "e056603f-8e4b-4f9b-a8b4-bdbeb3db9507",
      "metadata": {
        "id": "e056603f-8e4b-4f9b-a8b4-bdbeb3db9507"
      },
      "outputs": [],
      "source": [
        "from torch.utils.data import DataLoader, TensorDataset, random_split\n",
        "\n",
        "train_size = int(0.8 * len(dataset))\n",
        "test_size = len(dataset) - train_size\n",
        "train_dataset, test_dataset = random_split(dataset, [train_size, test_size])\n",
        "train_loader = DataLoader(train_dataset, batch_size=8, shuffle=True)\n",
        "test_loader = DataLoader(test_dataset, batch_size=8, shuffle=False)"
      ]
    },
    {
      "cell_type": "code",
      "source": [
        "import torchmetrics as M\n",
        "\n",
        "model = SineModel(n_features=1, n_hidden=100, n_out=1)\n",
        "optimizer = optim.SGD(model.parameters(), lr=0.001)\n",
        "criterion = nn.MSELoss()\n",
        "\n",
        "\n",
        "# Обучение модели\n",
        "for epoch in range(300):\n",
        "    for X_batch, y_batch in train_loader:\n",
        "        # Forward pass\n",
        "        y_pred = model(X_batch)\n",
        "\n",
        "        loss = criterion(y_pred, y_batch)\n",
        "\n",
        "        # Backpropagation\n",
        "        loss.backward()\n",
        "        optimizer.step()\n",
        "        optimizer.zero_grad()"
      ],
      "metadata": {
        "id": "5O5BzjpGIJQI"
      },
      "id": "5O5BzjpGIJQI",
      "execution_count": null,
      "outputs": []
    },
    {
      "cell_type": "code",
      "source": [
        "mae_metric = M.MeanAbsoluteError()\n",
        "mse_metric = M.MeanSquaredError()\n",
        "mape_metric = M.MeanAbsolutePercentageError()\n",
        "msle_metric = M.MeanSquaredLogError()\n",
        "\n",
        "with th.no_grad():\n",
        "    for X_batch, y_batch in test_loader:\n",
        "        y_pred = model(X_batch)\n",
        "        # Обновление метрик\n",
        "        mae_metric.update(y_pred, y_batch)\n",
        "        mse_metric.update(y_pred, y_batch)\n",
        "        mape_metric.update(y_pred, y_batch)\n",
        "        msle_metric.update(y_pred, y_batch)\n",
        "\n",
        "mae_value = mae_metric.compute()\n",
        "mse_value = mse_metric.compute()\n",
        "mape_value = mape_metric.compute()\n",
        "msle_value = msle_metric.compute()\n",
        "\n",
        "print(f\"MAE: {mae_value.item()}\")\n",
        "print(f\"MSE: {mse_value.item()}\")\n",
        "print(f\"MAPE: {mape_value.item()}\")\n",
        "print(f\"MSLE: {msle_value.item()}\")"
      ],
      "metadata": {
        "colab": {
          "base_uri": "https://localhost:8080/"
        },
        "id": "FuHmeDpJI2E3",
        "outputId": "6b07350c-f262-4be4-e0cc-d32dfac44cf9"
      },
      "id": "FuHmeDpJI2E3",
      "execution_count": null,
      "outputs": [
        {
          "output_type": "stream",
          "name": "stdout",
          "text": [
            "MAE: 0.40840452909469604\n",
            "MSE: 0.19951096177101135\n",
            "MAPE: 0.6584360599517822\n",
            "MSLE: 1.1470650434494019\n"
          ]
        }
      ]
    },
    {
      "cell_type": "code",
      "source": [],
      "metadata": {
        "id": "IegWj4miI3ut"
      },
      "id": "IegWj4miI3ut",
      "execution_count": null,
      "outputs": []
    }
  ],
  "metadata": {
    "kernelspec": {
      "display_name": "Python 3",
      "name": "python3"
    },
    "language_info": {
      "codemirror_mode": {
        "name": "ipython",
        "version": 3
      },
      "file_extension": ".py",
      "mimetype": "text/x-python",
      "name": "python",
      "nbconvert_exporter": "python",
      "pygments_lexer": "ipython3",
      "version": "3.11.5"
    },
    "colab": {
      "provenance": []
    }
  },
  "nbformat": 4,
  "nbformat_minor": 5
}