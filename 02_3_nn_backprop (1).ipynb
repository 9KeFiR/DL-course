{
  "cells": [
    {
      "cell_type": "code",
      "execution_count": null,
      "id": "884a8cb5",
      "metadata": {
        "colab": {
          "base_uri": "https://localhost:8080/"
        },
        "id": "884a8cb5",
        "outputId": "032b7435-42f7-4c10-8272-ec144691b29c",
        "collapsed": true
      },
      "outputs": [
        {
          "output_type": "stream",
          "name": "stdout",
          "text": [
            "Collecting torchtyping\n",
            "  Downloading torchtyping-0.1.5-py3-none-any.whl.metadata (9.5 kB)\n",
            "Requirement already satisfied: torch>=1.7.0 in /usr/local/lib/python3.10/dist-packages (from torchtyping) (2.4.1+cu121)\n",
            "Collecting typeguard<3,>=2.11.1 (from torchtyping)\n",
            "  Downloading typeguard-2.13.3-py3-none-any.whl.metadata (3.6 kB)\n",
            "Requirement already satisfied: filelock in /usr/local/lib/python3.10/dist-packages (from torch>=1.7.0->torchtyping) (3.16.1)\n",
            "Requirement already satisfied: typing-extensions>=4.8.0 in /usr/local/lib/python3.10/dist-packages (from torch>=1.7.0->torchtyping) (4.12.2)\n",
            "Requirement already satisfied: sympy in /usr/local/lib/python3.10/dist-packages (from torch>=1.7.0->torchtyping) (1.13.3)\n",
            "Requirement already satisfied: networkx in /usr/local/lib/python3.10/dist-packages (from torch>=1.7.0->torchtyping) (3.3)\n",
            "Requirement already satisfied: jinja2 in /usr/local/lib/python3.10/dist-packages (from torch>=1.7.0->torchtyping) (3.1.4)\n",
            "Requirement already satisfied: fsspec in /usr/local/lib/python3.10/dist-packages (from torch>=1.7.0->torchtyping) (2024.6.1)\n",
            "Requirement already satisfied: MarkupSafe>=2.0 in /usr/local/lib/python3.10/dist-packages (from jinja2->torch>=1.7.0->torchtyping) (2.1.5)\n",
            "Requirement already satisfied: mpmath<1.4,>=1.1.0 in /usr/local/lib/python3.10/dist-packages (from sympy->torch>=1.7.0->torchtyping) (1.3.0)\n",
            "Downloading torchtyping-0.1.5-py3-none-any.whl (17 kB)\n",
            "Downloading typeguard-2.13.3-py3-none-any.whl (17 kB)\n",
            "Installing collected packages: typeguard, torchtyping\n",
            "  Attempting uninstall: typeguard\n",
            "    Found existing installation: typeguard 4.3.0\n",
            "    Uninstalling typeguard-4.3.0:\n",
            "      Successfully uninstalled typeguard-4.3.0\n",
            "\u001b[31mERROR: pip's dependency resolver does not currently take into account all the packages that are installed. This behaviour is the source of the following dependency conflicts.\n",
            "inflect 7.4.0 requires typeguard>=4.0.1, but you have typeguard 2.13.3 which is incompatible.\u001b[0m\u001b[31m\n",
            "\u001b[0mSuccessfully installed torchtyping-0.1.5 typeguard-2.13.3\n"
          ]
        }
      ],
      "source": [
        "!pip install torchtyping"
      ]
    },
    {
      "cell_type": "code",
      "execution_count": null,
      "id": "ee75fd28",
      "metadata": {
        "id": "ee75fd28"
      },
      "outputs": [],
      "source": [
        "from torchtyping import TensorType, patch_typeguard\n",
        "from typeguard import typechecked\n",
        "import torch as th\n",
        "\n",
        "Scalar = TensorType[()]\n",
        "patch_typeguard()"
      ]
    },
    {
      "cell_type": "markdown",
      "id": "c9ecd663",
      "metadata": {
        "id": "c9ecd663"
      },
      "source": [
        "## Задачи для совместного разбора"
      ]
    },
    {
      "cell_type": "markdown",
      "id": "77549ab0",
      "metadata": {
        "id": "77549ab0"
      },
      "source": [
        "1\\. Реализуйте обратное распространение ошибки для модели нейрона с квадратичной функцией потерь при условии, что на вход нейрону поступает вектор `inputs`. Проверьте корректность вычисления градиентов, воспользовавшись возможностями по автоматическому дифференцированию `torch`."
      ]
    },
    {
      "cell_type": "code",
      "source": [
        "class Neuron:\n",
        "    def __init__(self, n_features: int, bias: float, requires_grad: bool = False) -> None:\n",
        "        # <создать атрибуты объекта weights и bias>\n",
        "        self.weights: TensorType[\"n_features\"] = th.rand(n_features, requires_grad=requires_grad)\n",
        "        self.bias: Scalar = th.tensor(bias, requires_grad=requires_grad)\n",
        "\n",
        "    @typechecked\n",
        "    def forward(self, inputs: TensorType[\"n_features\"]) -> Scalar:\n",
        "        return inputs @ self.weights + self.bias\n",
        "\n",
        "    def backward(self, inputs: TensorType[\"n_features\"], dnext: Scalar):\n",
        "      self.dweights = dnext * inputs\n",
        "      self.dbias = dnext\n",
        "      self.dinputs = dnext * self.weights\n"
      ],
      "metadata": {
        "id": "DQtkH3AUofdQ"
      },
      "id": "DQtkH3AUofdQ",
      "execution_count": null,
      "outputs": []
    },
    {
      "cell_type": "code",
      "source": [
        "class Loss:\n",
        "    def forward(\n",
        "        self,\n",
        "        y_pred: Scalar,\n",
        "        y_true: Scalar\n",
        "    ) -> Scalar:\n",
        "        return (y_pred - y_true)**2\n",
        "\n",
        "    def backward(self, y_pred: Scalar, y_true: Scalar) -> Scalar:\n",
        "      self.dinput = 2 * (y_pred - y_true)"
      ],
      "metadata": {
        "id": "zrUEmKnPouvg"
      },
      "id": "zrUEmKnPouvg",
      "execution_count": null,
      "outputs": []
    },
    {
      "cell_type": "code",
      "source": [
        "import torch as th\n",
        "neuron = Neuron(n_features=2, bias=0.0, requires_grad=True)\n",
        "criterion = Loss()\n",
        "\n",
        "inputs = th.tensor([2.0, 3.0])\n",
        "y_true = th.tensor(10)\n",
        "\n",
        "# forward pass\n",
        "y_pred = neuron.forward(inputs)\n",
        "loss = criterion.forward(y_pred, y_true)\n",
        "\n",
        "# backprop\n",
        "criterion.backward(y_pred, y_true)\n",
        "neuron.backward(inputs, criterion.dinput)"
      ],
      "metadata": {
        "id": "QzWgZ_8WovQJ"
      },
      "id": "QzWgZ_8WovQJ",
      "execution_count": null,
      "outputs": []
    },
    {
      "cell_type": "code",
      "source": [
        "loss"
      ],
      "metadata": {
        "colab": {
          "base_uri": "https://localhost:8080/"
        },
        "id": "4jFmR3qFuH_-",
        "outputId": "2388b0ce-c478-4454-8a1f-ea00b47476b4"
      },
      "id": "4jFmR3qFuH_-",
      "execution_count": null,
      "outputs": [
        {
          "output_type": "execute_result",
          "data": {
            "text/plain": [
              "tensor(34.1588, grad_fn=<PowBackward0>)"
            ]
          },
          "metadata": {},
          "execution_count": 365
        }
      ]
    },
    {
      "cell_type": "code",
      "source": [
        "criterion.dinput"
      ],
      "metadata": {
        "colab": {
          "base_uri": "https://localhost:8080/"
        },
        "id": "Tj3SQpGhsoD3",
        "outputId": "47548000-b7a4-4e8b-dda0-514f6dda0759"
      },
      "id": "Tj3SQpGhsoD3",
      "execution_count": null,
      "outputs": [
        {
          "output_type": "execute_result",
          "data": {
            "text/plain": [
              "tensor(-11.6891, grad_fn=<MulBackward0>)"
            ]
          },
          "metadata": {},
          "execution_count": 366
        }
      ]
    },
    {
      "cell_type": "code",
      "source": [
        "neuron.dweights"
      ],
      "metadata": {
        "colab": {
          "base_uri": "https://localhost:8080/"
        },
        "id": "JPayz1ARteyl",
        "outputId": "919feb0d-267a-404d-a7da-39603694ed97"
      },
      "id": "JPayz1ARteyl",
      "execution_count": null,
      "outputs": [
        {
          "output_type": "execute_result",
          "data": {
            "text/plain": [
              "tensor([-23.3782, -35.0673], grad_fn=<MulBackward0>)"
            ]
          },
          "metadata": {},
          "execution_count": 367
        }
      ]
    },
    {
      "cell_type": "code",
      "source": [
        "neuron.dbias"
      ],
      "metadata": {
        "colab": {
          "base_uri": "https://localhost:8080/"
        },
        "id": "OPbRJzJftgxu",
        "outputId": "d063f012-a9c4-4817-fe37-c3073ea2429d"
      },
      "id": "OPbRJzJftgxu",
      "execution_count": null,
      "outputs": [
        {
          "output_type": "execute_result",
          "data": {
            "text/plain": [
              "tensor(-11.6891, grad_fn=<MulBackward0>)"
            ]
          },
          "metadata": {},
          "execution_count": 368
        }
      ]
    },
    {
      "cell_type": "code",
      "source": [
        "loss.backward()"
      ],
      "metadata": {
        "id": "QQNHg3k9uQ7N"
      },
      "id": "QQNHg3k9uQ7N",
      "execution_count": null,
      "outputs": []
    },
    {
      "cell_type": "code",
      "source": [
        "neuron.weights.grad"
      ],
      "metadata": {
        "colab": {
          "base_uri": "https://localhost:8080/"
        },
        "id": "RTwaYJQFuTLE",
        "outputId": "e14fac68-8dac-4d59-82ce-29b1a9904846"
      },
      "id": "RTwaYJQFuTLE",
      "execution_count": null,
      "outputs": [
        {
          "output_type": "execute_result",
          "data": {
            "text/plain": [
              "tensor([-23.3782, -35.0673])"
            ]
          },
          "metadata": {},
          "execution_count": 370
        }
      ]
    },
    {
      "cell_type": "code",
      "source": [
        "neuron.bias.grad"
      ],
      "metadata": {
        "colab": {
          "base_uri": "https://localhost:8080/"
        },
        "id": "_ZbIcg89uWpF",
        "outputId": "d9a2a8f1-5122-475f-bbd0-4b9f4595ec9a"
      },
      "id": "_ZbIcg89uWpF",
      "execution_count": null,
      "outputs": [
        {
          "output_type": "execute_result",
          "data": {
            "text/plain": [
              "tensor(-11.6891)"
            ]
          },
          "metadata": {},
          "execution_count": 371
        }
      ]
    },
    {
      "cell_type": "code",
      "source": [
        "loss"
      ],
      "metadata": {
        "colab": {
          "base_uri": "https://localhost:8080/"
        },
        "id": "aw_lXTqVpCtS",
        "outputId": "142ecad8-b468-4310-e064-0c83ad419dce"
      },
      "id": "aw_lXTqVpCtS",
      "execution_count": null,
      "outputs": [
        {
          "output_type": "execute_result",
          "data": {
            "text/plain": [
              "tensor(34.1588, grad_fn=<PowBackward0>)"
            ]
          },
          "metadata": {},
          "execution_count": 372
        }
      ]
    },
    {
      "cell_type": "markdown",
      "id": "6e56038a",
      "metadata": {
        "id": "6e56038a"
      },
      "source": [
        "2\\. Настройте модель нейрона, используя метод стохастического градиентного спуска и собственную реализацию обратного распространения ошибки."
      ]
    },
    {
      "cell_type": "code",
      "execution_count": null,
      "id": "6b9ced68",
      "metadata": {
        "id": "6b9ced68"
      },
      "outputs": [],
      "source": [
        "from sklearn.datasets import make_regression\n",
        "import numpy as np\n",
        "import matplotlib.pyplot as plt\n",
        "\n",
        "X, y, coef = make_regression(n_features=4, n_informative=4, coef=True, bias=0.5, random_state=42)\n",
        "X = th.FloatTensor(X)\n",
        "y = th.FloatTensor(y)"
      ]
    },
    {
      "cell_type": "code",
      "source": [
        "import numpy as np"
      ],
      "metadata": {
        "id": "6skctOlpvfyI"
      },
      "id": "6skctOlpvfyI",
      "execution_count": null,
      "outputs": []
    },
    {
      "cell_type": "code",
      "source": [
        "neuron = Neuron(n_features=4, bias=0.0, requires_grad=False)\n",
        "criterion = Loss()\n",
        "lr = 0.1\n",
        "\n",
        "for epoch in range(3):\n",
        "  losses = []\n",
        "  for x_i, y_i in zip(X, y):\n",
        "    y_pred = neuron.forward(x_i)\n",
        "    loss_i = criterion.forward(y_pred, y_i)\n",
        "    losses.append(loss_i.item())\n",
        "\n",
        "    criterion.backward(y_pred, y_i)\n",
        "    neuron.backward(x_i, criterion.dinput)\n",
        "\n",
        "    neuron.weights -= lr * neuron.dweights\n",
        "    neuron.bias -= lr * neuron.dbias\n",
        "  print(f\"{epoch} {np.mean(losses)}\")"
      ],
      "metadata": {
        "colab": {
          "base_uri": "https://localhost:8080/"
        },
        "id": "ZOv-GXalurZN",
        "outputId": "f8b109ee-53d2-4c63-ee73-bf7bc551fc3c"
      },
      "id": "ZOv-GXalurZN",
      "execution_count": null,
      "outputs": [
        {
          "output_type": "stream",
          "name": "stdout",
          "text": [
            "0 609.7316132254444\n",
            "1 7.822344625822097e-05\n",
            "2 1.0739416467231422e-10\n"
          ]
        }
      ]
    },
    {
      "cell_type": "code",
      "source": [
        "neuron.weights"
      ],
      "metadata": {
        "colab": {
          "base_uri": "https://localhost:8080/"
        },
        "id": "YYpETGJJv-rW",
        "outputId": "fc834b4c-b27e-4b76-c471-aeea0e11940d"
      },
      "id": "YYpETGJJv-rW",
      "execution_count": null,
      "outputs": [
        {
          "output_type": "execute_result",
          "data": {
            "text/plain": [
              "tensor([ 5.6376, 86.4722, 27.3407, 41.4819])"
            ]
          },
          "metadata": {},
          "execution_count": 376
        }
      ]
    },
    {
      "cell_type": "code",
      "source": [
        "neuron.bias"
      ],
      "metadata": {
        "colab": {
          "base_uri": "https://localhost:8080/"
        },
        "id": "fbmg2jXqwA4q",
        "outputId": "470719e3-d7f4-4659-a54b-b65ec13b94a7"
      },
      "id": "fbmg2jXqwA4q",
      "execution_count": null,
      "outputs": [
        {
          "output_type": "execute_result",
          "data": {
            "text/plain": [
              "tensor(0.5000)"
            ]
          },
          "metadata": {},
          "execution_count": 377
        }
      ]
    },
    {
      "cell_type": "code",
      "source": [
        "coef"
      ],
      "metadata": {
        "colab": {
          "base_uri": "https://localhost:8080/"
        },
        "id": "E6xM2htjwBvN",
        "outputId": "160f1b3e-de90-40fb-be83-7790ff78fcd2"
      },
      "id": "E6xM2htjwBvN",
      "execution_count": null,
      "outputs": [
        {
          "output_type": "execute_result",
          "data": {
            "text/plain": [
              "array([ 5.63754967, 86.47223763, 27.34070719, 41.48195023])"
            ]
          },
          "metadata": {},
          "execution_count": 378
        }
      ]
    },
    {
      "cell_type": "markdown",
      "id": "4d7b6d63",
      "metadata": {
        "id": "4d7b6d63"
      },
      "source": [
        "## Задачи для самостоятельного решения"
      ]
    },
    {
      "cell_type": "markdown",
      "id": "af0bcdf1",
      "metadata": {
        "id": "af0bcdf1"
      },
      "source": [
        "<p class=\"task\" id=\"1\"></p>\n",
        "\n",
        "1\\. Реализуйте обратное распространение ошибки для модели нейрона с функцией потерь MSE при условии, что на вход нейрону поступает пакет (двумерный тензор) `inputs`. Проверьте корректность вычисления градиентов, воспользовавшись возможностями по автоматическому дифференцированию `torch`.\n",
        "\n",
        "$$\\mathbf{X} = \\begin{bmatrix}\n",
        "x_{10} & x_{11} & \\ldots & x_{1m} \\\\\n",
        "x_{20} & x_{21} & \\ldots & x_{2m} \\\\\n",
        "\\vdots & \\vdots & \\ddots & \\vdots \\\\\n",
        "x_{k0} & x_{k1} & \\ldots & x_{km} \\\\\n",
        "\\end{bmatrix}\n",
        "\\mathbf{Y} = \\begin{bmatrix}\n",
        "y_{1} \\\\\n",
        "y_{2} \\\\\n",
        "\\vdots \\\\\n",
        "y_{k} \\\\\n",
        "\\end{bmatrix}\n",
        "\\mathbf{W} = \\begin{bmatrix}\n",
        "w_{0} \\\\\n",
        "w_{1} \\\\\n",
        "\\vdots \\\\\n",
        "w_{m} \\\\\n",
        "\\end{bmatrix}$$\n",
        "\n",
        "$$\\hat{\\mathbf{Y}} = \\mathbf{X}\\times \\mathbf{W}$$\n",
        "\n",
        "$$L = \\frac{1}{k}\\sum_{k}{(\\hat{y_k}-y_k)^2}$$\n",
        "\n",
        "$$\\nabla_{\\hat{\\mathbf{Y}}} L=\\begin{bmatrix}\n",
        "\\frac{\\partial L}{\\partial \\hat{y_1}} \\\\\n",
        "\\frac{\\partial L}{\\partial \\hat{y_2}} \\\\\n",
        "\\vdots \\\\\n",
        "\\frac{\\partial L}{\\partial \\hat{y_k}} \\\\\n",
        "\\end{bmatrix} = \\frac{2}{k}\\begin{bmatrix}\n",
        "\\hat{y_1} - y_1 \\\\\n",
        "\\hat{y_2} - y_2 \\\\\n",
        "\\vdots \\\\\n",
        "\\hat{y_k} - y_k \\\\\n",
        "\\end{bmatrix}$$\n",
        "\n",
        "$$\\boldsymbol{\\nabla_{\\mathbf{W}} L = \\mathbf{X}^T\\nabla_{\\hat{\\mathbf{Y}}} L}$$\n",
        "\n",
        "- [ ] Проверено на семинаре"
      ]
    },
    {
      "cell_type": "code",
      "source": [
        "!pip install torchtyping"
      ],
      "metadata": {
        "collapsed": true,
        "colab": {
          "base_uri": "https://localhost:8080/"
        },
        "id": "Wd5yzwI-uJNh",
        "outputId": "f592987b-0452-4528-c44a-5bd86e52fb44"
      },
      "id": "Wd5yzwI-uJNh",
      "execution_count": null,
      "outputs": [
        {
          "output_type": "stream",
          "name": "stdout",
          "text": [
            "Collecting torchtyping\n",
            "  Downloading torchtyping-0.1.5-py3-none-any.whl.metadata (9.5 kB)\n",
            "Requirement already satisfied: torch>=1.7.0 in /usr/local/lib/python3.10/dist-packages (from torchtyping) (2.4.1+cu121)\n",
            "Collecting typeguard<3,>=2.11.1 (from torchtyping)\n",
            "  Downloading typeguard-2.13.3-py3-none-any.whl.metadata (3.6 kB)\n",
            "Requirement already satisfied: filelock in /usr/local/lib/python3.10/dist-packages (from torch>=1.7.0->torchtyping) (3.16.1)\n",
            "Requirement already satisfied: typing-extensions>=4.8.0 in /usr/local/lib/python3.10/dist-packages (from torch>=1.7.0->torchtyping) (4.12.2)\n",
            "Requirement already satisfied: sympy in /usr/local/lib/python3.10/dist-packages (from torch>=1.7.0->torchtyping) (1.13.3)\n",
            "Requirement already satisfied: networkx in /usr/local/lib/python3.10/dist-packages (from torch>=1.7.0->torchtyping) (3.3)\n",
            "Requirement already satisfied: jinja2 in /usr/local/lib/python3.10/dist-packages (from torch>=1.7.0->torchtyping) (3.1.4)\n",
            "Requirement already satisfied: fsspec in /usr/local/lib/python3.10/dist-packages (from torch>=1.7.0->torchtyping) (2024.6.1)\n",
            "Requirement already satisfied: MarkupSafe>=2.0 in /usr/local/lib/python3.10/dist-packages (from jinja2->torch>=1.7.0->torchtyping) (2.1.5)\n",
            "Requirement already satisfied: mpmath<1.4,>=1.1.0 in /usr/local/lib/python3.10/dist-packages (from sympy->torch>=1.7.0->torchtyping) (1.3.0)\n",
            "Downloading torchtyping-0.1.5-py3-none-any.whl (17 kB)\n",
            "Downloading typeguard-2.13.3-py3-none-any.whl (17 kB)\n",
            "Installing collected packages: typeguard, torchtyping\n",
            "  Attempting uninstall: typeguard\n",
            "    Found existing installation: typeguard 4.3.0\n",
            "    Uninstalling typeguard-4.3.0:\n",
            "      Successfully uninstalled typeguard-4.3.0\n",
            "\u001b[31mERROR: pip's dependency resolver does not currently take into account all the packages that are installed. This behaviour is the source of the following dependency conflicts.\n",
            "inflect 7.4.0 requires typeguard>=4.0.1, but you have typeguard 2.13.3 which is incompatible.\u001b[0m\u001b[31m\n",
            "\u001b[0mSuccessfully installed torchtyping-0.1.5 typeguard-2.13.3\n"
          ]
        }
      ]
    },
    {
      "cell_type": "code",
      "source": [
        "from torchtyping import TensorType, patch_typeguard\n",
        "from typeguard import typechecked\n",
        "import torch as th\n",
        "\n",
        "Scalar = TensorType[()]\n",
        "patch_typeguard()"
      ],
      "metadata": {
        "id": "LNU2FkSvt_ok"
      },
      "id": "LNU2FkSvt_ok",
      "execution_count": null,
      "outputs": []
    },
    {
      "cell_type": "code",
      "execution_count": null,
      "id": "cb34b99b",
      "metadata": {
        "id": "cb34b99b"
      },
      "outputs": [],
      "source": [
        "import torch as th\n",
        "\n",
        "class NeuronBatch:\n",
        "    def __init__(self, n_features: int, seed: int | None = None, grad: bool = False):\n",
        "        if seed is not None:\n",
        "            th.manual_seed(seed)\n",
        "        # Добавьте дополнительный вес для сдвига (bias)\n",
        "        # задайте requires_grad у этого тензора, чтобы иметь возможность протестировать\n",
        "        # автоматическое дифференцирование от torch\n",
        "        self.weights: TensorType[\"n_features_with_bias\", 1] = th.rand(n_features+1, requires_grad=grad)\n",
        "\n",
        "    def add_ones_col(self, inputs: TensorType[\"batch\", \"n_features\"]) -> TensorType[\"batch\", \"n_features_with_bias\"]:\n",
        "        \"\"\"Добавляет столбец из единиц в начало матрицы inputs\"\"\"\n",
        "        nbatches = inputs.shape[0]\n",
        "        first_col = th.ones(nbatches).view(nbatches,1)\n",
        "        inputs_1 = th.cat((first_col, inputs),1)\n",
        "        return inputs_1\n",
        "\n",
        "    def forward(self, inputs: TensorType[\"batch\", \"n_features\"]) -> TensorType[\"batch\", 1]:\n",
        "        inputs_1 = self.add_ones_col(inputs)\n",
        "        return inputs_1 @ self.weights\n",
        "\n",
        "    def backward(self, inputs: TensorType[\"batch\", \"n_features+1\"], dnext: TensorType[\"batch\", 1]) -> None:\n",
        "        inputs_1 = self.add_ones_col(inputs)\n",
        "        self.dweights: TensorType[\"n_features_with_bias\", 1] = inputs_1.T @ dnext\n",
        "        #self.dinputs = self.weights @ dnext\n",
        "        #print(inputs_1.T, '\\n',self.weights, '\\n', dnext)\n",
        "        # self.dbias = dnext\n",
        "        # self.dinputs = dnext * self.weights"
      ]
    },
    {
      "cell_type": "code",
      "execution_count": null,
      "id": "fcff8f57",
      "metadata": {
        "id": "fcff8f57"
      },
      "outputs": [],
      "source": [
        "class MSELoss:\n",
        "    def forward(self, y_pred: TensorType[\"batch\", 1], y_true: TensorType[\"batch\", 1]) -> Scalar:\n",
        "        self.loss = ((y_pred-y_true)**2).mean()\n",
        "        return self.loss\n",
        "\n",
        "    def backward(self, y_pred: TensorType[\"batch\", 1], y_true: TensorType[\"batch\", 1]) -> None:\n",
        "        #dL/dy\n",
        "        k = y_pred.shape[0]\n",
        "        #print(\"los\", y_pred.shape)\n",
        "        self.dinput: TensorType[\"batch\", 1] = -2/k * (y_true-y_pred) #[\"batch\", 1]"
      ]
    },
    {
      "cell_type": "code",
      "source": [
        "inputs = th.tensor([[-0.2341,  0.7674, -0.2342,  1.5792],\n",
        "                    [-1.9133, -0.5623,  0.2420, -1.7249],\n",
        "                    [ 0.3142, -1.4123, -1.0128, -0.9080],\n",
        "                    [ 0.5426, -0.4657, -0.4695, -0.4634],\n",
        "                    [-0.1383,  1.5230,  0.4967,  0.6477]])\n",
        "y_true = th.tensor([ 42.4340, -202.0478, -111.7746,  -11.5135,  103.5495])\n",
        "\n",
        "n_features = 4\n",
        "model = NeuronBatch(n_features = n_features, grad=True)\n",
        "criterion = MSELoss()\n",
        "\n",
        "y_pred = model.forward(inputs=inputs)\n",
        "loss = criterion.forward(y_pred, y_true)\n",
        "\n",
        "criterion.backward(y_pred, y_true) #dL/dy\n",
        "model.backward(inputs, criterion.dinput) #dL/dw"
      ],
      "metadata": {
        "id": "nFd_yVTJA-qA"
      },
      "id": "nFd_yVTJA-qA",
      "execution_count": null,
      "outputs": []
    },
    {
      "cell_type": "code",
      "source": [
        "# inputs * criterion.dinput"
      ],
      "metadata": {
        "id": "NDhHwBo8JdzC"
      },
      "id": "NDhHwBo8JdzC",
      "execution_count": null,
      "outputs": []
    },
    {
      "cell_type": "code",
      "source": [
        "loss"
      ],
      "metadata": {
        "colab": {
          "base_uri": "https://localhost:8080/"
        },
        "id": "2erG43GVoRp3",
        "outputId": "70c9c48c-ab17-4814-d5f0-81e07aef1575"
      },
      "id": "2erG43GVoRp3",
      "execution_count": null,
      "outputs": [
        {
          "output_type": "execute_result",
          "data": {
            "text/plain": [
              "tensor(13107.0342, grad_fn=<MeanBackward0>)"
            ]
          },
          "metadata": {},
          "execution_count": 10
        }
      ]
    },
    {
      "cell_type": "code",
      "source": [
        "criterion.dinput #dL/dy"
      ],
      "metadata": {
        "colab": {
          "base_uri": "https://localhost:8080/"
        },
        "id": "_2Hw3cSUoWxp",
        "outputId": "3e33c0ec-4cb8-4c67-f389-255eb4b97eb0"
      },
      "id": "_2Hw3cSUoWxp",
      "execution_count": null,
      "outputs": [
        {
          "output_type": "execute_result",
          "data": {
            "text/plain": [
              "tensor([-16.5398,  80.6423,  44.8360,   4.9271, -40.9188],\n",
              "       grad_fn=<MulBackward0>)"
            ]
          },
          "metadata": {},
          "execution_count": 11
        }
      ]
    },
    {
      "cell_type": "code",
      "source": [
        "model.dweights #dL/dw"
      ],
      "metadata": {
        "colab": {
          "base_uri": "https://localhost:8080/"
        },
        "id": "GweiN4YDoZLj",
        "outputId": "e0ebe8df-4eec-4760-cb28-ae48d2e0efab"
      },
      "id": "GweiN4YDoZLj",
      "execution_count": null,
      "outputs": [
        {
          "output_type": "execute_result",
          "data": {
            "text/plain": [
              "tensor([  72.9467, -128.0009, -185.9735,  -44.6584, -234.7169],\n",
              "       grad_fn=<MvBackward0>)"
            ]
          },
          "metadata": {},
          "execution_count": 12
        }
      ]
    },
    {
      "cell_type": "code",
      "source": [
        "loss.backward()"
      ],
      "metadata": {
        "id": "obLMtXF8tCBd"
      },
      "id": "obLMtXF8tCBd",
      "execution_count": null,
      "outputs": []
    },
    {
      "cell_type": "code",
      "source": [
        "model.weights.grad"
      ],
      "metadata": {
        "colab": {
          "base_uri": "https://localhost:8080/"
        },
        "id": "Fl8Lt7KDmG-3",
        "outputId": "21fd315c-f6ea-4354-bbc5-111c2d335b14"
      },
      "id": "Fl8Lt7KDmG-3",
      "execution_count": null,
      "outputs": [
        {
          "output_type": "execute_result",
          "data": {
            "text/plain": [
              "tensor([  72.9467, -128.0009, -185.9735,  -44.6584, -234.7169])"
            ]
          },
          "metadata": {},
          "execution_count": 14
        }
      ]
    },
    {
      "cell_type": "code",
      "source": [
        "model.weights"
      ],
      "metadata": {
        "colab": {
          "base_uri": "https://localhost:8080/"
        },
        "id": "oq2D217GsT9k",
        "outputId": "ca500ffb-becd-4648-af9d-c98833339d50"
      },
      "id": "oq2D217GsT9k",
      "execution_count": null,
      "outputs": [
        {
          "output_type": "execute_result",
          "data": {
            "text/plain": [
              "tensor([0.8425, 0.4839, 0.1216, 0.3110, 0.2120], requires_grad=True)"
            ]
          },
          "metadata": {},
          "execution_count": 15
        }
      ]
    },
    {
      "cell_type": "code",
      "source": [
        "# model.dinputs"
      ],
      "metadata": {
        "id": "ncmUSsZw_x33"
      },
      "id": "ncmUSsZw_x33",
      "execution_count": null,
      "outputs": []
    },
    {
      "cell_type": "markdown",
      "id": "461bb4b9",
      "metadata": {
        "id": "461bb4b9"
      },
      "source": [
        "<p class=\"task\" id=\"2\"></p>\n",
        "\n",
        "2\\. Настройте модель нейрона, используя метод мини-пакетного градиентного спуска.\n",
        "\n",
        "Используйте обратное распространение ошибки, реализованное самостоятельно. Выведите на экран полученные и правильные коэффициенты модели.\n",
        "\n",
        "- [ ] Проверено на семинаре"
      ]
    },
    {
      "cell_type": "code",
      "execution_count": null,
      "id": "5c545b96",
      "metadata": {
        "id": "5c545b96"
      },
      "outputs": [],
      "source": [
        "from sklearn.datasets import make_regression\n",
        "from torch.utils.data import DataLoader, TensorDataset\n",
        "import torch as th\n",
        "import numpy as np\n",
        "\n",
        "X, y, coef = make_regression(n_features=4, n_informative=4, coef=True, bias=0.5, random_state=42)\n",
        "X = th.FloatTensor(X)\n",
        "y = th.FloatTensor(y).reshape(-1, 1)"
      ]
    },
    {
      "cell_type": "code",
      "source": [
        "dataset = TensorDataset(X, y)\n",
        "loader = DataLoader(dataset, batch_size=6, shuffle=True)\n",
        "\n",
        "for batch in loader:\n",
        "    features, labels = batch\n",
        "    print(features.shape)\n",
        "    print(labels.shape)\n",
        "    break"
      ],
      "metadata": {
        "colab": {
          "base_uri": "https://localhost:8080/"
        },
        "id": "crEoEvNVsQmw",
        "outputId": "1b2dc582-7b31-45f1-d1be-e198b1defbcc"
      },
      "id": "crEoEvNVsQmw",
      "execution_count": null,
      "outputs": [
        {
          "output_type": "stream",
          "name": "stdout",
          "text": [
            "torch.Size([6, 4])\n",
            "torch.Size([6, 1])\n"
          ]
        }
      ]
    },
    {
      "cell_type": "code",
      "source": [
        "neuron = NeuronBatch(n_features=4, grad=False)\n",
        "criterion = MSELoss()\n",
        "lr = 0.1\n",
        "\n",
        "for epoch in range(3):\n",
        "    losses = []\n",
        "    for batch in loader:\n",
        "        features, y_true = batch\n",
        "        y_true = y_true.view(-1)\n",
        "        y_pred = neuron.forward(features)\n",
        "\n",
        "        loss_i = criterion.forward(y_pred, y_true)\n",
        "        losses.append(loss_i)\n",
        "\n",
        "        criterion.backward(y_pred, y_true)\n",
        "        #print(criterion.dinput.shape, features.shape)\n",
        "        neuron.backward(features, criterion.dinput)\n",
        "        neuron.weights -= lr * neuron.dweights\n",
        "    print(f\"epoch = {epoch}, mean loss ={np.mean(losses)}\")"
      ],
      "metadata": {
        "id": "j5PSHk4ualhj",
        "colab": {
          "base_uri": "https://localhost:8080/"
        },
        "outputId": "8de9aa4f-c8e9-4003-cf0f-5bcc6e1f646a"
      },
      "id": "j5PSHk4ualhj",
      "execution_count": null,
      "outputs": [
        {
          "output_type": "stream",
          "name": "stdout",
          "text": [
            "epoch = 0, mean loss =1839.0113525390625\n",
            "epoch = 1, mean loss =2.691901206970215\n",
            "epoch = 2, mean loss =0.0035154458601027727\n"
          ]
        }
      ]
    },
    {
      "cell_type": "code",
      "source": [
        "print('true bias = ' ,[0.5], 'nn bias', neuron.weights[0])\n",
        "print('nn weights:',neuron.weights[1:],'\\ntrue weights',  coef)"
      ],
      "metadata": {
        "colab": {
          "base_uri": "https://localhost:8080/"
        },
        "id": "Q9LiG3E6P9kM",
        "outputId": "8aa4d5a6-6a98-4b69-97af-d5a07f878b4d"
      },
      "id": "Q9LiG3E6P9kM",
      "execution_count": null,
      "outputs": [
        {
          "output_type": "stream",
          "name": "stdout",
          "text": [
            "true bias =  [0.5] nn bias tensor(0.4985)\n",
            "nn weights: tensor([ 5.6373, 86.4731, 27.3419, 41.4752]) \n",
            "true weights [ 5.63754967 86.47223763 27.34070719 41.48195023]\n"
          ]
        }
      ]
    },
    {
      "cell_type": "markdown",
      "id": "1a9f5aea",
      "metadata": {
        "id": "1a9f5aea"
      },
      "source": [
        "<p class=\"task\" id=\"3\"></p>\n",
        "\n",
        "3\\. Реализуйте обратное распространение ошибки для модели полносвязного слоя с функцией потерь MSE при условии, что на вход нейрону поступает пакет (двумерный тензор) `inputs`.  Проверьте корректность вычисления градиентов, воспользовавшись возможностями по автоматическому дифференцированию `torch`.\n",
        "\n",
        "Обратите внимание, что вам потребуются оба градиента $ \\boldsymbol{\\nabla_{\\mathbf{W}} L }$ и $\\boldsymbol{\\nabla_{\\mathbf{X}} L}$ для распространения ошибки с несколькими слоями.\n",
        "\n",
        "$$\\mathbf{X} = \\begin{bmatrix}\n",
        "x_{10} & x_{11} & \\ldots & x_{1m} \\\\\n",
        "x_{20} & x_{21} & \\ldots & x_{2m} \\\\\n",
        "\\vdots & \\vdots & \\ddots & \\vdots \\\\\n",
        "x_{k0} & x_{k1} & \\ldots & x_{km} \\\\\n",
        "\\end{bmatrix}\n",
        "\\mathbf{Y} = \\begin{bmatrix}\n",
        "y_{1} \\\\\n",
        "y_{2} \\\\\n",
        "\\vdots \\\\\n",
        "y_{k} \\\\\n",
        "\\end{bmatrix}\n",
        "\\mathbf{W} = \\begin{bmatrix}\n",
        "w_{01} & w_{02} & \\ldots & w_{0n} \\\\\n",
        "w_{11} & w_{12} & \\ldots & w_{1n} \\\\\n",
        "\\vdots & \\vdots & \\ddots & \\vdots \\\\\n",
        "w_{m1} & w_{m2} & \\ldots & w_{mn} \\\\\n",
        "\\end{bmatrix}$$\n",
        "\n",
        "$$\\hat{\\mathbf{Y}} = \\mathbf{X}\\times \\mathbf{W}$$\n",
        "\n",
        "$$\\nabla_{\\hat{\\mathbf{Y}}} L = \\begin{bmatrix}\n",
        "\\frac{\\partial L}{\\partial \\hat{y_{11}}} & \\ldots & \\frac{\\partial L}{\\partial \\hat{y_{1n}}} \\\\\n",
        "\\vdots & \\vdots & \\vdots \\\\\n",
        "\\frac{\\partial L}{\\partial \\hat{y_{k1}}} & \\ldots & \\frac{\\partial L}{\\partial \\hat{y_{kn}}} \\\\\n",
        "\\end{bmatrix}$$\n",
        "\n",
        "$$\\boldsymbol{\\nabla_{\\mathbf{W}} L = \\mathbf{X}^T\\times \\nabla_{\\hat{\\mathbf{Y}}} L}$$\n",
        "$$\\boldsymbol{\\nabla_{\\mathbf{X}} L = \\nabla_{\\hat{\\mathbf{Y}}} L\\times \\mathbf{W}^T}$$\n",
        "\n",
        "- [ ] Проверено на семинаре"
      ]
    },
    {
      "cell_type": "code",
      "execution_count": null,
      "id": "82f24b20",
      "metadata": {
        "id": "82f24b20"
      },
      "outputs": [],
      "source": [
        "import torch as th\n",
        "\n",
        "class Linear:\n",
        "    def __init__(self, n_features: int, n_neurons: int, seed: int | None = None, grad: bool = False):\n",
        "        if seed is not None:\n",
        "            th.manual_seed(seed)\n",
        "        # Добавьте дополнительный вес для сдвига\n",
        "        # задайте requires_grad у этого тензора, чтобы иметь возможность протестировать\n",
        "        # автоматическое дифференцирование от torch\n",
        "        self.weights: TensorType[\"n_features_with_bias\", \"n_neurons\"] = th.rand((n_features+1, n_neurons), requires_grad=grad)\n",
        "\n",
        "    def add_ones_col(self, inputs: TensorType[\"batch\", \"n_features\"]) -> TensorType[\"batch\", \"n_features_with_bias\"]:\n",
        "        \"\"\"Добавляет столбец из единиц в начало матрицы inputs\"\"\"\n",
        "        nbatches = inputs.shape[0]\n",
        "        first_col = th.ones(nbatches).view(nbatches,1)\n",
        "        inputs_1 = th.cat((first_col, inputs),1)\n",
        "        return inputs_1\n",
        "\n",
        "    def forward(self, inputs: TensorType[\"batch\", \"n_features\"]) -> TensorType[\"batch\", \"n_neurons\"]:\n",
        "        inputs_1 = self.add_ones_col(inputs)\n",
        "        res = inputs_1 @ self.weights\n",
        "        return res\n",
        "\n",
        "    def backward(self, inputs: TensorType[\"batch\", \"n_features\"], dnext: TensorType[\"batch\", \"n_neurons\"]):\n",
        "        #self.dweights: TensorType[\"n_features_with_bias\", \"n_neurons\"] = ...\n",
        "        inputs_1 = self.add_ones_col(inputs)\n",
        "        self.dweights: TensorType[\"n_features_with_bias\", \"n_neurons\"] = inputs_1.T @ dnext\n",
        "        # self.dbias = dnext\n",
        "        self.dinputs = dnext @ self.weights.T"
      ]
    },
    {
      "cell_type": "code",
      "execution_count": null,
      "id": "4844d80f",
      "metadata": {
        "id": "4844d80f"
      },
      "outputs": [],
      "source": [
        "class MSELoss:\n",
        "    def forward(self, y_pred: TensorType[\"batch\", \"n_neurons\"], y_true: TensorType[\"batch\", \"n_neurons\"]) -> Scalar:\n",
        "        self.loss = ((y_pred-y_true)**2).mean()\n",
        "        return self.loss\n",
        "\n",
        "    def backward(self, y_pred: TensorType[\"batch\", \"n_neurons\"], y_true: TensorType[\"batch\", \"n_neurons\"]) -> None:\n",
        "        k = y_pred.shape[0]\n",
        "        m = y_pred.shape[1]\n",
        "        #print(\"los\", y_pred.shape)\n",
        "        self.dinput: TensorType[\"batch\", \"n_neurons\"] = -2/k/m * (y_true-y_pred)"
      ]
    },
    {
      "cell_type": "code",
      "source": [
        "inputs = th.tensor([[-0.2341,  0.7674, -0.2342,  1.5792],\n",
        "                    [-1.9133, -0.5623,  0.2420, -1.7249],\n",
        "                    [ 0.3142, -1.4123, -1.0128, -0.9080],\n",
        "                    [ 0.5426, -0.4657, -0.4695, -0.4634],\n",
        "                    [-0.1383,  1.5230,  0.4967,  0.6477]])\n",
        "y_true = th.tensor([ 42.4340, -202.0478, -111.7746,  -11.5135,  103.5495]).view(5,1)\n",
        "\n",
        "n_features = 4\n",
        "model = Linear(n_features = n_features, n_neurons=3, grad=True)\n",
        "criterion = MSELoss()\n",
        "\n",
        "y_pred = model.forward(inputs=inputs)\n",
        "loss = criterion.forward(y_pred, y_true)\n",
        "\n",
        "criterion.backward(y_pred, y_true) #dL/dy\n",
        "model.backward(inputs, criterion.dinput) #dL/dw"
      ],
      "metadata": {
        "id": "i-GE_fFCryF2"
      },
      "id": "i-GE_fFCryF2",
      "execution_count": null,
      "outputs": []
    },
    {
      "cell_type": "code",
      "source": [
        "loss"
      ],
      "metadata": {
        "colab": {
          "base_uri": "https://localhost:8080/"
        },
        "id": "6CU6oFgkwhDU",
        "outputId": "e554f36b-4b2e-4d39-e300-2d15c6d4cb16"
      },
      "id": "6CU6oFgkwhDU",
      "execution_count": null,
      "outputs": [
        {
          "output_type": "execute_result",
          "data": {
            "text/plain": [
              "tensor(12952.6211, grad_fn=<MeanBackward0>)"
            ]
          },
          "metadata": {},
          "execution_count": 22
        }
      ]
    },
    {
      "cell_type": "code",
      "source": [
        "criterion.dinput #dL/dy"
      ],
      "metadata": {
        "colab": {
          "base_uri": "https://localhost:8080/"
        },
        "id": "kkK7x8j6w5jQ",
        "outputId": "d3be7ba5-e37b-4240-a3ad-624056a60901"
      },
      "id": "kkK7x8j6w5jQ",
      "execution_count": null,
      "outputs": [
        {
          "output_type": "execute_result",
          "data": {
            "text/plain": [
              "tensor([[ -5.4696,  -5.4702,  -5.4869],\n",
              "        [ 26.9101,  26.7492,  26.6984],\n",
              "        [ 14.7580,  14.7989,  14.7282],\n",
              "        [  1.5673,   1.5561,   1.5249],\n",
              "        [-13.4689, -13.6060, -13.5699]], grad_fn=<MulBackward0>)"
            ]
          },
          "metadata": {},
          "execution_count": 23
        }
      ]
    },
    {
      "cell_type": "code",
      "source": [
        "model.dweights #dL/dw"
      ],
      "metadata": {
        "colab": {
          "base_uri": "https://localhost:8080/"
        },
        "id": "CvZ0PEBgxkzp",
        "outputId": "63465d14-45ce-49e7-93c4-f5cfbb6ffcf3"
      },
      "id": "CvZ0PEBgxkzp",
      "execution_count": null,
      "outputs": [
        {
          "output_type": "execute_result",
          "data": {
            "text/plain": [
              "tensor([[ 24.2969,  24.0280,  23.8946],\n",
              "        [-42.8565, -42.5228, -42.4658],\n",
              "        [-61.4147, -61.5861, -61.4010],\n",
              "        [-14.5796, -14.7226, -14.6268],\n",
              "        [-77.9051, -77.7494, -77.5861]], grad_fn=<MmBackward0>)"
            ]
          },
          "metadata": {},
          "execution_count": 24
        }
      ]
    },
    {
      "cell_type": "code",
      "source": [
        "loss.backward()"
      ],
      "metadata": {
        "id": "tKccJL2sxqIJ"
      },
      "id": "tKccJL2sxqIJ",
      "execution_count": null,
      "outputs": []
    },
    {
      "cell_type": "code",
      "source": [
        "model.weights.grad"
      ],
      "metadata": {
        "colab": {
          "base_uri": "https://localhost:8080/"
        },
        "id": "ZJqHf62rxqhZ",
        "outputId": "bed336df-580e-4a1b-8528-051e82288368"
      },
      "id": "ZJqHf62rxqhZ",
      "execution_count": null,
      "outputs": [
        {
          "output_type": "execute_result",
          "data": {
            "text/plain": [
              "tensor([[ 24.2969,  24.0280,  23.8946],\n",
              "        [-42.8565, -42.5228, -42.4658],\n",
              "        [-61.4147, -61.5861, -61.4010],\n",
              "        [-14.5796, -14.7226, -14.6268],\n",
              "        [-77.9051, -77.7494, -77.5861]])"
            ]
          },
          "metadata": {},
          "execution_count": 26
        }
      ]
    },
    {
      "cell_type": "code",
      "source": [
        "model.weights"
      ],
      "metadata": {
        "colab": {
          "base_uri": "https://localhost:8080/"
        },
        "id": "Js_IawTsx0WW",
        "outputId": "cbc8fae2-38b7-4473-b1c6-c9729c251b22"
      },
      "id": "Js_IawTsx0WW",
      "execution_count": null,
      "outputs": [
        {
          "output_type": "execute_result",
          "data": {
            "text/plain": [
              "tensor([[0.8733, 0.5857, 0.3769],\n",
              "        [0.3307, 0.5267, 0.6187],\n",
              "        [0.8031, 0.1304, 0.5542],\n",
              "        [0.8127, 0.7531, 0.6469],\n",
              "        [0.1206, 0.6467, 0.4915]], requires_grad=True)"
            ]
          },
          "metadata": {},
          "execution_count": 27
        }
      ]
    },
    {
      "cell_type": "code",
      "source": [
        "model.dinputs"
      ],
      "metadata": {
        "colab": {
          "base_uri": "https://localhost:8080/"
        },
        "id": "-w1sAYAsx4Eu",
        "outputId": "dd35b7eb-d700-4ba2-a38a-19b3d5fa47bc"
      },
      "id": "-w1sAYAsx4Eu",
      "execution_count": null,
      "outputs": [
        {
          "output_type": "execute_result",
          "data": {
            "text/plain": [
              "tensor([[-10.0488,  -8.0848,  -8.1463, -12.1141,  -6.8944],\n",
              "        [ 49.2317,  39.5068,  39.8937,  59.2851,  33.6682],\n",
              "        [ 27.1078,  21.7877,  21.9431,  32.6662,  18.5902],\n",
              "        [  2.8550,   2.2814,   2.3066,   3.4321,   1.9450],\n",
              "        [-24.8467, -20.0165, -20.1105, -29.9709, -17.0939]],\n",
              "       grad_fn=<MmBackward0>)"
            ]
          },
          "metadata": {},
          "execution_count": 28
        }
      ]
    },
    {
      "cell_type": "code",
      "source": [
        "#у каждого нейрона выход размера batches, значит y_pred размера batches, n_neurons\n",
        "#но размер y_true -  1, batches\n",
        "# (Linear(n_features=1, n_neurons=1).add_ones_col(inputs) @ model.weights).T, y_true, (Linear(n_features=1, n_neurons=1).add_ones_col(inputs) @ model.weights).T - y_true"
      ],
      "metadata": {
        "id": "stvYTRHzsJcp"
      },
      "id": "stvYTRHzsJcp",
      "execution_count": null,
      "outputs": []
    },
    {
      "cell_type": "markdown",
      "id": "4dd34314",
      "metadata": {
        "id": "4dd34314"
      },
      "source": [
        "<p class=\"task\" id=\"4\"></p>\n",
        "\n",
        "4\\. Настройте полносвязный слой, используя метод пакетного градиентного спуска. Используйте обратное распространение ошибки, реализованное самостоятельно. Выведите на экран полученные и правильные коэффициенты модели.\n",
        "\n",
        "- [ ] Проверено на семинаре"
      ]
    },
    {
      "cell_type": "code",
      "source": [
        "from sklearn.datasets import make_regression\n",
        "from torch.utils.data import DataLoader, TensorDataset\n",
        "import torch as th\n",
        "import numpy as np\n",
        "\n",
        "X, y, coef = make_regression(n_features=4, n_informative=4, coef=True, bias=0.5, random_state=42)\n",
        "X = th.FloatTensor(X)\n",
        "y = th.FloatTensor(y).reshape(-1, 1)"
      ],
      "metadata": {
        "id": "RPK7AjsfqYSN"
      },
      "id": "RPK7AjsfqYSN",
      "execution_count": null,
      "outputs": []
    },
    {
      "cell_type": "code",
      "source": [
        "dataset = TensorDataset(X, y)\n",
        "loader = DataLoader(dataset, batch_size=16, shuffle=True)\n",
        "\n",
        "for batch in loader:\n",
        "    features, labels = batch\n",
        "    print(features.shape)\n",
        "    print(labels.shape)\n",
        "    break"
      ],
      "metadata": {
        "colab": {
          "base_uri": "https://localhost:8080/"
        },
        "id": "3vEELeoYrOpL",
        "outputId": "cef926c0-9f5f-4be3-a1f0-714b1ad32eea"
      },
      "id": "3vEELeoYrOpL",
      "execution_count": null,
      "outputs": [
        {
          "output_type": "stream",
          "name": "stdout",
          "text": [
            "torch.Size([16, 4])\n",
            "torch.Size([16, 1])\n"
          ]
        }
      ]
    },
    {
      "cell_type": "code",
      "source": [
        "neuron = Linear(n_features=4, n_neurons=10, grad=False)\n",
        "criterion = MSELoss()\n",
        "lr = 0.005\n",
        "\n",
        "for epoch in range(10):\n",
        "    losses = []\n",
        "    for batch in loader:\n",
        "        features, y_true = batch\n",
        "        #y_true = y_true\n",
        "        y_pred = neuron.forward(features)\n",
        "\n",
        "        loss_i = criterion.forward(y_pred, y_true)\n",
        "        losses.append(loss_i)\n",
        "\n",
        "        criterion.backward(y_pred, y_true)\n",
        "\n",
        "        neuron.backward(features, criterion.dinput)\n",
        "        neuron.weights -= lr * neuron.dweights\n",
        "    print(f\"epoch = {epoch}, mean loss ={np.mean(losses)}\")"
      ],
      "metadata": {
        "colab": {
          "base_uri": "https://localhost:8080/"
        },
        "id": "5mfsw7ROrSSh",
        "outputId": "f9a4f5d0-a495-4161-d1ea-b35ea795046e"
      },
      "id": "5mfsw7ROrSSh",
      "execution_count": null,
      "outputs": [
        {
          "output_type": "stream",
          "name": "stdout",
          "text": [
            "epoch = 0, mean loss =9858.7568359375\n",
            "epoch = 1, mean loss =8996.7431640625\n",
            "epoch = 2, mean loss =10012.4794921875\n",
            "epoch = 3, mean loss =9586.201171875\n",
            "epoch = 4, mean loss =8034.53271484375\n",
            "epoch = 5, mean loss =10119.1337890625\n",
            "epoch = 6, mean loss =7793.953125\n",
            "epoch = 7, mean loss =8524.904296875\n",
            "epoch = 8, mean loss =8570.3662109375\n",
            "epoch = 9, mean loss =8218.91796875\n"
          ]
        }
      ]
    },
    {
      "cell_type": "markdown",
      "id": "27ac3783-1d10-4dd3-a4e9-6dc7d37ef93d",
      "metadata": {
        "id": "27ac3783-1d10-4dd3-a4e9-6dc7d37ef93d"
      },
      "source": [
        "<p class=\"task\" id=\"5\"></p>\n",
        "\n",
        "5\\. Используя решения предыдущих задач, создайте нейросеть и решите задачу регрессии. При наличии корректно реализованных методов `backward` у `Linear` и `MSE` вы можете обобщить процедуру распространения ошибки на любое количество слоев. Реализуйте и обучите модель, состояющую из двух полносвязных слоев:\n",
        "\n",
        "1. Полносвязный слой с 10 нейронами;\n",
        "2. Полносвязный слой с 1 нейроном;\n",
        "\n",
        "Схематично процедура обратного распространения ошибки представлена на рис. ниже.\n",
        "\n",
        "В процессе обучения сохраняйте промежуточные прогнозы моделей. Визуализируйте облако точек и прогнозы модели в начале, середине и после окончания процесса обучения (не обязательно три, можно взять больше промежуточных вариантов).\n",
        "\n",
        "\n",
        "- [ ] Проверено на семинаре"
      ]
    },
    {
      "cell_type": "markdown",
      "id": "7ddc3c41-8a65-481e-89d5-e5cc9a7a82ad",
      "metadata": {
        "id": "7ddc3c41-8a65-481e-89d5-e5cc9a7a82ad"
      },
      "source": [
        "![nn1](data:image/png;base64,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)"
      ]
    },
    {
      "cell_type": "code",
      "source": [
        "import torch as th\n",
        "\n",
        "class Linear:\n",
        "    def __init__(self, n_features: int = 1, n_neurons: int = 1, seed: int | None = None, grad: bool = False, is_dinputs=True):\n",
        "        if seed is not None:\n",
        "            th.manual_seed(seed)\n",
        "        # Добавьте дополнительный вес для сдвига\n",
        "        # задайте requires_grad у этого тензора, чтобы иметь возможность протестировать\n",
        "        # автоматическое дифференцирование от torch\n",
        "        self.weights: TensorType[\"n_features_with_bias\", \"n_neurons\"] = th.rand((n_features+1, n_neurons), requires_grad=grad)\n",
        "        self.is_dinputs = is_dinputs\n",
        "\n",
        "    def add_ones_col(self, inputs: TensorType[\"batch\", \"n_features\"]) -> TensorType[\"batch\", \"n_features_with_bias\"]:\n",
        "        \"\"\"Добавляет столбец из единиц в начало матрицы inputs\"\"\"\n",
        "        nbatches = inputs.shape[0]\n",
        "        first_col = th.ones(nbatches).view(nbatches,1)\n",
        "        inputs_1 = th.cat((first_col, inputs),1)\n",
        "        return inputs_1\n",
        "\n",
        "    def forward(self, inputs: TensorType[\"batch\", \"n_features\"]) -> TensorType[\"batch\", \"n_neurons\"]:\n",
        "        inputs_1 = self.add_ones_col(inputs)\n",
        "        res = inputs_1 @ self.weights\n",
        "        return res\n",
        "\n",
        "    def backward(self, inputs: TensorType[\"batch\", \"n_features\"], dnext: TensorType[\"batch\", \"n_neurons\"]):\n",
        "        #print(self.weights.shape)\n",
        "        inputs_1 = self.add_ones_col(inputs)\n",
        "        self.dweights: TensorType[\"n_features_with_bias\", \"n_neurons\"] = inputs_1.T @ dnext\n",
        "        # self.dbias = dnext\n",
        "        if self.is_dinputs:\n",
        "            self.dinputs = dnext @ self.weights[-1:,:].T"
      ],
      "metadata": {
        "id": "Y8zxjMemMDlA"
      },
      "id": "Y8zxjMemMDlA",
      "execution_count": null,
      "outputs": []
    },
    {
      "cell_type": "code",
      "source": [
        "class MSELoss:\n",
        "    def forward(self, y_pred: TensorType[\"batch\", \"n_neurons\"], y_true: TensorType[\"batch\", \"n_neurons\"]) -> Scalar:\n",
        "        self.loss = ((y_pred-y_true)**2).mean()\n",
        "        return self.loss\n",
        "\n",
        "    def backward(self, y_pred: TensorType[\"batch\", \"n_neurons\"], y_true: TensorType[\"batch\", \"n_neurons\"]) -> None:\n",
        "        k = y_pred.shape[0]\n",
        "        m = y_pred.shape[1]\n",
        "        #print(\"los\", y_pred.shape)\n",
        "        self.dinput: TensorType[\"batch\", \"n_neurons\"] = -2/k/m * (y_true-y_pred)"
      ],
      "metadata": {
        "id": "UE_p-_T7MZSh"
      },
      "id": "UE_p-_T7MZSh",
      "execution_count": null,
      "outputs": []
    },
    {
      "cell_type": "code",
      "execution_count": null,
      "id": "f97c40c0",
      "metadata": {
        "id": "f97c40c0",
        "colab": {
          "base_uri": "https://localhost:8080/"
        },
        "outputId": "e2d911fa-00c6-48f8-a360-cbd363ef9170"
      },
      "outputs": [
        {
          "output_type": "execute_result",
          "data": {
            "text/plain": [
              "(torch.Size([100, 1]), torch.Size([100, 1]))"
            ]
          },
          "metadata": {},
          "execution_count": 68
        }
      ],
      "source": [
        "import torch as th\n",
        "\n",
        "th.manual_seed(42)\n",
        "X = th.linspace(-1, 1, 100).view(-1, 1)\n",
        "y = X.pow(2) + 0.2 * th.rand(X.size())\n",
        "X.shape, y.shape"
      ]
    },
    {
      "cell_type": "code",
      "source": [
        "dataset = TensorDataset(X, y)\n",
        "loader = DataLoader(dataset, batch_size=16, shuffle=True)\n",
        "\n",
        "for batch in loader:\n",
        "    features, labels = batch\n",
        "    print(features.shape)\n",
        "    print(labels.shape)\n",
        "    break"
      ],
      "metadata": {
        "id": "mBzVwiWa4oIr",
        "colab": {
          "base_uri": "https://localhost:8080/"
        },
        "outputId": "14b4d9ed-1ac7-44b0-df1d-b4f063be4138"
      },
      "id": "mBzVwiWa4oIr",
      "execution_count": null,
      "outputs": [
        {
          "output_type": "stream",
          "name": "stdout",
          "text": [
            "torch.Size([16, 1])\n",
            "torch.Size([16, 1])\n"
          ]
        }
      ]
    },
    {
      "cell_type": "code",
      "source": [
        "neuron_1l = Linear(n_features=1, n_neurons=10, grad=False, is_dinputs=False)\n",
        "neuron_2l = Linear(n_features=10, n_neurons=1, grad=False)\n",
        "criterion = MSELoss()\n",
        "lr = 0.001\n",
        "preds = []\n",
        "\n",
        "for epoch in range(1000):\n",
        "    losses = []\n",
        "    for batch in loader:\n",
        "        features, y_true = batch\n",
        "        #y_true = y_true\n",
        "\n",
        "        #forward pass\n",
        "        out_1 = neuron_1l.forward(features) #16,10\n",
        "        out_2 = neuron_2l.forward(out_1) #16,1\n",
        "        #loss func\n",
        "        loss_i = criterion.forward(out_2, y_true) #scalar\n",
        "        losses.append(loss_i)\n",
        "        #backward pass\n",
        "        criterion.backward(out_2, y_true)\n",
        "        neuron_2l.backward(out_1, criterion.dinput) #out_1 (16,10)(11), criterion.dinput (16,1)\n",
        "        neuron_1l.backward(features, neuron_2l.dinputs) #features (16,2), neuron_2l.dinputs(16,11)\n",
        "\n",
        "        #обновление весов\n",
        "        neuron_2l.weights -= lr * neuron_2l.dweights\n",
        "        neuron_1l.weights -= lr * neuron_1l.dweights\n",
        "    if epoch%300==0:\n",
        "        print(f\"epoch = {epoch}, mean loss ={np.mean(losses)}\")\n",
        "        preds.append(out_2)"
      ],
      "metadata": {
        "colab": {
          "base_uri": "https://localhost:8080/"
        },
        "id": "JMXls-CLHdWt",
        "outputId": "fde4b8d4-e155-45e6-c5af-7278215f4ce0"
      },
      "id": "JMXls-CLHdWt",
      "execution_count": null,
      "outputs": [
        {
          "output_type": "stream",
          "name": "stdout",
          "text": [
            "epoch = 0, mean loss =3.0285441875457764\n",
            "epoch = 300, mean loss =0.10223730653524399\n",
            "epoch = 600, mean loss =0.09228386729955673\n",
            "epoch = 900, mean loss =0.10898197442293167\n"
          ]
        }
      ]
    },
    {
      "cell_type": "code",
      "source": [
        "import matplotlib.pyplot as plt\n",
        "#конкретный батч((\n",
        "plt.plot(preds[0], label='0 epoch')\n",
        "plt.plot(preds[1], label='30 epoch')\n",
        "plt.plot(preds[2], label='60 epoch')\n",
        "plt.plot(preds[3], label='90 epoch')\n",
        "\n",
        "plt.legend()\n",
        "plt.show()"
      ],
      "metadata": {
        "colab": {
          "base_uri": "https://localhost:8080/",
          "height": 430
        },
        "id": "XXMrRYAeKZvw",
        "outputId": "273d8961-d52e-4a49-fb9f-1e5beacd4ec1"
      },
      "id": "XXMrRYAeKZvw",
      "execution_count": null,
      "outputs": [
        {
          "output_type": "display_data",
          "data": {
            "text/plain": [
              "<Figure size 640x480 with 1 Axes>"
            ],
            "image/png": "[encoded data removed]"
          },
          "metadata": {}
        }
      ]
    },
    {
      "cell_type": "markdown",
      "id": "b4747371",
      "metadata": {
        "id": "b4747371"
      },
      "source": [
        "<p class=\"task\" id=\"6\"></p>\n",
        "\n",
        "6\\. Модель из предыдущей задачи является линейной и не способна качественно предсказать искомую зависимость. Для того, чтобы сделать модель нелинейной, в нейронных сетях используются функции активации. Для того, чтобы встроить такую функцию в процесс обратного распространения ошибки, необходимо реализовать соответствующий слой с методами `forward` и `backward`.\n",
        "\n",
        "$$\n",
        "f(x) = \\max(0, x)\n",
        "$$\n",
        "\n",
        "$$\n",
        "\\frac{\\partial L}{\\partial x} = \\frac{\\partial L}{\\partial f}\\frac{\\partial f}{\\partial x} = \\frac{\\partial L}{\\partial f}\n",
        "\\begin{cases}\n",
        "1 & \\text{если } x \\ge 0 \\\\\n",
        "0 & \\text{если } x <  0\n",
        "\\end{cases}\n",
        "$$\n",
        "\n",
        "Здесь $L$ - это функция (слой), следующая за ReLU в потоке вычислений.\n",
        "\n",
        "Реализуйте и обучите модель, состояющую из двух полносвязных слоев, разделенных функцией активации ReLU:\n",
        "1. Полносвязный слой с 10 нейронами\n",
        "2. Активация ReLU\n",
        "3. Полносвязный слой с 1 нейроном\n",
        "\n",
        "В процессе обучения сохраняйте промежуточные прогнозы моделей. Визуализируйте облако точек и прогнозы модели в начале, середине и после окончания процесса обучения (не обязательно три, можно взять больше промежуточных вариантов).\n",
        "\n",
        "\n",
        "\n",
        "\n",
        "- [ ] Проверено на семинаре"
      ]
    },
    {
      "cell_type": "markdown",
      "id": "845630cd-f233-4295-9144-a09cdd121bd3",
      "metadata": {
        "id": "845630cd-f233-4295-9144-a09cdd121bd3"
      },
      "source": [
        "![](data:image/png;base64,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)"
      ]
    },
    {
      "cell_type": "code",
      "execution_count": null,
      "id": "650e512f-5539-406f-82a2-b71b56d2abf4",
      "metadata": {
        "id": "650e512f-5539-406f-82a2-b71b56d2abf4"
      },
      "outputs": [],
      "source": [
        "class ReLU:\n",
        "    def forward(self, inputs: TensorType[\"batch\", \"n_features\"]) -> TensorType[\"batch\", \"n_features\"]:\n",
        "        self.relu = th.clamp(inputs, min=0)\n",
        "\n",
        "    def backward(\n",
        "        self,\n",
        "        inputs: TensorType[\"batch\", \"n_features\"],\n",
        "        dvalues: TensorType[\"batch\", \"n_features\"]\n",
        "    ) -> TensorType[\"batch\", \"n_features\"]:\n",
        "        pass"
      ]
    },
    {
      "cell_type": "code",
      "execution_count": null,
      "id": "3567fb22-24e3-4507-851b-8aa326f1bc42",
      "metadata": {
        "id": "3567fb22-24e3-4507-851b-8aa326f1bc42"
      },
      "outputs": [],
      "source": [
        "import torch as th\n",
        "\n",
        "th.manual_seed(42)\n",
        "X = th.linspace(-1, 1, 100).view(-1, 1)\n",
        "y = X.pow(2) + 0.2 * th.rand(X.size())"
      ]
    },
    {
      "cell_type": "code",
      "source": [
        "dataset = TensorDataset(X, y)\n",
        "loader = DataLoader(dataset, batch_size=16, shuffle=True)\n",
        "\n",
        "for batch in loader:\n",
        "    features, labels = batch\n",
        "    print(features.shape)\n",
        "    print(labels.shape)\n",
        "    break"
      ],
      "metadata": {
        "id": "AV4oTanu_ifr"
      },
      "id": "AV4oTanu_ifr",
      "execution_count": null,
      "outputs": []
    },
    {
      "cell_type": "code",
      "source": [
        "neuron_1l = Linear(n_features=1, n_neurons=10, grad=False, is_dinputs=False)\n",
        "act_f = ReLU()\n",
        "neuron_2l = Linear(n_features=10, n_neurons=1, grad=False)\n",
        "criterion = MSELoss()\n",
        "lr = 0.001\n",
        "preds = []\n",
        "\n",
        "for epoch in range(1000):\n",
        "    losses = []\n",
        "    for batch in loader:\n",
        "        features, y_true = batch\n",
        "        #y_true = y_true\n",
        "\n",
        "        #forward pass\n",
        "        out_1 = neuron_1l.forward(features) #16,10\n",
        "        out_2 = act_f.forward(out_1)\n",
        "        out_3 = neuron_2l.forward(out_1) #16,1\n",
        "\n",
        "        #loss func\n",
        "        loss_i = criterion.forward(out_2, y_true) #scalar\n",
        "        losses.append(loss_i)\n",
        "        #backward pass\n",
        "        criterion.backward(out_2, y_true)\n",
        "        neuron_2l.backward(out_1, criterion.dinput) #out_1 (16,10)(11), criterion.dinput (16,1)\n",
        "        neuron_1l.backward(features, neuron_2l.dinputs) #features (16,2), neuron_2l.dinputs(16,11)\n",
        "\n",
        "        #обновление весов\n",
        "        neuron_2l.weights -= lr * neuron_2l.dweights\n",
        "        neuron_1l.weights -= lr * neuron_1l.dweights\n",
        "    if epoch%300==0:\n",
        "        print(f\"epoch = {epoch}, mean loss ={np.mean(losses)}\")\n",
        "        preds.append(out_2)"
      ],
      "metadata": {
        "id": "0TR8O8Jp_eWy"
      },
      "id": "0TR8O8Jp_eWy",
      "execution_count": null,
      "outputs": []
    }
  ],
  "metadata": {
    "kernelspec": {
      "display_name": "Python 3 (ipykernel)",
      "language": "python",
      "name": "python3"
    },
    "language_info": {
      "codemirror_mode": {
        "name": "ipython",
        "version": 3
      },
      "file_extension": ".py",
      "mimetype": "text/x-python",
      "name": "python",
      "nbconvert_exporter": "python",
      "pygments_lexer": "ipython3",
      "version": "3.10.0"
    },
    "colab": {
      "provenance": []
    }
  },
  "nbformat": 4,
  "nbformat_minor": 5
}