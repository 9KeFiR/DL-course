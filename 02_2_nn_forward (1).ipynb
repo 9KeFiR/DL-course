{
  "cells": [
    {
      "cell_type": "markdown",
      "id": "c9ecd663",
      "metadata": {
        "id": "c9ecd663"
      },
      "source": [
        "## Задачи для совместного разбора"
      ]
    },
    {
      "cell_type": "code",
      "execution_count": null,
      "id": "82b6ed92",
      "metadata": {
        "colab": {
          "base_uri": "https://localhost:8080/"
        },
        "id": "82b6ed92",
        "outputId": "d3bcba57-bf11-4f27-80b8-50e3feeb8d63"
      },
      "outputs": [
        {
          "output_type": "stream",
          "name": "stdout",
          "text": [
            "Collecting torchtyping\n",
            "  Downloading torchtyping-0.1.5-py3-none-any.whl.metadata (9.5 kB)\n",
            "Requirement already satisfied: torch>=1.7.0 in /usr/local/lib/python3.10/dist-packages (from torchtyping) (2.4.1+cu121)\n",
            "Collecting typeguard<3,>=2.11.1 (from torchtyping)\n",
            "  Downloading typeguard-2.13.3-py3-none-any.whl.metadata (3.6 kB)\n",
            "Requirement already satisfied: filelock in /usr/local/lib/python3.10/dist-packages (from torch>=1.7.0->torchtyping) (3.16.0)\n",
            "Requirement already satisfied: typing-extensions>=4.8.0 in /usr/local/lib/python3.10/dist-packages (from torch>=1.7.0->torchtyping) (4.12.2)\n",
            "Requirement already satisfied: sympy in /usr/local/lib/python3.10/dist-packages (from torch>=1.7.0->torchtyping) (1.13.2)\n",
            "Requirement already satisfied: networkx in /usr/local/lib/python3.10/dist-packages (from torch>=1.7.0->torchtyping) (3.3)\n",
            "Requirement already satisfied: jinja2 in /usr/local/lib/python3.10/dist-packages (from torch>=1.7.0->torchtyping) (3.1.4)\n",
            "Requirement already satisfied: fsspec in /usr/local/lib/python3.10/dist-packages (from torch>=1.7.0->torchtyping) (2024.6.1)\n",
            "Requirement already satisfied: MarkupSafe>=2.0 in /usr/local/lib/python3.10/dist-packages (from jinja2->torch>=1.7.0->torchtyping) (2.1.5)\n",
            "Requirement already satisfied: mpmath<1.4,>=1.1.0 in /usr/local/lib/python3.10/dist-packages (from sympy->torch>=1.7.0->torchtyping) (1.3.0)\n",
            "Downloading torchtyping-0.1.5-py3-none-any.whl (17 kB)\n",
            "Downloading typeguard-2.13.3-py3-none-any.whl (17 kB)\n",
            "Installing collected packages: typeguard, torchtyping\n",
            "  Attempting uninstall: typeguard\n",
            "    Found existing installation: typeguard 4.3.0\n",
            "    Uninstalling typeguard-4.3.0:\n",
            "      Successfully uninstalled typeguard-4.3.0\n",
            "\u001b[31mERROR: pip's dependency resolver does not currently take into account all the packages that are installed. This behaviour is the source of the following dependency conflicts.\n",
            "inflect 7.4.0 requires typeguard>=4.0.1, but you have typeguard 2.13.3 which is incompatible.\u001b[0m\u001b[31m\n",
            "\u001b[0mSuccessfully installed torchtyping-0.1.5 typeguard-2.13.3\n"
          ]
        }
      ],
      "source": [
        "!pip install torchtyping"
      ]
    },
    {
      "cell_type": "code",
      "execution_count": null,
      "id": "3f7ad9ed",
      "metadata": {
        "id": "3f7ad9ed"
      },
      "outputs": [],
      "source": [
        "from torchtyping import TensorType, patch_typeguard\n",
        "from typeguard import typechecked\n",
        "import torch as th\n",
        "\n",
        "Scalar = TensorType[()]\n",
        "patch_typeguard()"
      ]
    },
    {
      "cell_type": "markdown",
      "id": "a87d01a9",
      "metadata": {
        "id": "a87d01a9"
      },
      "source": [
        "1\\. Используя операции над матрицами и векторами из библиотеки `torch`, реализуйте нейрон с заданными весами `weights` и `bias`. Пропустите вектор `inputs` через нейрон и выведите результат."
      ]
    },
    {
      "cell_type": "code",
      "execution_count": null,
      "id": "bc1b50d5",
      "metadata": {
        "id": "bc1b50d5"
      },
      "outputs": [],
      "source": [
        "class Neuron:\n",
        "    def __init__(self, n_features: int, bias: float) -> None:\n",
        "        # <создать атрибуты объекта weights и bias>\n",
        "        self.weights: TensorType[\"n_features\"] = th.rand(n_features)\n",
        "        self.bias: float = bias\n",
        "\n",
        "    @typechecked\n",
        "    def forward(self, inputs: TensorType[\"n_features\"]) -> Scalar:\n",
        "        return inputs @ self.weights + self.bias\n"
      ]
    },
    {
      "cell_type": "code",
      "execution_count": null,
      "id": "60f299f7",
      "metadata": {
        "id": "60f299f7"
      },
      "outputs": [],
      "source": [
        "import torch as th\n",
        "inputs = th.tensor([1.0, 2.0, 3.0, 4.0])"
      ]
    },
    {
      "cell_type": "code",
      "execution_count": null,
      "id": "bbc5e6f1",
      "metadata": {
        "colab": {
          "base_uri": "https://localhost:8080/"
        },
        "id": "bbc5e6f1",
        "outputId": "b743ba0f-1e9e-4469-b6f6-ea23951f2963"
      },
      "outputs": [
        {
          "output_type": "execute_result",
          "data": {
            "text/plain": [
              "tensor(4.5098)"
            ]
          },
          "metadata": {},
          "execution_count": 15
        }
      ],
      "source": [
        "neuron = Neuron(n_features=4, bias=0.0)\n",
        "neuron.forward(inputs)"
      ]
    },
    {
      "cell_type": "markdown",
      "id": "32e5fe51",
      "metadata": {
        "id": "32e5fe51"
      },
      "source": [
        "2\\. Используя операции над матрицами и векторами из библиотеки `torch`, реализуйте функцию активации ReLU:\n",
        "\n",
        "![](https://wikimedia.org/api/rest_v1/media/math/render/svg/f4353f4e3e484130504049599d2e7b040793e1eb)\n",
        "\n",
        "Создайте матрицу размера (4,3), заполненную числами из стандартного нормального распределения, и проверьте работоспособность функции активации."
      ]
    },
    {
      "cell_type": "code",
      "execution_count": null,
      "id": "4679f4e5",
      "metadata": {
        "id": "4679f4e5"
      },
      "outputs": [],
      "source": [
        "class ReLU:\n",
        "    @typechecked\n",
        "    def forward(self, inputs: TensorType[\"n_features\"]) -> TensorType[\"n_features\"]:\n",
        "        # <реализовать логику ReLU>\n",
        "        return th.clip(inputs, min=0)"
      ]
    },
    {
      "cell_type": "code",
      "source": [
        "inputs = th.tensor([1.0, -2.0, 3.0, -4.0])\n",
        "\n",
        "act = ReLU()\n",
        "act.forward(inputs)"
      ],
      "metadata": {
        "colab": {
          "base_uri": "https://localhost:8080/"
        },
        "id": "1RuvZ2TgWMas",
        "outputId": "84ef10a1-ba60-4fea-965d-1884ecfcb62a"
      },
      "id": "1RuvZ2TgWMas",
      "execution_count": null,
      "outputs": [
        {
          "output_type": "execute_result",
          "data": {
            "text/plain": [
              "tensor([1., 0., 3., 0.])"
            ]
          },
          "metadata": {},
          "execution_count": 18
        }
      ]
    },
    {
      "cell_type": "code",
      "source": [],
      "metadata": {
        "id": "wALlsUZfWPTk"
      },
      "id": "wALlsUZfWPTk",
      "execution_count": null,
      "outputs": []
    },
    {
      "cell_type": "markdown",
      "id": "c6a16748",
      "metadata": {
        "id": "c6a16748"
      },
      "source": [
        "3\\. Используя операции над матрицами и векторами из библиотеки `torch`, реализуйте функцию потерь MSE:\n",
        "\n",
        "![](https://wikimedia.org/api/rest_v1/media/math/render/svg/e258221518869aa1c6561bb75b99476c4734108e)\n",
        "где $Y_i$ - правильный ответ для примера $i$, $\\hat{Y_i}$ - предсказание модели для примера $i$, $n$ - количество примеров в батче."
      ]
    },
    {
      "cell_type": "code",
      "execution_count": null,
      "id": "e046dfa6",
      "metadata": {
        "id": "e046dfa6"
      },
      "outputs": [],
      "source": [
        "class MSELoss:\n",
        "    @typechecked\n",
        "    def forward(\n",
        "        self,\n",
        "        y_pred: TensorType[\"batch\"],\n",
        "        y_true: TensorType[\"batch\"]\n",
        "    ) -> Scalar:\n",
        "        return ((y_pred - y_true)**2).mean()"
      ]
    },
    {
      "cell_type": "code",
      "execution_count": null,
      "id": "e686f8b8",
      "metadata": {
        "id": "e686f8b8"
      },
      "outputs": [],
      "source": [
        "y_pred = th.tensor([1.0, 3.0, 5.0])\n",
        "y_true = th.tensor([2.0, 3.0, 4.0])"
      ]
    },
    {
      "cell_type": "code",
      "source": [
        "criterion = MSELoss()\n",
        "loss = criterion.forward(y_pred, y_true)"
      ],
      "metadata": {
        "id": "GcWmDmF4WwSd"
      },
      "id": "GcWmDmF4WwSd",
      "execution_count": null,
      "outputs": []
    },
    {
      "cell_type": "code",
      "source": [
        "loss"
      ],
      "metadata": {
        "colab": {
          "base_uri": "https://localhost:8080/"
        },
        "id": "zUhEjgT3XAxt",
        "outputId": "1ef9d867-04eb-468f-eab7-fa9104fad6ef"
      },
      "id": "zUhEjgT3XAxt",
      "execution_count": null,
      "outputs": [
        {
          "output_type": "execute_result",
          "data": {
            "text/plain": [
              "tensor(0.6667)"
            ]
          },
          "metadata": {},
          "execution_count": 24
        }
      ]
    },
    {
      "cell_type": "markdown",
      "id": "4d7b6d63",
      "metadata": {
        "id": "4d7b6d63"
      },
      "source": [
        "## Задачи для самостоятельного решения"
      ]
    },
    {
      "cell_type": "markdown",
      "id": "705e742b",
      "metadata": {
        "id": "705e742b"
      },
      "source": [
        "### Cоздание полносвязных слоев"
      ]
    },
    {
      "cell_type": "markdown",
      "id": "36fe867c",
      "metadata": {
        "id": "36fe867c"
      },
      "source": [
        "<p class=\"task\" id=\"1\"></p>\n",
        "\n",
        "1\\. Используя операции над матрицами и векторами из библиотеки `torch`, реализуйте полносвязный слой из `n_neurons` нейронов с `n_features` весами у каждого нейрона (инициализируются из стандартного нормального распределения) и опциональным вектором смещения.\n",
        "\n",
        "$$y = xW^T + b$$\n",
        "\n",
        "Пропустите вектор `inputs` через слой и выведите результат. Результатом прогона сквозь слой должна быть матрица размера `batch_size` x `n_neurons`.\n",
        "\n",
        "- [ ] Проверено на семинаре"
      ]
    },
    {
      "cell_type": "code",
      "execution_count": null,
      "id": "680571a2",
      "metadata": {
        "id": "680571a2"
      },
      "outputs": [],
      "source": [
        "from torchtyping import TensorType, patch_typeguard\n",
        "from typeguard import typechecked\n",
        "import torch as th\n",
        "\n",
        "class Linear:\n",
        "    def __init__(self, n_neurons: int, n_features: int, bias: bool = False) -> None:\n",
        "        self.bias = bias\n",
        "        self.weights = th.normal(mean=0, std=1, size = (n_features, n_neurons))\n",
        "\n",
        "    @typechecked\n",
        "    def forward(self, inputs: TensorType[\"batch\", \"feats\"]) -> TensorType[\"batch\", \"n_neurons\"]:\n",
        "        return inputs @ self.weights + self.bias*th.tensor([0.6, -0.8, 1.4]) #рандомно придумал biases"
      ]
    },
    {
      "cell_type": "code",
      "source": [
        "n_neurons = 3\n",
        "n_features = 4\n",
        "batch_size = 10\n",
        "inputs = th.rand(batch_size*n_features).view(batch_size, n_features)\n",
        "full_con_nn = Linear(n_neurons=n_neurons, n_features=n_features, bias=True)\n",
        "res = full_con_nn.forward(inputs)\n",
        "res, res.shape"
      ],
      "metadata": {
        "id": "OcPKyowEfR2T",
        "colab": {
          "base_uri": "https://localhost:8080/"
        },
        "outputId": "9224c335-d862-42f6-ccbb-f9cc27588162"
      },
      "id": "OcPKyowEfR2T",
      "execution_count": null,
      "outputs": [
        {
          "output_type": "execute_result",
          "data": {
            "text/plain": [
              "(tensor([[-0.8958, -0.8287,  2.3835],\n",
              "         [-0.5842,  0.1199,  2.4194],\n",
              "         [-0.6234, -1.4394,  1.1850],\n",
              "         [ 0.6465,  0.4881,  1.8058],\n",
              "         [-0.4465,  0.8498,  3.0482],\n",
              "         [ 0.7190, -0.8728,  0.9039],\n",
              "         [-0.7341,  0.5472,  3.0789],\n",
              "         [ 0.2042, -0.2248,  1.6952],\n",
              "         [-0.0566, -0.2374,  1.7337],\n",
              "         [ 0.4217, -0.7949,  1.0038]]),\n",
              " torch.Size([10, 3]))"
            ]
          },
          "metadata": {},
          "execution_count": 57
        }
      ]
    },
    {
      "cell_type": "markdown",
      "id": "fad52a4f",
      "metadata": {
        "id": "fad52a4f"
      },
      "source": [
        "<p class=\"task\" id=\"2\"></p>\n",
        "\n",
        "2\\. Используя решение предыдущей задачи, создайте 2 полносвязных слоя и пропустите тензор `inputs` последовательно через эти два слоя. Количество нейронов в первом слое выберите произвольно, количество нейронов во втором слое выберите так, чтобы результатом прогона являлась матрица `batch_size x 7`.\n",
        "\n",
        "- [ ] Проверено на семинаре"
      ]
    },
    {
      "cell_type": "code",
      "source": [
        "from torchtyping import TensorType, patch_typeguard\n",
        "from typeguard import typechecked\n",
        "import torch as th\n",
        "\n",
        "class Linear_2l:\n",
        "    def __init__(self, n_neurons_l1: int, n_neurons_l2: int, n_features: int,\n",
        "                 bias_1l: bool = False, bias_2l: bool = False) -> None:\n",
        "\n",
        "        self.bias_1l = th.rand(n_neurons_l1) if bias_1l else th.zeros(n_neurons_l1)\n",
        "        self.bias_2l = th.rand(n_neurons_l2) if bias_2l else th.zeros(n_neurons_l2)\n",
        "        self.weights_1l = th.normal(mean=0, std=1, size = (n_features, n_neurons_l1))\n",
        "        self.weights_2l = th.normal(mean=0, std=1, size = (n_neurons_l1, n_neurons_l2))\n",
        "\n",
        "    @typechecked\n",
        "    def forward(self, inputs: TensorType[\"batch\", \"feats\"]) -> TensorType[\"batch\", \"n_neurons\"]:\n",
        "        res_1l = inputs @ self.weights_1l + self.bias_1l\n",
        "        res_2l = res_1l @ self.weights_2l + self.bias_2l\n",
        "        return res_2l"
      ],
      "metadata": {
        "id": "0o_iTcRpqVLp"
      },
      "id": "0o_iTcRpqVLp",
      "execution_count": null,
      "outputs": []
    },
    {
      "cell_type": "code",
      "source": [
        "n_neurons_l1 = 2\n",
        "n_neurons_l2 = 7 #тут обязательно 7 по условию\n",
        "n_features = 6\n",
        "batch_size = 4\n",
        "inputs = th.rand(batch_size*n_features).view(batch_size, n_features)\n",
        "full_con_nn_2l = Linear_2l(n_neurons_l1=n_neurons_l1, n_neurons_l2=n_neurons_l2, n_features=n_features, bias_1l=True, bias_2l=True)\n",
        "res = full_con_nn_2l.forward(inputs)\n",
        "res#, res.shape"
      ],
      "metadata": {
        "colab": {
          "base_uri": "https://localhost:8080/"
        },
        "id": "3oAOOGY6tQhq",
        "outputId": "65857bf1-854f-4b76-8095-b43a4d10e45c"
      },
      "id": "3oAOOGY6tQhq",
      "execution_count": null,
      "outputs": [
        {
          "output_type": "execute_result",
          "data": {
            "text/plain": [
              "tensor([[ 4.3778,  3.8988, -1.5195,  0.9480,  1.0634,  1.9334,  2.9248],\n",
              "        [ 1.4512,  1.6516, -1.1110,  0.1027,  0.2805,  0.6870,  1.1737],\n",
              "        [ 8.6687,  5.7959,  0.3427,  2.7702,  2.6324,  3.3726,  5.7171],\n",
              "        [ 7.3554,  6.3539, -2.2326,  1.7375,  1.8090,  3.2485,  4.6793]])"
            ]
          },
          "metadata": {},
          "execution_count": 59
        }
      ]
    },
    {
      "cell_type": "markdown",
      "id": "1f89bb8e",
      "metadata": {
        "id": "1f89bb8e"
      },
      "source": [
        "### Создание функций активации"
      ]
    },
    {
      "cell_type": "markdown",
      "id": "d3c912a6",
      "metadata": {
        "id": "d3c912a6"
      },
      "source": [
        "<p class=\"task\" id=\"3\"></p>\n",
        "\n",
        "3\\. Используя операции над матрицами и векторами из библиотеки `torch`, реализуйте функцию активации softmax:\n",
        "\n",
        "![](https://wikimedia.org/api/rest_v1/media/math/render/svg/6d7500d980c313da83e4117da701bf7c8f1982f5)\n",
        "\n",
        "$$\\overrightarrow{x} = (x_1, ..., x_J)$$\n",
        "\n",
        "Создайте матрицу размера (4,3), заполненную числами из стандартного нормального распределения, и проверьте работоспособность функции активации. Строки матрицы трактовать как выходы линейного слоя некоторого классификатора для 4 различных примеров. Функция должна применяться переданной на вход матрице построчно.\n",
        "\n",
        "- [ ] Проверено на семинаре"
      ]
    },
    {
      "cell_type": "code",
      "source": [
        "from torchtyping import TensorType, patch_typeguard\n",
        "from typeguard import typechecked\n",
        "import torch as th\n",
        "t = th.randn(4,3)\n",
        "t"
      ],
      "metadata": {
        "colab": {
          "base_uri": "https://localhost:8080/"
        },
        "id": "gWprUWLyxdvs",
        "outputId": "70bc27e6-fe9a-4335-dc60-8d18fa65215d"
      },
      "id": "gWprUWLyxdvs",
      "execution_count": null,
      "outputs": [
        {
          "output_type": "execute_result",
          "data": {
            "text/plain": [
              "tensor([[ 0.0729,  0.1240, -0.2653],\n",
              "        [-0.6858,  0.0802,  0.0487],\n",
              "        [ 0.0216, -0.0430, -0.4509],\n",
              "        [-0.0603,  2.2653, -1.6226]])"
            ]
          },
          "metadata": {},
          "execution_count": 60
        }
      ]
    },
    {
      "cell_type": "code",
      "execution_count": null,
      "id": "41ec4062",
      "metadata": {
        "id": "41ec4062"
      },
      "outputs": [],
      "source": [
        "class Softmax:\n",
        "    def forward(self, inputs: TensorType[\"batch\", \"feats\"]) -> TensorType[\"batch\", \"feats\"]:\n",
        "        # <реализовать логику Softmax>\n",
        "        return th.exp(inputs) / th.sum(th.exp(inputs), dim=1, keepdim=True)"
      ]
    },
    {
      "cell_type": "code",
      "source": [
        "act_f = Softmax()\n",
        "act_f.forward(t)"
      ],
      "metadata": {
        "colab": {
          "base_uri": "https://localhost:8080/"
        },
        "id": "Ha0-4-gm1JV0",
        "outputId": "d850e5a6-f66c-4721-c406-77dac8b853d1"
      },
      "id": "Ha0-4-gm1JV0",
      "execution_count": null,
      "outputs": [
        {
          "output_type": "execute_result",
          "data": {
            "text/plain": [
              "tensor([[0.3616, 0.3805, 0.2578],\n",
              "        [0.1910, 0.4109, 0.3981],\n",
              "        [0.3905, 0.3660, 0.2435],\n",
              "        [0.0874, 0.8943, 0.0183]])"
            ]
          },
          "metadata": {},
          "execution_count": 62
        }
      ]
    },
    {
      "cell_type": "markdown",
      "id": "1a8acbae",
      "metadata": {
        "id": "1a8acbae"
      },
      "source": [
        "<p class=\"task\" id=\"4\"></p>\n",
        "\n",
        "4 Используя операции над матрицами и векторами из библиотеки `torch`, реализуйте функцию активации ELU:\n",
        "\n",
        "![](https://wikimedia.org/api/rest_v1/media/math/render/svg/eb23becd37c3602c4838e53f532163279192e4fd)\n",
        "\n",
        "Создайте матрицу размера 4x3, заполненную числами из стандартного нормального распределения, и проверьте работоспособность функции активации.\n",
        "\n",
        "- [ ] Проверено на семинаре"
      ]
    },
    {
      "cell_type": "code",
      "execution_count": null,
      "id": "998b3675",
      "metadata": {
        "id": "998b3675"
      },
      "outputs": [],
      "source": [
        "class ELU:\n",
        "    def __init__(self, alpha: float) -> None:\n",
        "        self.alpha = alpha\n",
        "\n",
        "    def forward(self, inputs: TensorType[\"batch\", \"feats\"]) -> TensorType[\"batch\", \"feats\"]:\n",
        "        return th.where(inputs >= 0, inputs, self.alpha * (th.exp(inputs) - 1))"
      ]
    },
    {
      "cell_type": "code",
      "source": [
        "from torchtyping import TensorType, patch_typeguard\n",
        "from typeguard import typechecked\n",
        "import torch as th\n",
        "t = th.randn(4,3)\n",
        "t"
      ],
      "metadata": {
        "colab": {
          "base_uri": "https://localhost:8080/"
        },
        "id": "ETxsRW6ffc3H",
        "outputId": "a8ec2468-b332-44d8-e072-463e92c7fa04"
      },
      "id": "ETxsRW6ffc3H",
      "execution_count": null,
      "outputs": [
        {
          "output_type": "execute_result",
          "data": {
            "text/plain": [
              "tensor([[ 0.7398, -0.9962, -0.0978],\n",
              "        [-0.9853,  0.2535,  1.2366],\n",
              "        [-1.0912,  1.6241, -1.1559],\n",
              "        [-0.0855, -0.9903,  0.6626]])"
            ]
          },
          "metadata": {},
          "execution_count": 64
        }
      ]
    },
    {
      "cell_type": "code",
      "source": [
        "act_f = ELU(alpha=0.3)\n",
        "act_f.forward(t)"
      ],
      "metadata": {
        "colab": {
          "base_uri": "https://localhost:8080/"
        },
        "id": "mOsF44zafDGA",
        "outputId": "d3674def-90b4-4a96-cd0c-4e24e783c299"
      },
      "id": "mOsF44zafDGA",
      "execution_count": null,
      "outputs": [
        {
          "output_type": "execute_result",
          "data": {
            "text/plain": [
              "tensor([[ 0.7398, -0.1892, -0.0279],\n",
              "        [-0.1880,  0.2535,  1.2366],\n",
              "        [-0.1993,  1.6241, -0.2056],\n",
              "        [-0.0246, -0.1886,  0.6626]])"
            ]
          },
          "metadata": {},
          "execution_count": 65
        }
      ]
    },
    {
      "cell_type": "markdown",
      "id": "aa02fb0d",
      "metadata": {
        "id": "aa02fb0d"
      },
      "source": [
        "### Создание функции потерь"
      ]
    },
    {
      "cell_type": "markdown",
      "id": "bab7e56a",
      "metadata": {
        "id": "bab7e56a"
      },
      "source": [
        "<p class=\"task\" id=\"5\"></p>\n",
        "\n",
        "5 Используя операции над матрицами и векторами из библиотеки `torch`, реализуйте функцию потерь CrossEntropyLoss:\n",
        "\n",
        "$$y_i = (y_{i,1},...,y_{i,k})$$\n",
        "\n",
        "<img src=\"https://i.ibb.co/93gy1dN/Screenshot-9.png\" width=\"200\">\n",
        "\n",
        "$$ CrossEntropyLoss = \\frac{1}{n}\\sum_{i=1}^{n}{L_i}$$\n",
        "где $y_i$ - вектор правильных ответов для примера $i$, $\\hat{y_i}$ - вектор предсказаний модели для примера $i$; $k$ - количество классов, $n$ - количество примеров в батче.\n",
        "\n",
        "Создайте полносвязный слой с 2 нейронами и прогнать через него батч `inputs`. Полученный результат пропустите через функцию активации Softmax. Посчитайте значение функции потерь, трактуя вектор `y` как вектор правильных ответов.\n",
        "\n",
        "- [ ] Проверено на семинаре"
      ]
    },
    {
      "cell_type": "code",
      "execution_count": null,
      "id": "f683f102",
      "metadata": {
        "id": "f683f102"
      },
      "outputs": [],
      "source": [
        "from torchtyping import TensorType, patch_typeguard\n",
        "from typeguard import typechecked\n",
        "import torch as th\n",
        "\n",
        "class CrossEntropyLoss:\n",
        "    def forward(\n",
        "      self,\n",
        "      y_pred: TensorType[\"batch\", \"n_neurons\", float],\n",
        "      y_true: TensorType[\"batch\", float]\n",
        "    ):\n",
        "    # <реализовать логику функции потерь>\n",
        "        loss =  -(y_true*th.log(y_pred)).mean()\n",
        "        return loss"
      ]
    },
    {
      "cell_type": "code",
      "source": [
        "class Linear_1l:\n",
        "    def __init__(self, n_neurons: int, n_features: int, bias: bool = False) -> None:\n",
        "        self.bias = th.rand(n_neurons_l1) if bias else th.zeros(n_neurons_l1)\n",
        "        self.weights = th.normal(mean=0, std=1, size = (n_features, n_neurons))\n",
        "\n",
        "    @typechecked\n",
        "    def forward(self, inputs: TensorType[\"batch\", \"feats\"]) -> TensorType[\"batch\", \"n_neurons\"]:\n",
        "        res = inputs @ self.weights + self.bias\n",
        "        return res"
      ],
      "metadata": {
        "id": "u5K7NxHswni7"
      },
      "id": "u5K7NxHswni7",
      "execution_count": null,
      "outputs": []
    },
    {
      "cell_type": "code",
      "source": [
        "n_neurons = 2\n",
        "n_features = 4\n",
        "batch_size = 5\n",
        "inputs = th.rand(batch_size*n_features).view(batch_size, n_features)\n",
        "full_con_nn = Linear_1l(n_neurons=n_neurons, n_features=n_features, bias=True)\n",
        "res_nn = full_con_nn.forward(inputs)\n",
        "res_nn"
      ],
      "metadata": {
        "colab": {
          "base_uri": "https://localhost:8080/"
        },
        "id": "5gGsPUQ0-1ty",
        "outputId": "c1e552d6-1197-4ce0-acff-ce8d710aef6f"
      },
      "id": "5gGsPUQ0-1ty",
      "execution_count": null,
      "outputs": [
        {
          "output_type": "execute_result",
          "data": {
            "text/plain": [
              "tensor([[-0.0846,  1.7593],\n",
              "        [ 0.1109,  1.8966],\n",
              "        [ 0.6373,  1.5660],\n",
              "        [ 0.5746,  0.4391],\n",
              "        [-0.2582,  1.2159]])"
            ]
          },
          "metadata": {},
          "execution_count": 68
        }
      ]
    },
    {
      "cell_type": "code",
      "source": [
        "act_f = Softmax()\n",
        "res_act = act_f.forward(res_nn)\n",
        "res_act"
      ],
      "metadata": {
        "colab": {
          "base_uri": "https://localhost:8080/"
        },
        "id": "6JI_iTnQIJZ1",
        "outputId": "5ac8dd80-37ae-40df-b131-267764762ee9"
      },
      "id": "6JI_iTnQIJZ1",
      "execution_count": null,
      "outputs": [
        {
          "output_type": "execute_result",
          "data": {
            "text/plain": [
              "tensor([[0.1366, 0.8634],\n",
              "        [0.1436, 0.8564],\n",
              "        [0.2832, 0.7168],\n",
              "        [0.5338, 0.4662],\n",
              "        [0.1863, 0.8137]])"
            ]
          },
          "metadata": {},
          "execution_count": 69
        }
      ]
    },
    {
      "cell_type": "code",
      "source": [
        "y_true = th.randn(batch_size).view(5,1)\n",
        "y_true"
      ],
      "metadata": {
        "id": "cLMLeo4gtlgd",
        "colab": {
          "base_uri": "https://localhost:8080/"
        },
        "outputId": "11a209b7-45f2-4a71-a742-7b1b0088247f"
      },
      "id": "cLMLeo4gtlgd",
      "execution_count": null,
      "outputs": [
        {
          "output_type": "execute_result",
          "data": {
            "text/plain": [
              "tensor([[ 0.6510],\n",
              "        [ 0.7342],\n",
              "        [-2.5981],\n",
              "        [ 0.0971],\n",
              "        [ 0.0945]])"
            ]
          },
          "metadata": {},
          "execution_count": 70
        }
      ]
    },
    {
      "cell_type": "code",
      "source": [
        "criterion = CrossEntropyLoss()\n",
        "loss = criterion.forward(res_act, y_true)\n",
        "loss"
      ],
      "metadata": {
        "colab": {
          "base_uri": "https://localhost:8080/"
        },
        "id": "ox7Pfk_tPWyL",
        "outputId": "b34fb072-b60c-494f-810a-62d15707bb80"
      },
      "id": "ox7Pfk_tPWyL",
      "execution_count": null,
      "outputs": [
        {
          "output_type": "execute_result",
          "data": {
            "text/plain": [
              "tensor(-0.0899)"
            ]
          },
          "metadata": {},
          "execution_count": 71
        }
      ]
    },
    {
      "cell_type": "markdown",
      "id": "7c9c82a1",
      "metadata": {
        "id": "7c9c82a1"
      },
      "source": [
        "<p class=\"task\" id=\"6\"></p>\n",
        "\n",
        "6 Модифицируйте MSE, добавив L2-регуляризацию.\n",
        "\n",
        "$$MSE_R = MSE + \\lambda\\sum_{i=1}^{m}w_i^2$$\n",
        "\n",
        "где $\\lambda$ - коэффициент регуляризации; $w_i$ - веса модели.\n",
        "\n",
        "- [ ] Проверено на семинаре"
      ]
    },
    {
      "cell_type": "code",
      "execution_count": null,
      "id": "b1f858a9",
      "metadata": {
        "id": "b1f858a9"
      },
      "outputs": [],
      "source": [
        "from torchtyping import TensorType, patch_typeguard\n",
        "from typeguard import typechecked\n",
        "import torch as th\n",
        "\n",
        "class Scalar:\n",
        "    pass\n",
        "\n",
        "class MSERegularized:\n",
        "    def __init__(self, lambda_: float) -> None:\n",
        "        self.lambda_ = lambda_\n",
        "\n",
        "    def data_loss(\n",
        "        self,\n",
        "        y_pred: TensorType[\"batch\"],\n",
        "        y_true: TensorType[\"batch\"],\n",
        "    ) -> Scalar:\n",
        "        # <подсчет первого слагаемого из формулы>\n",
        "        return ((y_true-y_pred)**2).mean()\n",
        "\n",
        "    def reg_loss(self, weights: TensorType[\"batch\", 1])  -> Scalar:\n",
        "        # <подсчет второго слагаемого из формулы>\n",
        "        return self.lambda_ * sum(weights**2)\n",
        "\n",
        "    def forward(\n",
        "        self,\n",
        "        y_pred: TensorType[\"batch\"],\n",
        "        y_true: TensorType[\"batch\"],\n",
        "        weights: TensorType[\"batch\", 1],\n",
        "    ) -> Scalar:\n",
        "        return self.data_loss(y_pred, y_true) + self.lambda_ * self.reg_loss(weights)"
      ]
    },
    {
      "cell_type": "code",
      "source": [
        "y_pred = th.tensor([1.0, 3.0, 5.0])\n",
        "y_true = th.tensor([2.0, 3.0, 4.0])\n",
        "weights = th.tensor([0.1, 0.7, -0.2])\n",
        "criterion = MSERegularized(0.2)\n",
        "loss = criterion.forward(y_pred, y_true, weights)\n",
        "loss"
      ],
      "metadata": {
        "colab": {
          "base_uri": "https://localhost:8080/"
        },
        "id": "P-cl2OUiZNiK",
        "outputId": "8460916d-06dd-4462-a10f-1bae88f7ca57"
      },
      "id": "P-cl2OUiZNiK",
      "execution_count": null,
      "outputs": [
        {
          "output_type": "execute_result",
          "data": {
            "text/plain": [
              "tensor(0.6883)"
            ]
          },
          "metadata": {},
          "execution_count": 78
        }
      ]
    }
  ],
  "metadata": {
    "kernelspec": {
      "display_name": "Python 3 (ipykernel)",
      "language": "python",
      "name": "python3"
    },
    "language_info": {
      "codemirror_mode": {
        "name": "ipython",
        "version": 3
      },
      "file_extension": ".py",
      "mimetype": "text/x-python",
      "name": "python",
      "nbconvert_exporter": "python",
      "pygments_lexer": "ipython3",
      "version": "3.10.0"
    },
    "colab": {
      "provenance": []
    }
  },
  "nbformat": 4,
  "nbformat_minor": 5
}