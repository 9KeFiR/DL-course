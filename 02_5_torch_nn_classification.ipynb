{
  "cells": [
    {
      "cell_type": "markdown",
      "id": "c9ecd663",
      "metadata": {
        "id": "c9ecd663"
      },
      "source": [
        "## Задачи для совместного разбора"
      ]
    },
    {
      "cell_type": "code",
      "execution_count": null,
      "id": "a6556a30-101d-4516-b3f0-14ac7d8f26b6",
      "metadata": {
        "id": "a6556a30-101d-4516-b3f0-14ac7d8f26b6"
      },
      "outputs": [],
      "source": [
        "# from torchtyping import TensorType, patch_typeguard\n",
        "# from typeguard import typechecked\n",
        "import torch as th\n",
        "\n",
        "# Scalar = TensorType[()]\n",
        "# patch_typeguard()"
      ]
    },
    {
      "cell_type": "markdown",
      "id": "15783ef7-742a-426d-8cb7-dfc8f7b11685",
      "metadata": {
        "id": "15783ef7-742a-426d-8cb7-dfc8f7b11685"
      },
      "source": [
        "1\\. Обсудите подходы к решению задачи классификации на примере синтетического датасета."
      ]
    },
    {
      "cell_type": "code",
      "source": [
        "num_samples = 1000\n",
        "num_features = 10\n",
        "num_classes = 3\n",
        "\n",
        "X = th.randn(num_samples, num_features)\n",
        "y = th.randint(0, num_classes, (num_samples, ))"
      ],
      "metadata": {
        "id": "lZg6RPBTaBr6"
      },
      "id": "lZg6RPBTaBr6",
      "execution_count": null,
      "outputs": []
    },
    {
      "cell_type": "code",
      "source": [
        "import torch.nn as nn\n",
        "\n",
        "class Classifier(nn.Module):\n",
        "  def __init__(self, n_inputs: int, n_classes: int) -> None:\n",
        "    super().__init__()\n",
        "    self.fc1 = nn.Linear(n_inputs, n_classes)\n",
        "\n",
        "  def forward(self, X: th.Tensor) -> th.Tensor:\n",
        "    return self.fc1(X)"
      ],
      "metadata": {
        "id": "0k9PklvNagUL"
      },
      "id": "0k9PklvNagUL",
      "execution_count": null,
      "outputs": []
    },
    {
      "cell_type": "code",
      "source": [
        "model = Classifier(num_features, num_classes)\n",
        "preds = model(X)\n",
        "preds.shape"
      ],
      "metadata": {
        "colab": {
          "base_uri": "https://localhost:8080/"
        },
        "id": "1-W1ZPbqa7JT",
        "outputId": "02c7a4af-569c-4405-a83d-a2f7a61ff2ba"
      },
      "id": "1-W1ZPbqa7JT",
      "execution_count": null,
      "outputs": [
        {
          "output_type": "execute_result",
          "data": {
            "text/plain": [
              "torch.Size([1000, 3])"
            ]
          },
          "metadata": {},
          "execution_count": 24
        }
      ]
    },
    {
      "cell_type": "code",
      "source": [
        "preds[:5]"
      ],
      "metadata": {
        "colab": {
          "base_uri": "https://localhost:8080/"
        },
        "id": "KEfNxWJObEXz",
        "outputId": "23bbe6c2-6a04-4e64-9362-9d627454b6e9"
      },
      "id": "KEfNxWJObEXz",
      "execution_count": null,
      "outputs": [
        {
          "output_type": "execute_result",
          "data": {
            "text/plain": [
              "tensor([[-0.8924,  1.3202, -0.6932],\n",
              "        [ 0.6467, -1.1694,  0.6704],\n",
              "        [ 0.7910, -0.4342, -1.0113],\n",
              "        [ 0.2818, -0.4795, -0.3514],\n",
              "        [ 0.4975,  0.5136, -1.6997]], grad_fn=<SliceBackward0>)"
            ]
          },
          "metadata": {},
          "execution_count": 25
        }
      ]
    },
    {
      "cell_type": "code",
      "source": [
        "preds.argmax(dim=1)[:5]"
      ],
      "metadata": {
        "colab": {
          "base_uri": "https://localhost:8080/"
        },
        "id": "brbmtblPdzBh",
        "outputId": "78de8aca-80e3-4143-d543-190dd50c7fc5"
      },
      "id": "brbmtblPdzBh",
      "execution_count": null,
      "outputs": [
        {
          "output_type": "execute_result",
          "data": {
            "text/plain": [
              "tensor([1, 2, 0, 0, 1])"
            ]
          },
          "metadata": {},
          "execution_count": 27
        }
      ]
    },
    {
      "cell_type": "code",
      "source": [
        "y[:5]"
      ],
      "metadata": {
        "colab": {
          "base_uri": "https://localhost:8080/"
        },
        "id": "5EwNO_n6bnTc",
        "outputId": "b4f5de90-5970-453c-9745-be70b50ae137"
      },
      "id": "5EwNO_n6bnTc",
      "execution_count": null,
      "outputs": [
        {
          "output_type": "execute_result",
          "data": {
            "text/plain": [
              "tensor([2, 0, 2, 0, 2])"
            ]
          },
          "metadata": {},
          "execution_count": 11
        }
      ]
    },
    {
      "cell_type": "code",
      "source": [
        "criterion = nn.CrossEntropyLoss()\n",
        "loss = criterion(preds, y)"
      ],
      "metadata": {
        "colab": {
          "base_uri": "https://localhost:8080/"
        },
        "id": "3OVz8d9TbHDK",
        "outputId": "634327f1-f028-496b-b651-a01398c4707a"
      },
      "id": "3OVz8d9TbHDK",
      "execution_count": null,
      "outputs": [
        {
          "output_type": "execute_result",
          "data": {
            "text/plain": [
              "tensor(1.1765, grad_fn=<NllLossBackward0>)"
            ]
          },
          "metadata": {},
          "execution_count": 12
        }
      ]
    },
    {
      "cell_type": "code",
      "source": [
        "num_samples = 1000\n",
        "num_features = 10\n",
        "num_classes = 2\n",
        "\n",
        "X = th.randn(num_samples, num_features)\n",
        "y = th.randint(0, num_classes, (num_samples, ))"
      ],
      "metadata": {
        "id": "5z84onZ4cY_p"
      },
      "id": "5z84onZ4cY_p",
      "execution_count": null,
      "outputs": []
    },
    {
      "cell_type": "code",
      "source": [],
      "metadata": {
        "id": "FAfq3aO6dXt4"
      },
      "id": "FAfq3aO6dXt4",
      "execution_count": null,
      "outputs": []
    },
    {
      "cell_type": "code",
      "source": [
        "import torch.nn as nn\n",
        "\n",
        "class Classifier(nn.Module):\n",
        "  def __init__(self, n_inputs: int, n_classes: int) -> None:\n",
        "    super().__init__()\n",
        "    self.fc1 = nn.Linear(n_inputs, n_classes)\n",
        "\n",
        "  def forward(self, X: th.Tensor) -> th.Tensor:\n",
        "    return self.fc1(X)"
      ],
      "metadata": {
        "id": "hzgNg2m2ciDH"
      },
      "id": "hzgNg2m2ciDH",
      "execution_count": null,
      "outputs": []
    },
    {
      "cell_type": "code",
      "source": [
        "model = Classifier(num_features, 1)\n",
        "preds = model(X)"
      ],
      "metadata": {
        "id": "F8LQdUcXcoFo"
      },
      "id": "F8LQdUcXcoFo",
      "execution_count": null,
      "outputs": []
    },
    {
      "cell_type": "code",
      "source": [
        "preds.shape"
      ],
      "metadata": {
        "colab": {
          "base_uri": "https://localhost:8080/"
        },
        "id": "H0j7ykwKdRhA",
        "outputId": "33405c93-2f7a-4b5b-c904-67709847f367"
      },
      "id": "H0j7ykwKdRhA",
      "execution_count": null,
      "outputs": [
        {
          "output_type": "execute_result",
          "data": {
            "text/plain": [
              "torch.Size([1000, 1])"
            ]
          },
          "metadata": {},
          "execution_count": 31
        }
      ]
    },
    {
      "cell_type": "code",
      "source": [
        "preds.sigmoid()[:5]"
      ],
      "metadata": {
        "colab": {
          "base_uri": "https://localhost:8080/"
        },
        "id": "MN4-knrueApQ",
        "outputId": "d3904659-7c3c-4a18-c7d8-5ca0a846f370"
      },
      "id": "MN4-knrueApQ",
      "execution_count": null,
      "outputs": [
        {
          "output_type": "execute_result",
          "data": {
            "text/plain": [
              "tensor([[0.7246],\n",
              "        [0.2931],\n",
              "        [0.4752],\n",
              "        [0.6542],\n",
              "        [0.3030]], grad_fn=<SliceBackward0>)"
            ]
          },
          "metadata": {},
          "execution_count": 33
        }
      ]
    },
    {
      "cell_type": "code",
      "source": [
        "(preds.sigmoid() >= 0.5)[:5]"
      ],
      "metadata": {
        "colab": {
          "base_uri": "https://localhost:8080/"
        },
        "id": "eMlg15CPeM_A",
        "outputId": "3697f291-de2c-4e47-e157-9d48c8b4bc23"
      },
      "id": "eMlg15CPeM_A",
      "execution_count": null,
      "outputs": [
        {
          "output_type": "execute_result",
          "data": {
            "text/plain": [
              "tensor([[ True],\n",
              "        [False],\n",
              "        [False],\n",
              "        [ True],\n",
              "        [False]])"
            ]
          },
          "metadata": {},
          "execution_count": 35
        }
      ]
    },
    {
      "cell_type": "code",
      "source": [
        "y[:5]"
      ],
      "metadata": {
        "colab": {
          "base_uri": "https://localhost:8080/"
        },
        "id": "BhZQy383dYaA",
        "outputId": "c73f69e9-f337-4b6c-f8d9-60c709dc710d"
      },
      "id": "BhZQy383dYaA",
      "execution_count": null,
      "outputs": [
        {
          "output_type": "execute_result",
          "data": {
            "text/plain": [
              "tensor([1, 0, 0, 1, 0])"
            ]
          },
          "metadata": {},
          "execution_count": 18
        }
      ]
    },
    {
      "cell_type": "code",
      "source": [
        "criterion = nn.BCEWithLogitsLoss()\n",
        "\n",
        "criterion(preds.flatten(), y.float())"
      ],
      "metadata": {
        "colab": {
          "base_uri": "https://localhost:8080/"
        },
        "id": "TID-Nzr0cv3P",
        "outputId": "4e92c328-7e05-42a0-abd9-db4d0a00fbe3"
      },
      "id": "TID-Nzr0cv3P",
      "execution_count": null,
      "outputs": [
        {
          "output_type": "execute_result",
          "data": {
            "text/plain": [
              "tensor(0.7429, grad_fn=<BinaryCrossEntropyWithLogitsBackward0>)"
            ]
          },
          "metadata": {},
          "execution_count": 19
        }
      ]
    },
    {
      "cell_type": "markdown",
      "id": "4d7b6d63",
      "metadata": {
        "id": "4d7b6d63"
      },
      "source": [
        "## Задачи для самостоятельного решения"
      ]
    },
    {
      "cell_type": "markdown",
      "id": "608cb594-1262-4d44-9c19-35df00f4335e",
      "metadata": {
        "id": "608cb594-1262-4d44-9c19-35df00f4335e"
      },
      "source": [
        "<p class=\"task\" id=\"1\"></p>\n",
        "\n",
        "1\\. Используя реализацию полносвязного слоя из `torch.nn`, решите задачу классификации. Разделите датасет на обучающую и тестовую выборку в соотношении 80% на 20%. В качестве функции потерь используйте реализацию `CrossEntropyLoss` из `torch.nn`. Для настройки весов реализуйте мини-пакетный градиентный спуск с использованием `torch.optim.SGD`.\n",
        "\n",
        "Используйте модель, состоящую из двух слоев:\n",
        "1. Полносвязный слой с 10 нейронами;\n",
        "2. Полносвязный слой с 2 нейронами.\n",
        "\n",
        "Выведите график изменения значения функции потерь в процессе обучения. Выведите на экран значения Accuracy, Precision, Recall и F1 для обучающего и тестового множества.\n",
        "\n",
        "Выведите на экран облако точек с цветом, соответствующим предсказаниям модели на всем датасете (и обучающей, и тестовой части).\n",
        "\n",
        "- [ ] Проверено на семинаре\n"
      ]
    },
    {
      "cell_type": "code",
      "execution_count": null,
      "id": "5b4d0cb1-621f-406a-b362-01ceadd568da",
      "metadata": {
        "id": "5b4d0cb1-621f-406a-b362-01ceadd568da"
      },
      "outputs": [],
      "source": [
        "from sklearn.datasets import make_circles\n",
        "import torch as th\n",
        "import torch.nn as nn\n",
        "import torch.optim as optim\n",
        "\n",
        "X, y = make_circles(n_samples=1000, noise=0.05, random_state=42)\n",
        "X = th.FloatTensor(X)\n",
        "y = th.LongTensor(y)"
      ]
    },
    {
      "cell_type": "code",
      "source": [
        "from sklearn.model_selection import train_test_split\n",
        "X_train, X_test, y_train, y_test = train_test_split(X,y, test_size=0.2)\n",
        "X_train.shape, X_test.shape, y_train.shape, y_test.shape"
      ],
      "metadata": {
        "colab": {
          "base_uri": "https://localhost:8080/"
        },
        "id": "inDG9UdYrBt6",
        "outputId": "35356eb5-2ada-4c90-c42a-9b881d1bce73"
      },
      "id": "inDG9UdYrBt6",
      "execution_count": null,
      "outputs": [
        {
          "output_type": "execute_result",
          "data": {
            "text/plain": [
              "(torch.Size([800, 2]),\n",
              " torch.Size([200, 2]),\n",
              " torch.Size([800]),\n",
              " torch.Size([200]))"
            ]
          },
          "metadata": {},
          "execution_count": 9
        }
      ]
    },
    {
      "cell_type": "code",
      "source": [
        "model = nn.Sequantial(\n",
        "    nn.Linear(in_features=2, out_features=10),\n",
        "    nn.Linear(in_features=10, out_features=2)\n",
        ")\n",
        "criterion = nn.CrossEntropyLoss()\n",
        "optimizer = optim()"
      ],
      "metadata": {
        "id": "_bwHp73HnKRY"
      },
      "id": "_bwHp73HnKRY",
      "execution_count": null,
      "outputs": []
    },
    {
      "cell_type": "code",
      "source": [],
      "metadata": {
        "id": "YafkLxLWnLqD"
      },
      "id": "YafkLxLWnLqD",
      "execution_count": null,
      "outputs": []
    },
    {
      "cell_type": "markdown",
      "id": "0f181096-a271-4bd8-819e-2bb122817b5f",
      "metadata": {
        "id": "0f181096-a271-4bd8-819e-2bb122817b5f"
      },
      "source": [
        "<p class=\"task\" id=\"2\"></p>\n",
        "\n",
        "2\\. Повторите задачу 1, используя другую архитектуру нейронной сети.\n",
        "\n",
        "1. Полносвязный слой с 10 нейронами;\n",
        "2. Функция активации ReLU;\n",
        "3. Полносвязный слой с 2 нейронами.\n",
        "\n",
        "- [ ] Проверено на семинаре"
      ]
    },
    {
      "cell_type": "markdown",
      "id": "ef943f6a-16e7-46b3-9cdf-17f6c4fa22e7",
      "metadata": {
        "id": "ef943f6a-16e7-46b3-9cdf-17f6c4fa22e7"
      },
      "source": [
        "<p class=\"task\" id=\"3\"></p>\n",
        "\n",
        "3\\. `CrossEntropyLoss` может быть использована для задачи классификации на любое количество классов. Для задачи бинарной классификации существуют специфические функции потерь. Решите задачу 2, используя `BCEWithLogitsLoss` в качестве функции потерь.\n",
        "\n",
        "- [ ] Проверено на семинаре"
      ]
    },
    {
      "cell_type": "markdown",
      "id": "47f22e3b-3d63-42df-b46c-1b30f70e1452",
      "metadata": {
        "id": "47f22e3b-3d63-42df-b46c-1b30f70e1452"
      },
      "source": [
        "<p class=\"task\" id=\"4\"></p>\n",
        "\n",
        "4\\. На практике часто задача классификации является несбалансированной. В файлах каталога `imb_task` содержится несбалансированный набор данных. Обучите модель без учета несбалансированности классов (аналогично предыдущим заданиям, можно использовать любую подходящую функцию потерь). Повысьте качество модели (в смысле F1) путем модификации функции потерь (указания специального аргумента, позволяющего учесть несбалансированность классов).\n",
        "\n",
        "- [ ] Проверено на семинаре"
      ]
    },
    {
      "cell_type": "markdown",
      "id": "7032bc75-b3e6-42dc-a85e-b2005cac80c3",
      "metadata": {
        "id": "7032bc75-b3e6-42dc-a85e-b2005cac80c3"
      },
      "source": [
        "<p class=\"task\" id=\"5\"></p>\n",
        "\n",
        "5\\. Повторите решение задачи 4, повысив качество модели за счет использования `WeightedRandomSampler` вместо модификации функции потерь.\n",
        "\n",
        "- [ ] Проверено на семинаре"
      ]
    }
  ],
  "metadata": {
    "kernelspec": {
      "display_name": "Python 3 (ipykernel)",
      "language": "python",
      "name": "python3"
    },
    "language_info": {
      "codemirror_mode": {
        "name": "ipython",
        "version": 3
      },
      "file_extension": ".py",
      "mimetype": "text/x-python",
      "name": "python",
      "nbconvert_exporter": "python",
      "pygments_lexer": "ipython3",
      "version": "3.10.0"
    },
    "colab": {
      "provenance": []
    }
  },
  "nbformat": 4,
  "nbformat_minor": 5
}